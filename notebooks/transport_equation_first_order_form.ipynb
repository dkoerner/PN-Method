{
 "cells": [
  {
   "cell_type": "markdown",
   "metadata": {},
   "source": [
    "<h1><center>First-order form of the Transport Equation</center></h1>\n",
    "\n",
    "The first order form of the transport equation is the classical radiative transfer equation:\n",
    "\n",
    "$$\n",
    "\\begin{align}\n",
    "\\frac{\\partial L }{\\partial t} + (\\omega\\cdot\\nabla)L(\\vec{x}, \\omega)=-\\sigma_t(\\vec{x})L(\\vec{x}, \\omega) + \\sigma_s(\\vec{x})\\int_{\\Omega'}f_p(\\vec{x}, \\omega'\\cdot\\omega)L(\\vec{x}, \\omega')\\mathbf{d}\\omega' + Q(\\vec{x})\n",
    "\\end{align}\n",
    "$$\n",
    "\n",
    "It is called first order, because the streaming term $(\\omega\\cdot\\nabla)L(\\vec{x}, \\omega)$ contains only first order spatial derivatives."
   ]
  },
  {
   "cell_type": "code",
   "execution_count": null,
   "metadata": {
    "collapsed": true
   },
   "outputs": [],
   "source": []
  }
 ],
 "metadata": {
  "kernelspec": {
   "display_name": "Python 3",
   "language": "python",
   "name": "python3"
  },
  "language_info": {
   "codemirror_mode": {
    "name": "ipython",
    "version": 3
   },
   "file_extension": ".py",
   "mimetype": "text/x-python",
   "name": "python",
   "nbconvert_exporter": "python",
   "pygments_lexer": "ipython3",
   "version": "3.6.0"
  }
 },
 "nbformat": 4,
 "nbformat_minor": 2
}
