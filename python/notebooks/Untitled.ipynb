{
 "cells": [
  {
   "cell_type": "markdown",
   "metadata": {
    "collapsed": true
   },
   "source": [
    "$$\n",
    "\\frac{1}{2}d^{{l'+1,m'-1}}\\partial_xL^{{l'+1,m'-1}}\\left (\\vec{x} \\right )\n",
    "$$"
   ]
  },
  {
   "cell_type": "code",
   "execution_count": 11,
   "metadata": {
    "collapsed": true
   },
   "outputs": [],
   "source": [
    "import numpy as np\n",
    "import starmap"
   ]
  },
  {
   "cell_type": "code",
   "execution_count": 3,
   "metadata": {
    "collapsed": false
   },
   "outputs": [
    {
     "name": "stdout",
     "output_type": "stream",
     "text": [
      "test=0.408248290463863\n",
      "coefficient 0 depends on coefficient  dx  1\n",
      "coefficient 0 depends on coefficient  dy  2\n"
     ]
    }
   ],
   "source": [
    "sm = starmap.Starmap2D(1)"
   ]
  },
  {
   "cell_type": "code",
   "execution_count": 15,
   "metadata": {
    "collapsed": false
   },
   "outputs": [
    {
     "name": "stdout",
     "output_type": "stream",
     "text": [
      "offset=1 1\n",
      "[0]\n",
      "offset=1 0\n",
      "[2]\n",
      "offset=0 1\n",
      "[1]\n",
      "offset=0 0\n",
      "[]\n"
     ]
    }
   ],
   "source": [
    "placements = {}\n",
    "for i in range(2):\n",
    "    for j in range(2):\n",
    "        offset_old = sm.sga.get_offset(i, j)\n",
    "        offset_new = np.array( [int(offset_old[0]*2.0), int(offset_old[1]*2.0)] )\n",
    "        #print( \"grid {} {} offset={} {}\".format(i, j, offset_old[0], offset_old[1]) )\n",
    "        print( \"offset={} {}\".format(offset_new[0], offset_new[1]) )\n",
    "        c = sm.sga.get_grid_components(i, j)\n",
    "        for unknown in \n",
    "        print(c)\n",
    "\n"
   ]
  },
  {
   "cell_type": "code",
   "execution_count": null,
   "metadata": {
    "collapsed": true
   },
   "outputs": [],
   "source": []
  }
 ],
 "metadata": {
  "kernelspec": {
   "display_name": "Python 3",
   "language": "python",
   "name": "python3"
  },
  "language_info": {
   "codemirror_mode": {
    "name": "ipython",
    "version": 3
   },
   "file_extension": ".py",
   "mimetype": "text/x-python",
   "name": "python",
   "nbconvert_exporter": "python",
   "pygments_lexer": "ipython3",
   "version": "3.6.0"
  }
 },
 "nbformat": 4,
 "nbformat_minor": 2
}
