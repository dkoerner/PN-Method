{
 "cells": [
  {
   "cell_type": "code",
   "execution_count": 1,
   "metadata": {
    "collapsed": false
   },
   "outputs": [],
   "source": [
    "import os,sys,inspect\n",
    "\n",
    "import pnsolver\n",
    "\n",
    "currentdir = os.path.dirname(os.path.abspath(inspect.getfile(inspect.currentframe())))\n",
    "parentdir = os.path.dirname(currentdir)\n",
    "sys.path.insert(0,parentdir) \n",
    "\n",
    "import util\n",
    "import stencil\n",
    "import numpy as np\n",
    "import matplotlib.pyplot as plt\n",
    "from matplotlib.colors import LogNorm\n",
    "from mpl_toolkits.axes_grid1 import make_axes_locatable"
   ]
  },
  {
   "cell_type": "code",
   "execution_count": 2,
   "metadata": {
    "collapsed": true
   },
   "outputs": [],
   "source": [
    "def load_pn_solution(filename):\n",
    "    data = util.load_pn_system(filename)\n",
    "    staggered = False\n",
    "    pni = stencil.PNInfo2D( data[\"order\"], staggered )\n",
    "    domain = pnsolver.Domain( np.array([7.0, 7.0]), data[\"resolution\"], np.array([0.0, 0.0]) )\n",
    "    data[\"domain\"] = domain\n",
    "    data[\"pni\"] = pni\n",
    "    \n",
    "    x_complex = pni.to_complex(data[\"x\"])\n",
    "\n",
    "    # contruct radiance field from coefficients\n",
    "    L = pnsolver.SHEXP( data[\"order\"] )\n",
    "    for index in range(data[\"numCoeffs\"]):\n",
    "        (l,m) = pni.lm_index(index)\n",
    "        sh_index = util.sh_index(l,m)\n",
    "        offset = pni.getOffset(index)*0.5\n",
    "\n",
    "        u0 = util.extract_coefficient_field( x_complex, data[\"resolution\"], data[\"numCoeffs\"], index )\n",
    "        L.setCoefficientField( l, m, pnsolver.VoxelGrid( u0, domain, offset ) )\n",
    "        #print(u0.dtype)\n",
    "    data[\"L\"] = L\n",
    "    return data"
   ]
  },
  {
   "cell_type": "code",
   "execution_count": 40,
   "metadata": {
    "collapsed": false,
    "scrolled": false
   },
   "outputs": [
    {
     "name": "stdout",
     "output_type": "stream",
     "text": [
      "loading PN solution from C:/projects/epfl/epfl17/python/pnsolver/results/studies/checkerboard_test.mat\n",
      "\torder=1  numCoeffs=3  resolution=70 70\n"
     ]
    },
    {
     "ename": "KeyError",
     "evalue": "'x'",
     "output_type": "error",
     "traceback": [
      "\u001b[0;31m---------------------------------------------------------------------------\u001b[0m",
      "\u001b[0;31mKeyError\u001b[0m                                  Traceback (most recent call last)",
      "\u001b[0;32m<ipython-input-40-b8ceaa3ff649>\u001b[0m in \u001b[0;36m<module>\u001b[0;34m()\u001b[0m\n\u001b[1;32m      3\u001b[0m \u001b[0mdataset_filename\u001b[0m \u001b[1;33m=\u001b[0m \u001b[1;34m\"C:/projects/epfl/epfl17/python/pnsolver/results/studies/checkerboard_test.mat\"\u001b[0m\u001b[1;33m.\u001b[0m\u001b[0mformat\u001b[0m\u001b[1;33m(\u001b[0m\u001b[0morder\u001b[0m\u001b[1;33m)\u001b[0m\u001b[1;33m\u001b[0m\u001b[0m\n\u001b[1;32m      4\u001b[0m \u001b[1;33m\u001b[0m\u001b[0m\n\u001b[0;32m----> 5\u001b[0;31m \u001b[0mdata\u001b[0m \u001b[1;33m=\u001b[0m \u001b[0mload_pn_solution\u001b[0m\u001b[1;33m(\u001b[0m\u001b[0mdataset_filename\u001b[0m\u001b[1;33m)\u001b[0m\u001b[1;33m\u001b[0m\u001b[0m\n\u001b[0m\u001b[1;32m      6\u001b[0m \u001b[1;33m\u001b[0m\u001b[0m\n\u001b[1;32m      7\u001b[0m \u001b[0mfig\u001b[0m \u001b[1;33m=\u001b[0m \u001b[0mplt\u001b[0m\u001b[1;33m.\u001b[0m\u001b[0mfigure\u001b[0m\u001b[1;33m(\u001b[0m\u001b[0mfigsize\u001b[0m\u001b[1;33m=\u001b[0m\u001b[1;33m(\u001b[0m\u001b[1;36m9\u001b[0m\u001b[1;33m,\u001b[0m\u001b[1;36m9\u001b[0m\u001b[1;33m)\u001b[0m\u001b[1;33m)\u001b[0m\u001b[1;33m;\u001b[0m\u001b[1;33m\u001b[0m\u001b[0m\n",
      "\u001b[0;32m<ipython-input-2-531c0564412b>\u001b[0m in \u001b[0;36mload_pn_solution\u001b[0;34m(filename)\u001b[0m\n\u001b[1;32m      7\u001b[0m     \u001b[0mdata\u001b[0m\u001b[1;33m[\u001b[0m\u001b[1;34m\"pni\"\u001b[0m\u001b[1;33m]\u001b[0m \u001b[1;33m=\u001b[0m \u001b[0mpni\u001b[0m\u001b[1;33m\u001b[0m\u001b[0m\n\u001b[1;32m      8\u001b[0m \u001b[1;33m\u001b[0m\u001b[0m\n\u001b[0;32m----> 9\u001b[0;31m     \u001b[0mx_complex\u001b[0m \u001b[1;33m=\u001b[0m \u001b[0mpni\u001b[0m\u001b[1;33m.\u001b[0m\u001b[0mto_complex\u001b[0m\u001b[1;33m(\u001b[0m\u001b[0mdata\u001b[0m\u001b[1;33m[\u001b[0m\u001b[1;34m\"x\"\u001b[0m\u001b[1;33m]\u001b[0m\u001b[1;33m)\u001b[0m\u001b[1;33m\u001b[0m\u001b[0m\n\u001b[0m\u001b[1;32m     10\u001b[0m \u001b[1;33m\u001b[0m\u001b[0m\n\u001b[1;32m     11\u001b[0m     \u001b[1;31m# contruct radiance field from coefficients\u001b[0m\u001b[1;33m\u001b[0m\u001b[1;33m\u001b[0m\u001b[0m\n",
      "\u001b[0;31mKeyError\u001b[0m: 'x'"
     ]
    }
   ],
   "source": [
    "order = 1\n",
    "#dataset_filename = \"C:/projects/epfl/epfl17/python/pnsolver/results/studies/checkerboard_fopn_p{}_sg.mat\".format(order)\n",
    "dataset_filename = \"C:/projects/epfl/epfl17/python/pnsolver/results/studies/checkerboard_test.mat\".format(order)\n",
    "\n",
    "data = load_pn_solution(dataset_filename)\n",
    "\n",
    "fig = plt.figure(figsize=(9,9));\n",
    "u = util.extract_coefficient_field( data[\"x\"], data[\"resolution\"], data[\"numCoeffs\"], 0 )\n",
    "print(u.shape)\n",
    "#u[0,:] = 0.0\n",
    "#print(u[0,:])\n",
    "#print(u[:,0])\n",
    "#print(u[69,:])\n",
    "#print(u[:,69])\n",
    "\n",
    "\n",
    "#u[:,0] = 0.0\n",
    "u = np.clip( u, 1.0e-8, np.max(u) )\n",
    "#u = np.abs(u)\n",
    "\n",
    "ax = plt.subplot2grid((1,1), (0,0))\n",
    "#plt.title(\"first order, staggered grid, P{}\".format(order))\n",
    "img_view = ax.imshow(u, cmap='jet', norm=LogNorm(vmin=np.min(u), vmax=np.max(u)), origin='lower')\n",
    "divider = make_axes_locatable(ax)\n",
    "cax = divider.append_axes(\"right\", size=\"5%\", pad=0.05)\n",
    "plt.colorbar(img_view, cax=cax)\n",
    "plt.show()"
   ]
  },
  {
   "cell_type": "code",
   "execution_count": null,
   "metadata": {
    "collapsed": true
   },
   "outputs": [],
   "source": []
  }
 ],
 "metadata": {
  "kernelspec": {
   "display_name": "Python 3",
   "language": "python",
   "name": "python3"
  },
  "language_info": {
   "codemirror_mode": {
    "name": "ipython",
    "version": 3
   },
   "file_extension": ".py",
   "mimetype": "text/x-python",
   "name": "python",
   "nbconvert_exporter": "python",
   "pygments_lexer": "ipython3",
   "version": "3.6.0"
  }
 },
 "nbformat": 4,
 "nbformat_minor": 2
}
