{
 "cells": [
  {
   "cell_type": "markdown",
   "metadata": {},
   "source": [
    "### Boundary Conditions (BC) for $P_N$ Method\n",
    "\n",
    "First experiments with $P_1$ indicate, that better boundary conditions will be needed in order to arrive at a system which can be solved (see additional notes in p1_1d.ipynb).\n",
    "\n",
    "Here we document results of investigations into different options.\n"
   ]
  },
  {
   "cell_type": "markdown",
   "metadata": {},
   "source": [
    "### Robin Boundary Conditions\n",
    "\n",
    "In [this paper](https://www.cs.cornell.edu/~kb/projects/heterogeneousSS/) Robin boundary conditions are introduced for solving the diffusion approximation using the finite element method. Robin boundary conditions are a weighted combination of Dirichlet and Neumann boundary conditions, specified at a position $x$ on the boundary:\n",
    "\n",
    "$$\n",
    "a\\phi(x) + b\\frac{\\partial\\phi(x)}{\\partial\\vec{n}} = g(x)\n",
    "$$\n",
    "\n",
    "$a$ and $b$ are weights specified at the boundary (can be functions). The first term is the Dirichlet part, the second term is the Neumann part. $\\vec{n}$ is the surface normal at the boundary.\n",
    "\n",
    "In the mentioned paper, the BC are derived by relating the total internal inward fux to the total internal reflected inward flux at the boundary (which is zero, since we are dealing with an index matched boundary for now):\n",
    "\n",
    "$$\\Gamma^{in}(x) = \\int_{\\Omega^-}{L(x,-\\omega)(-\\vec{n}\\cdot\\omega)\\mathbf{d}\\omega}=0$$\n",
    "\n",
    "Note the negative sign in $L$. This is because we define $L(\\vec{x}, \\omega)$ as the radiance arriving at $\\vec{x}$ from direction $\\omega$ (this is different to the Arbree paper).  \n",
    "\n",
    "The mentioned paper further uses the following identity from [here](http://www.sciencedirect.com/science/book/9780123747013):\n",
    "\n",
    "$$\\int_{\\Omega^+}{L(x,-\\omega)(\\vec{n}\\cdot\\omega)\\mathbf{d}\\omega} = \\frac{1}{4}\\left[\\phi\\left(\\vec{x}\\right) - 2D\\left(\\vec{n}\\cdot\\vec{\\nabla}\\right)\\phi\\left(\\vec{x}\\right)\\right] $$\n",
    "\n",
    "TODO: how is this derived?\n",
    "\n",
    "$D$ is the diffusion coefficient. With that identity, the boundary condition becomes:\n",
    "\n",
    "$$\\Gamma^{in}(x) =  \\frac{1}{4}\\phi(\\vec{x}) + \\frac{1}{4}2D(\\vec{n}\\cdot\\vec{\\nabla})\\phi(\\vec{x}) = 0 $$\n",
    "\n",
    "The remaining step is to discretize this equation at the boundary of our finite difference grid and add the equations to the linear system of equations which is to be solved.\n",
    "\n",
    "Extending this idea to the $P_N$ method requires some work. In particular:\n",
    "- The used identity needs to be derived for the one dimensional case in order to use it in our simple $1d$-experiment\n",
    "- The BC derived here are given for $\\phi$. But we need to find BC for higher order quantities (such as $\\vec{E}$) as well. Therefore a similar identity needs to be derived for higher (ideally arbitrary) order.\n",
    "\n",
    "\n"
   ]
  },
  {
   "cell_type": "markdown",
   "metadata": {},
   "source": [
    "### Mark Boundary Conditions\n",
    "\n",
    "- [A Note on the PN Method with Mark Boundary Conditions](www4.ncsu.edu/~ces/pdfversions/197.pdf)\n",
    "- BC developed for some transport problems with symmetries, such as the half-space problem (a.k.a. Milne problem)\n",
    "    - (?) with these special geometries, a known point light is assumed, which we don't have in our finite difference approach\n",
    "- Uses the physically correct condition of continuity for the moments at the interface (boundary) between two different types of media"
   ]
  },
  {
   "cell_type": "markdown",
   "metadata": {},
   "source": [
    "### Marshak Boundary Conditions\n",
    "\n",
    "- [Note on the Spherical Harmonic Method As Applied to the Milne Problem for a Sphere](https://journals.aps.org/pr/abstract/10.1103/PhysRev.71.443)\n",
    "- BC developed for the spherical counterpart of the half-space problem (black absorbing core, surrounded by an (isotropically) scattering medium which is illuminated by a constant environment light)\n",
    "- BC are given as the integrated incident radiance at the boundary from outside to be zero: $\\int_{\\Omega^+}{L(x,\\omega)(\\vec{n}\\cdot\\omega)\\mathbf{d}\\omega}=0$\n",
    "- The BC are expanded into SH for higher order if needed (which means: until we have enough constraints).\n",
    "- [This paper](http://www.sciencedirect.com/science/article/pii/S0022407307003676) uses the Markshak BC and applies them to general geometries by specifying the Markshak BC in the local tangent frame of each boundary point, followed by a rotation into the world coordinate system\n"
   ]
  },
  {
   "cell_type": "markdown",
   "metadata": {},
   "source": [
    "### Pomraning Boundary Conditions\n",
    "\n",
    "- [Asymptotically consistent reflection boundary conditions for diffusion theory](http://www.sciencedirect.com/science/article/pii/030645499400097X?via%3Dihub)\n",
    "    - Previous work has assumed zero reflection at the boundary surface. The paper by Pomraining adds support for partial reflection.\n",
    "    - It seems BC are only derived for some specific geometries and not arbitrary geometry\n",
    "    - It is used in subsurface scattering bsdfs to derive placement of the negative source.\n",
    "    "
   ]
  },
  {
   "cell_type": "markdown",
   "metadata": {},
   "source": [
    "### Shifted Legendre(SL) Projection\n",
    "\n",
    "- [A stable shifted-legendre projection scheme for generating $P_N$ boundary conditions](http://www.sciencedirect.com/science/article/pii/0306454995001107)\n",
    "    - Uses shifted legrendre polynomials, which are spherical harmonics, defined on the hemisphere. Motivation: BC are always defined on hemisphere at the surface (either pointing inward or outward).\n",
    "    - The paper demonstrates the theory on a half-space/slab problem\n",
    "    - Previous methods (such as Marshak) would produce an infinite set of equations at the boundary which would need to be reduced by truncation (which makes the boundary inaccurate). With SL, a finite set of equations will be produced.\n",
    "    - The projection method produces an overdetermined system. This is dealt with by solving a least squares problem along the way."
   ]
  },
  {
   "cell_type": "markdown",
   "metadata": {},
   "source": [
    "### Naive Approach\n",
    "\n",
    "1. Define $\\Gamma^{in}(x) = 0$ on the boundary in order to have no light entering (or being reflected back) into the volume.\n",
    "2. Project $\\Gamma^{in}(x)$ into spherical harmonics/moments.\n",
    "    - Problem: we are dealing with a hemisphere here. Is there even something like a half-moment? How could we relate this to the full moment expansion?\n",
    "3. Use the moments to produce additional constraints for the to be solved system.\n",
    "\n"
   ]
  },
  {
   "cell_type": "markdown",
   "metadata": {
    "collapsed": true
   },
   "source": [
    "### Notes:\n",
    "\n",
    "- [starmap](https://math.temple.edu/~seibold/research/starmap/)\n",
    "- moment closure problem also exists with Pn: Pn, SPn, Dn, Fn (filtered Pn), etc. all relate to different closures\n",
    "    - entropy closures, such as Kershaw closure: https://arxiv.org/abs/1602.02590\n",
    "    - diffusion corrected Pn: https://arxiv.org/abs/0907.2099\n",
    "        - contains a diffusion term in the highest order moments"
   ]
  },
  {
   "cell_type": "code",
   "execution_count": null,
   "metadata": {
    "collapsed": true
   },
   "outputs": [],
   "source": []
  }
 ],
 "metadata": {
  "kernelspec": {
   "display_name": "Python 3",
   "language": "python",
   "name": "python3"
  },
  "language_info": {
   "codemirror_mode": {
    "name": "ipython",
    "version": 3
   },
   "file_extension": ".py",
   "mimetype": "text/x-python",
   "name": "python",
   "nbconvert_exporter": "python",
   "pygments_lexer": "ipython3",
   "version": "3.6.0"
  }
 },
 "nbformat": 4,
 "nbformat_minor": 2
}
