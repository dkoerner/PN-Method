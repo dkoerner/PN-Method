{
 "cells": [
  {
   "cell_type": "markdown",
   "metadata": {},
   "source": [
    "### SGGX Matrix in 2D\n",
    "\n",
    "$$\n",
    "\\begin{equation*}\n",
    "S =\n",
    "\\begin{vmatrix}\n",
    "S_{xx} & S_{xy} \\\\\n",
    "S_{yx} &  S_{yy}\n",
    "\\end{vmatrix}\n",
    "\\end{equation*}\n",
    "= \\left(\\omega_1\\omega_2\\right)\n",
    "\\begin{vmatrix}\n",
    "S_{11} & 0 \\\\\n",
    "0 &  S_{22}\n",
    "\\end{vmatrix}\n",
    "\\left(\\omega_1\\omega_2\\right)^T\n",
    "$$\n",
    "\n",
    "with $S_{11}$ and $S_{22}$ being the projected distance along the frame axis $\\omega_1$ and $\\omega_2$ respectively.\n",
    "\n",
    "### Projected Distance\n",
    "\n",
    "$$\\sigma\\left(\\omega\\right) = \\sqrt{ \\omega^TS\\omega } = \\sqrt{S_{xx}\\omega_x^2+S_{yy}\\omega_y^2 + 2S_{xy}\\omega_{x}\\omega_{y}} $$\n",
    "\n",
    "\n"
   ]
  },
  {
   "cell_type": "code",
   "execution_count": 1,
   "metadata": {
    "collapsed": false
   },
   "outputs": [],
   "source": [
    "%matplotlib inline\n",
    "%config InlineBackend.figure_format='retina'\n",
    "import numpy as np\n",
    "import matplotlib.pyplot as plt\n",
    "from util import *"
   ]
  },
  {
   "cell_type": "code",
   "execution_count": 2,
   "metadata": {
    "collapsed": false
   },
   "outputs": [],
   "source": [
    "frame_s = np.array([1.0, 0.0])\n",
    "projectedDistances = np.array([0.5, 1.0])\n",
    "\n",
    "sggx = SGGX2D(frame_s, projectedDistances)"
   ]
  }
 ],
 "metadata": {
  "anaconda-cloud": {},
  "kernelspec": {
   "display_name": "Python [conda root]",
   "language": "python",
   "name": "conda-root-py"
  },
  "language_info": {
   "codemirror_mode": {
    "name": "ipython",
    "version": 3
   },
   "file_extension": ".py",
   "mimetype": "text/x-python",
   "name": "python",
   "nbconvert_exporter": "python",
   "pygments_lexer": "ipython3",
   "version": "3.5.2"
  }
 },
 "nbformat": 4,
 "nbformat_minor": 1
}
