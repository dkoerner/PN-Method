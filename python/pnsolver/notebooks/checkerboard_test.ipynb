{
 "cells": [
  {
   "cell_type": "code",
   "execution_count": 1,
   "metadata": {
    "collapsed": true
   },
   "outputs": [],
   "source": [
    "import os,sys,inspect\n",
    "import random\n",
    "\n",
    "import renderer\n",
    "\n",
    "\n",
    "currentdir = os.path.dirname(os.path.abspath(inspect.getfile(inspect.currentframe())))\n",
    "parentdir = os.path.dirname(currentdir)\n",
    "sys.path.insert(0,parentdir) \n",
    "\n",
    "import util\n",
    "\n",
    "import numpy as np\n",
    "\n",
    "import matplotlib.pyplot as plt\n",
    "from matplotlib.colors import LogNorm\n",
    "from mpl_toolkits.axes_grid1 import make_axes_locatable\n",
    "\n",
    "import ipywidgets as widgets\n",
    "from ipywidgets.widgets.interaction import interact\n",
    "\n",
    "\n",
    "# Use interactive matplotlib backend, which runs in the browser\n",
    "#%matplotlib notebook"
   ]
  },
  {
   "cell_type": "markdown",
   "metadata": {},
   "source": [
    "------------------------------------\n",
    "\n",
    "# 3D Solver - Checkerboard test\n"
   ]
  },
  {
   "cell_type": "code",
   "execution_count": 2,
   "metadata": {
    "collapsed": true
   },
   "outputs": [],
   "source": [
    "#pns_cda = renderer.load_pnsolution( \"c:/projects/epfl/epfl17/python/pnsolver/results/checkerboard/checkerboard_cda.pns\" )\n",
    "pns_p1 = renderer.load_pnsolution( \"c:/projects/epfl/epfl17/python/pnsolver/results/checkerboard/checkerboard_p1.pns\" )\n",
    "#pns_p2 = renderer.load_pnsolution( \"c:/projects/epfl/epfl17/python/pnsolver/results/checkerboard/checkerboard_p2.pns\" )\n",
    "#pns_p3 = renderer.load_pnsolution( \"c:/projects/epfl/epfl17/python/pnsolver/results/checkerboard/checkerboard_p3.pns\" )\n",
    "#pns_p4 = renderer.load_pnsolution( \"c:/projects/epfl/epfl17/python/pnsolver/results/checkerboard/checkerboard_p4.pns\" )\n",
    "#pns_p5 = renderer.load_pnsolution( \"c:/projects/epfl/epfl17/python/pnsolver/results/checkerboard/checkerboard_p5.pns\" )"
   ]
  },
  {
   "cell_type": "code",
   "execution_count": null,
   "metadata": {
    "collapsed": true
   },
   "outputs": [],
   "source": [
    "pns_p1.evalCoefficient(pointsource_center+np.array([r, 0.0, 0.0]), 0)"
   ]
  }
 ],
 "metadata": {
  "kernelspec": {
   "display_name": "Python 3",
   "language": "python",
   "name": "python3"
  },
  "language_info": {
   "codemirror_mode": {
    "name": "ipython",
    "version": 3
   },
   "file_extension": ".py",
   "mimetype": "text/x-python",
   "name": "python",
   "nbconvert_exporter": "python",
   "pygments_lexer": "ipython3",
   "version": "3.6.0"
  }
 },
 "nbformat": 4,
 "nbformat_minor": 2
}
