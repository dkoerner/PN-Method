{
 "cells": [
  {
   "cell_type": "markdown",
   "metadata": {},
   "source": [
    "<h2><center>Spherical harmonics representation of the SGGX phase function</center></h2>\n",
    "\n",
    "This notebook shows the spherical harmonics expansion of the SGGX phase function (denoted $f_p$). We use the approach presented in the paper [\"Predicting reflectance functions from complex surfaces\"](http://dl.acm.org/citation.cfm?id=134075). In this paper general BRDF's are projected into spherical harmonics and we apply the same strategy to phase functions.\n",
    "\n",
    "As with the phase function, a BRDF is a four-dimensional function, which depends on an incident direction $\\omega_i$ and an outgoing/reflected direction $\\omega_o$. The spherical harmonics coefficients are computed by first computing the SH coefficients for all $\\omega_i$, basically projecting the $\\omega_o$ dependent part of the phase function into SH coefficients. This gives a set of SH coefficients for all $\\omega_i$. These coefficients can be understood as spherical functions over $\\omega_i$. They are projected into SH again. So each coefficient $l$,$m$ produces a set of $l$,$m$ coefficients, which expresses the value of that coefficient over the solid angle domain in spherical harmonics. Therefore we have a $n\\times n$ matrix $P$, where $n$ is the number of coefficients. The matrix is computed by the following nested projections:\n",
    "\n",
    "$$\n",
    "P_{ij} = P_{lml'm'} = \\int_{\\Omega_i}\\int_{\\Omega_o}f_p\\left(\\omega_i, \\omega_o\\right)\\overline{Y^{lm}}\\left(\\omega_o\\right)\\mathbf{d}\\omega_o\\overline{Y^{l'm'}}\\left(\\omega_i\\right)\\mathbf{d}\\omega_i\n",
    "$$\n",
    "\n",
    "To evaluate the spherical harmonics phase function, we do a nested reconstruction:\n",
    "\n",
    "$$\n",
    "f_p'(\\omega_i, \\omega_o) = \\sum_{l}\\sum_{m=-l}^{l}\\sum_{l'}\\sum_{m'=-l'}^{l'}P_{lml'm'}Y^{lm}{\\omega_o}Y^{l'm'}{\\omega_i}\n",
    "$$\n",
    "\n",
    "---------------------\n",
    "\n",
    "For our tests, we use the SGGX phase function with a specular microflake BSDF. This phase function is parameterized by \n",
    "1. A direction vector, which establishes a coordinate frame\n",
    "2. Three values which specify the projected area along each axis of the given coordinate frame\n",
    "\n",
    "We compute the projection using quadrature, where the solid angle domain is discretized into $128 \\times 256$ bins for $\\theta$- and $\\phi$-dimension respectively. For each bin, we compute the SH coefficients by projection. The angle associated with the bin is held fixed (therefore the angle represents $\\omega_i$). Then we have a voxelgrid of resolution $128 \\times 256 \\times n$. For each bin we have a set of coefficients. Now each slice along $n$ is projected into a set of $n$ SH coefficients again (we project the coefficients in $\\omega_i$ domain into SH coefficients). This is procedure is done on the GPU.\n",
    "\n",
    "-------------------\n",
    "\n",
    "In the following, we visually compare the groundtruth phase function against its SH projection. The visualizations show the phase function for a fixed $\\omega_i$. Each visualization within a row below, $\\omega_i$ has been changed (visualized by the black line).\n",
    "\n",
    "#### $n=(0,0)$, $\\sigma=(1.0, 0.75, 0.5)$ \n",
    "<img src=\"images_sggx_sh/sggx_sh_1.jpg\" width=\"300\" style=\"display:inline;margin:1px\">\n",
    "<img src=\"images_sggx_sh/sggx_sh_2.jpg\" width=\"300\" style=\"display:inline;margin:1px\">\n",
    "<img src=\"images_sggx_sh/sggx_sh_3.jpg\" width=\"300\" style=\"display:inline;margin:1px\">\n",
    "\n",
    "#### $n=(0,0)$, $\\sigma=(1.0, 0.5, 0.25)$ \n",
    "<img src=\"images_sggx_sh/sggx_sh_4.jpg\" width=\"300\" style=\"display:inline;margin:1px\">\n",
    "<img src=\"images_sggx_sh/sggx_sh_6.jpg\" width=\"300\" style=\"display:inline;margin:1px\">\n",
    "<img src=\"images_sggx_sh/sggx_sh_5.jpg\" width=\"300\" style=\"display:inline;margin:1px\">\n",
    "\n",
    "#### $n=(0.6, 5.89)$, $\\sigma=(1.0, 0.9, 0.25)$ \n",
    "<img src=\"images_sggx_sh/sggx_sh_7.jpg\" width=\"300\" style=\"display:inline;margin:1px\">\n",
    "<img src=\"images_sggx_sh/sggx_sh_8.jpg\" width=\"300\" style=\"display:inline;margin:1px\">\n",
    "<img src=\"images_sggx_sh/sggx_sh_9.jpg\" width=\"300\" style=\"display:inline;margin:1px\">\n",
    "\n",
    "It is hard to assess the quality of the SH approximation. The SGGX phase function produces a rich variety of shapes. Some of those are well approximated, while many others would require a much higher spherical harmonics order for a good fit.\n"
   ]
  },
  {
   "cell_type": "code",
   "execution_count": null,
   "metadata": {
    "collapsed": true
   },
   "outputs": [],
   "source": []
  }
 ],
 "metadata": {
  "kernelspec": {
   "display_name": "Python [conda root]",
   "language": "python",
   "name": "conda-root-py"
  },
  "language_info": {
   "codemirror_mode": {
    "name": "ipython",
    "version": 3
   },
   "file_extension": ".py",
   "mimetype": "text/x-python",
   "name": "python",
   "nbconvert_exporter": "python",
   "pygments_lexer": "ipython3",
   "version": "3.5.2"
  }
 },
 "nbformat": 4,
 "nbformat_minor": 1
}
