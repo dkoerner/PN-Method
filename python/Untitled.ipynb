{
 "cells": [
  {
   "cell_type": "markdown",
   "metadata": {},
   "source": [
    "\n",
    "----------------------------\n",
    "\n",
    "$$\n",
    "-\\partial_x\\left(\\int{\\omega_{x}\\overline{Y^{l', m'}}(\\omega )\\left(\\omega_{x}\\partial_xL\\left (\\vec{x} ,\\omega \\right )+\\omega_{y}\\partial_yL\\left (\\vec{x} ,\\omega \\right )+\\omega_{z}\\partial_zL\\left (\\vec{x} ,\\omega \\right )\\right)\\mathbf{d}\\omega}\\right)\n",
    "$$\n",
    "\n",
    "\n",
    "----------------------------\n",
    "\n",
    "$$\n",
    "\\omega_{x}\\partial_xL\\left (\\vec{x} ,\\omega \\right )\n",
    "$$\n",
    "\n",
    "----------------------------\n",
    "\n",
    "$$\n",
    "\\int{\\overline{Y^{l', m'}}(\\omega )\\omega_{x}\\partial_xL\\left (\\vec{x} ,\\omega \\right )\\mathbf{d}\\omega}\n",
    "$$\n",
    "\n",
    "----------------------------\n",
    "\n",
    "$$\n",
    "\\int{\\frac{1}{2}\\left(-c^{{l'-1,m'-1}}\\overline{Y^{l'-1, m'-1}}(\\omega )+d^{{l'+1,m'-1}}\\overline{Y^{l'+1, m'-1}}(\\omega )+e^{{l'-1,m'+1}}\\overline{Y^{l'-1, m'+1}}(\\omega )-f^{{l'+1,m'+1}}\\overline{Y^{l'+1, m'+1}}(\\omega )\\right)\\partial_xL\\left (\\vec{x} ,\\omega \\right )\\mathbf{d}\\omega}\n",
    "$$\n",
    "\n",
    "----------------------------\n",
    "\n",
    "$$\n",
    "\\int{\\frac{1}{2}\\partial_xL\\left (\\vec{x} ,\\omega \\right )\\left(-c^{{l'-1,m'-1}}\\overline{Y^{l'-1, m'-1}}(\\omega )\\right)+\\frac{1}{2}\\partial_xL\\left (\\vec{x} ,\\omega \\right )d^{{l'+1,m'-1}}\\overline{Y^{l'+1, m'-1}}(\\omega )+\\frac{1}{2}\\partial_xL\\left (\\vec{x} ,\\omega \\right )e^{{l'-1,m'+1}}\\overline{Y^{l'-1, m'+1}}(\\omega )+\\frac{1}{2}\\partial_xL\\left (\\vec{x} ,\\omega \\right )\\left(-f^{{l'+1,m'+1}}\\overline{Y^{l'+1, m'+1}}(\\omega )\\right)\\mathbf{d}\\omega}\n",
    "$$\n",
    "\n",
    "----------------------------\n",
    "\n",
    "$$\n",
    "\\int{-\\frac{1}{2}\\partial_xL\\left (\\vec{x} ,\\omega \\right )c^{{l'-1,m'-1}}\\overline{Y^{l'-1, m'-1}}(\\omega )+\\frac{1}{2}\\partial_xL\\left (\\vec{x} ,\\omega \\right )d^{{l'+1,m'-1}}\\overline{Y^{l'+1, m'-1}}(\\omega )+\\frac{1}{2}\\partial_xL\\left (\\vec{x} ,\\omega \\right )e^{{l'-1,m'+1}}\\overline{Y^{l'-1, m'+1}}(\\omega )-\\frac{1}{2}\\partial_xL\\left (\\vec{x} ,\\omega \\right )f^{{l'+1,m'+1}}\\overline{Y^{l'+1, m'+1}}(\\omega )\\mathbf{d}\\omega}\n",
    "$$\n",
    "\n",
    "----------------------------\n",
    "\n",
    "$$\n",
    "\\int{-\\frac{1}{2}\\partial_xL\\left (\\vec{x} ,\\omega \\right )c^{{l'-1,m'-1}}\\overline{Y^{l'-1, m'-1}}(\\omega )\\mathbf{d}\\omega}+\\int{\\frac{1}{2}\\partial_xL\\left (\\vec{x} ,\\omega \\right )d^{{l'+1,m'-1}}\\overline{Y^{l'+1, m'-1}}(\\omega )\\mathbf{d}\\omega}+\\int{\\frac{1}{2}\\partial_xL\\left (\\vec{x} ,\\omega \\right )e^{{l'-1,m'+1}}\\overline{Y^{l'-1, m'+1}}(\\omega )\\mathbf{d}\\omega}+\\int{-\\frac{1}{2}\\partial_xL\\left (\\vec{x} ,\\omega \\right )f^{{l'+1,m'+1}}\\overline{Y^{l'+1, m'+1}}(\\omega )\\mathbf{d}\\omega}\n",
    "$$\n",
    "\n",
    "----------------------------\n",
    "\n",
    "$$\n",
    "\\int{-\\frac{1}{2}\\partial_x\\left(\\sum_{l=0}^{\\infty}{\\sum_{m=-l}^{l}{L^{{l,m}}\\left (\\vec{x} \\right )Y^{l, m}(\\omega )}}\\right)c^{{l'-1,m'-1}}\\overline{Y^{l'-1, m'-1}}(\\omega )\\mathbf{d}\\omega}+\\int{\\frac{1}{2}\\partial_x\\left(\\sum_{l=0}^{\\infty}{\\sum_{m=-l}^{l}{L^{{l,m}}\\left (\\vec{x} \\right )Y^{l, m}(\\omega )}}\\right)d^{{l'+1,m'-1}}\\overline{Y^{l'+1, m'-1}}(\\omega )\\mathbf{d}\\omega}+\\int{\\frac{1}{2}\\partial_x\\left(\\sum_{l=0}^{\\infty}{\\sum_{m=-l}^{l}{L^{{l,m}}\\left (\\vec{x} \\right )Y^{l, m}(\\omega )}}\\right)e^{{l'-1,m'+1}}\\overline{Y^{l'-1, m'+1}}(\\omega )\\mathbf{d}\\omega}+\\int{-\\frac{1}{2}\\partial_x\\left(\\sum_{l=0}^{\\infty}{\\sum_{m=-l}^{l}{L^{{l,m}}\\left (\\vec{x} \\right )Y^{l, m}(\\omega )}}\\right)f^{{l'+1,m'+1}}\\overline{Y^{l'+1, m'+1}}(\\omega )\\mathbf{d}\\omega}\n",
    "$$\n",
    "\n",
    "----------------------------\n",
    "\n",
    "$$\n",
    "-\\int{\\frac{1}{2}\\partial_x\\left(\\sum_{l=0}^{\\infty}{\\sum_{m=-l}^{l}{L^{{l,m}}\\left (\\vec{x} \\right )Y^{l, m}(\\omega )}}\\right)c^{{l'-1,m'-1}}\\overline{Y^{l'-1, m'-1}}(\\omega )\\mathbf{d}\\omega}+\\int{\\frac{1}{2}\\partial_x\\left(\\sum_{l=0}^{\\infty}{\\sum_{m=-l}^{l}{L^{{l,m}}\\left (\\vec{x} \\right )Y^{l, m}(\\omega )}}\\right)d^{{l'+1,m'-1}}\\overline{Y^{l'+1, m'-1}}(\\omega )\\mathbf{d}\\omega}+\\int{\\frac{1}{2}\\partial_x\\left(\\sum_{l=0}^{\\infty}{\\sum_{m=-l}^{l}{L^{{l,m}}\\left (\\vec{x} \\right )Y^{l, m}(\\omega )}}\\right)e^{{l'-1,m'+1}}\\overline{Y^{l'-1, m'+1}}(\\omega )\\mathbf{d}\\omega}-\\int{\\frac{1}{2}\\partial_x\\left(\\sum_{l=0}^{\\infty}{\\sum_{m=-l}^{l}{L^{{l,m}}\\left (\\vec{x} \\right )Y^{l, m}(\\omega )}}\\right)f^{{l'+1,m'+1}}\\overline{Y^{l'+1, m'+1}}(\\omega )\\mathbf{d}\\omega}\n",
    "$$\n",
    "\n",
    "----------------------------\n",
    "\n",
    "$$\n",
    "-\\frac{1}{2}c^{{l'-1,m'-1}}\\int{\\partial_x\\left(\\sum_{l=0}^{\\infty}{\\sum_{m=-l}^{l}{L^{{l,m}}\\left (\\vec{x} \\right )Y^{l, m}(\\omega )}}\\right)\\overline{Y^{l'-1, m'-1}}(\\omega )\\mathbf{d}\\omega}+\\frac{1}{2}d^{{l'+1,m'-1}}\\int{\\partial_x\\left(\\sum_{l=0}^{\\infty}{\\sum_{m=-l}^{l}{L^{{l,m}}\\left (\\vec{x} \\right )Y^{l, m}(\\omega )}}\\right)\\overline{Y^{l'+1, m'-1}}(\\omega )\\mathbf{d}\\omega}+\\frac{1}{2}e^{{l'-1,m'+1}}\\int{\\partial_x\\left(\\sum_{l=0}^{\\infty}{\\sum_{m=-l}^{l}{L^{{l,m}}\\left (\\vec{x} \\right )Y^{l, m}(\\omega )}}\\right)\\overline{Y^{l'-1, m'+1}}(\\omega )\\mathbf{d}\\omega}-\\frac{1}{2}f^{{l'+1,m'+1}}\\int{\\partial_x\\left(\\sum_{l=0}^{\\infty}{\\sum_{m=-l}^{l}{L^{{l,m}}\\left (\\vec{x} \\right )Y^{l, m}(\\omega )}}\\right)\\overline{Y^{l'+1, m'+1}}(\\omega )\\mathbf{d}\\omega}\n",
    "$$\n",
    "\n",
    "----------------------------\n",
    "\n",
    "$$\n",
    "-\\frac{1}{2}c^{{l'-1,m'-1}}\\partial_x\\left(\\int{\\overline{Y^{l'-1, m'-1}}(\\omega )\\left(\\sum_{l=0}^{\\infty}{\\sum_{m=-l}^{l}{L^{{l,m}}\\left (\\vec{x} \\right )Y^{l, m}(\\omega )}}\\right)\\mathbf{d}\\omega}\\right)+\\frac{1}{2}d^{{l'+1,m'-1}}\\partial_x\\left(\\int{\\overline{Y^{l'+1, m'-1}}(\\omega )\\left(\\sum_{l=0}^{\\infty}{\\sum_{m=-l}^{l}{L^{{l,m}}\\left (\\vec{x} \\right )Y^{l, m}(\\omega )}}\\right)\\mathbf{d}\\omega}\\right)+\\frac{1}{2}e^{{l'-1,m'+1}}\\partial_x\\left(\\int{\\overline{Y^{l'-1, m'+1}}(\\omega )\\left(\\sum_{l=0}^{\\infty}{\\sum_{m=-l}^{l}{L^{{l,m}}\\left (\\vec{x} \\right )Y^{l, m}(\\omega )}}\\right)\\mathbf{d}\\omega}\\right)-\\frac{1}{2}f^{{l'+1,m'+1}}\\partial_x\\left(\\int{\\overline{Y^{l'+1, m'+1}}(\\omega )\\left(\\sum_{l=0}^{\\infty}{\\sum_{m=-l}^{l}{L^{{l,m}}\\left (\\vec{x} \\right )Y^{l, m}(\\omega )}}\\right)\\mathbf{d}\\omega}\\right)\n",
    "$$\n",
    "\n",
    "----------------------------\n",
    "\n",
    "$$\n",
    "-\\frac{1}{2}c^{{l'-1,m'-1}}\\partial_x\\left(\\sum_{l=0}^{\\infty}{\\int{\\overline{Y^{l'-1, m'-1}}(\\omega )\\left(\\sum_{m=-l}^{l}{L^{{l,m}}\\left (\\vec{x} \\right )Y^{l, m}(\\omega )}\\right)\\mathbf{d}\\omega}}\\right)+\\frac{1}{2}d^{{l'+1,m'-1}}\\partial_x\\left(\\sum_{l=0}^{\\infty}{\\int{\\overline{Y^{l'+1, m'-1}}(\\omega )\\left(\\sum_{m=-l}^{l}{L^{{l,m}}\\left (\\vec{x} \\right )Y^{l, m}(\\omega )}\\right)\\mathbf{d}\\omega}}\\right)+\\frac{1}{2}e^{{l'-1,m'+1}}\\partial_x\\left(\\sum_{l=0}^{\\infty}{\\int{\\overline{Y^{l'-1, m'+1}}(\\omega )\\left(\\sum_{m=-l}^{l}{L^{{l,m}}\\left (\\vec{x} \\right )Y^{l, m}(\\omega )}\\right)\\mathbf{d}\\omega}}\\right)-\\frac{1}{2}f^{{l'+1,m'+1}}\\partial_x\\left(\\sum_{l=0}^{\\infty}{\\int{\\overline{Y^{l'+1, m'+1}}(\\omega )\\left(\\sum_{m=-l}^{l}{L^{{l,m}}\\left (\\vec{x} \\right )Y^{l, m}(\\omega )}\\right)\\mathbf{d}\\omega}}\\right)\n",
    "$$\n",
    "\n",
    "----------------------------\n",
    "\n",
    "$$\n",
    "-\\frac{1}{2}c^{{l'-1,m'-1}}\\partial_x\\left(\\sum_{l=0}^{\\infty}{\\sum_{m=-l}^{l}{\\int{\\overline{Y^{l'-1, m'-1}}(\\omega )L^{{l,m}}\\left (\\vec{x} \\right )Y^{l, m}(\\omega )\\mathbf{d}\\omega}}}\\right)+\\frac{1}{2}d^{{l'+1,m'-1}}\\partial_x\\left(\\sum_{l=0}^{\\infty}{\\sum_{m=-l}^{l}{\\int{\\overline{Y^{l'+1, m'-1}}(\\omega )L^{{l,m}}\\left (\\vec{x} \\right )Y^{l, m}(\\omega )\\mathbf{d}\\omega}}}\\right)+\\frac{1}{2}e^{{l'-1,m'+1}}\\partial_x\\left(\\sum_{l=0}^{\\infty}{\\sum_{m=-l}^{l}{\\int{\\overline{Y^{l'-1, m'+1}}(\\omega )L^{{l,m}}\\left (\\vec{x} \\right )Y^{l, m}(\\omega )\\mathbf{d}\\omega}}}\\right)-\\frac{1}{2}f^{{l'+1,m'+1}}\\partial_x\\left(\\sum_{l=0}^{\\infty}{\\sum_{m=-l}^{l}{\\int{\\overline{Y^{l'+1, m'+1}}(\\omega )L^{{l,m}}\\left (\\vec{x} \\right )Y^{l, m}(\\omega )\\mathbf{d}\\omega}}}\\right)\n",
    "$$\n"
   ]
  },
  {
   "cell_type": "markdown",
   "metadata": {},
   "source": [
    "----------------------------\n",
    "\n",
    "$$\n",
    "-\\frac{1}{2}c^{{l'-1,m'-1}}\\partial_x\\left(\\sum_{l=0}^{\\infty}{\\sum_{m=-l}^{l}{L^{{l,m}}\\left (\\vec{x} \\right )\\int{\\overline{Y^{l'-1, m'-1}}(\\omega )Y^{l, m}(\\omega )\\mathbf{d}\\omega}}}\\right)+\\frac{1}{2}d^{{l'+1,m'-1}}\\partial_x\\left(\\sum_{l=0}^{\\infty}{\\sum_{m=-l}^{l}{L^{{l,m}}\\left (\\vec{x} \\right )\\int{\\overline{Y^{l'+1, m'-1}}(\\omega )Y^{l, m}(\\omega )\\mathbf{d}\\omega}}}\\right)+\\frac{1}{2}e^{{l'-1,m'+1}}\\partial_x\\left(\\sum_{l=0}^{\\infty}{\\sum_{m=-l}^{l}{L^{{l,m}}\\left (\\vec{x} \\right )\\int{\\overline{Y^{l'-1, m'+1}}(\\omega )Y^{l, m}(\\omega )\\mathbf{d}\\omega}}}\\right)-\\frac{1}{2}f^{{l'+1,m'+1}}\\partial_x\\left(\\sum_{l=0}^{\\infty}{\\sum_{m=-l}^{l}{L^{{l,m}}\\left (\\vec{x} \\right )\\int{\\overline{Y^{l'+1, m'+1}}(\\omega )Y^{l, m}(\\omega )\\mathbf{d}\\omega}}}\\right)\n",
    "$$\n"
   ]
  },
  {
   "cell_type": "markdown",
   "metadata": {},
   "source": [
    "----------------------------\n",
    "\n",
    "$$\n",
    "-\\frac{1}{2}c^{{l'-1,m'-1}}\\partial_xL^{{l'-1,m'-1}}\\left (\\vec{x} \\right )+\\frac{1}{2}d^{{l'+1,m'-1}}\\partial_xL^{{l'+1,m'-1}}\\left (\\vec{x} \\right )+\\frac{1}{2}e^{{l'-1,m'+1}}\\partial_xL^{{l'-1,m'+1}}\\left (\\vec{x} \\right )-\\frac{1}{2}f^{{l'+1,m'+1}}\\partial_xL^{{l'+1,m'+1}}\\left (\\vec{x} \\right )\n",
    "$$\n"
   ]
  },
  {
   "cell_type": "markdown",
   "metadata": {},
   "source": [
    "----------------------------\n",
    "\n",
    "$$\n",
    "L^{{l'+1,m'+1}}\\left (\\vec{x} \\right )\n",
    "$$\n",
    "\n",
    "----------------------------\n",
    "\n",
    "$$\n",
    "3.54490770181\\partial_xL^{{l'+1,m'+1}}\\left (\\vec{x} \\right )\n",
    "$$"
   ]
  },
  {
   "cell_type": "code",
   "execution_count": 1,
   "metadata": {
    "collapsed": false
   },
   "outputs": [],
   "source": [
    "import numpy as np\n",
    "import itertools"
   ]
  },
  {
   "cell_type": "code",
   "execution_count": 5,
   "metadata": {
    "collapsed": false
   },
   "outputs": [
    {
     "data": {
      "text/plain": [
       "-0.16160902817498074"
      ]
     },
     "execution_count": 5,
     "metadata": {},
     "output_type": "execute_result"
    }
   ],
   "source": [
    "np.sqrt(4*np.pi)*-0.0455890651518"
   ]
  },
  {
   "cell_type": "code",
   "execution_count": 4,
   "metadata": {
    "collapsed": false
   },
   "outputs": [
    {
     "name": "stdout",
     "output_type": "stream",
     "text": [
      "(-1, -1)\n",
      "(-1, 1)\n",
      "(1, -1)\n",
      "(1, 1)\n"
     ]
    }
   ],
   "source": [
    "numDimensions = 2\n",
    "for i in itertools.product(*[[-1, 1] for d in range(numDimensions)]):\n",
    "    print(i)"
   ]
  },
  {
   "cell_type": "code",
   "execution_count": null,
   "metadata": {
    "collapsed": true
   },
   "outputs": [],
   "source": []
  }
 ],
 "metadata": {
  "kernelspec": {
   "display_name": "Python 3",
   "language": "python",
   "name": "python3"
  },
  "language_info": {
   "codemirror_mode": {
    "name": "ipython",
    "version": 3
   },
   "file_extension": ".py",
   "mimetype": "text/x-python",
   "name": "python",
   "nbconvert_exporter": "python",
   "pygments_lexer": "ipython3",
   "version": "3.6.0"
  }
 },
 "nbformat": 4,
 "nbformat_minor": 2
}
