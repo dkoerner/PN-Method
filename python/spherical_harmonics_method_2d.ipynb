{
 "cells": [
  {
   "cell_type": "markdown",
   "metadata": {},
   "source": [
    "Complex valued spherical harmonics:\n",
    "\n",
    "$$\n",
    "\\begin{align}\n",
    "  Y^{lm}(\\theta, \\phi) &=\n",
    "  \\begin{cases}\n",
    "    (-1)^m\\sqrt{\\frac{2l+1}{4\\pi}\\frac{(l-m)!}{(l+m)!}}e^{im\\phi}P^{l}\\left(\\operatorname{cos}\\left(\\theta\\right)\\right), & \\text{$m\\ge0$}.\\\\\n",
    "    \\left(-1\\right)^m\\overline Y^{l\\left|m\\right|}(\\theta, \\phi), & \\text{$m<0$}.\n",
    "  \\end{cases}\n",
    "\\end{align}\n",
    "$$\n",
    "\n",
    "with $\\overline Y$ referring to the complex conjugate of $Y$. The spherical harmonics expansion is done by multiplying with $\\overline Y^{lm}$ and integrating over solid angle $\\omega$. Expanding the radiance field $L$ therefore gives:\n",
    "\n",
    "$$\n",
    "L(\\vec{x}, \\omega) = \\sum_{l=0}^\\infty{\\sum_{m=-l}^l{a^{lm}\\overline Y^{lm}\\left(\\omega\\right)}}\n",
    "$$\n",
    "\n",
    "where $a^{lm}$ are the spherical harmonics coefficients, which are found by projecting the radiance field into the the spherical harmonics basis functions:\n",
    "\n",
    "$$ \n",
    "a^{lm}\\left(\\vec{x}\\right) = \\int_\\Omega{\\overline Y^{lm}\\left(\\omega\\right)L\\left(\\vec{x}, \\omega\\right)\\mathbf{d}\\omega} \n",
    "$$\n",
    "TODO: why multiply with $\\overline Y$ and not $Y$?\n",
    " \n",
    "\n",
    "We now do the same projection with the time-dependent (isotropic) radiative transfer equation(RTE), in order to express radiative transfer in terms of spherical harmonics moment of the radiance field. The time dependent RTE is given as:\n",
    "\n",
    "$$\n",
    "\\begin{align}\n",
    "\\frac{\\partial L }{\\partial t} + (\\omega\\cdot\\nabla)L(\\vec{x}, \\omega)=-\\sigma_t(\\vec{x})L(\\vec{x}, \\omega) + \\sigma_s(\\vec{x})\\int_{\\Omega'}f_p(\\vec{x}, \\omega'\\cdot\\omega)L(\\vec{x}, \\omega')\\mathbf{d}\\omega' + Q(\\vec{x})\n",
    "\\end{align}\n",
    "$$\n",
    "\n",
    "We now will project each individual term into spherical harmonics.\n",
    "\n",
    "--------------------------------\n",
    "We start with the scattering term:\n",
    "\n",
    "$$\n",
    "\\sigma_s(\\vec{x})\\int_{\\Omega'}f_p(\\vec{x}, \\omega'\\cdot\\omega)L(\\vec{x}, \\omega')\\mathbf{d}\\omega'\n",
    "$$\n",
    "\n",
    "Multiplying with $\\overline Y$ and integrating over solid angle $\\omega$ gives:\n",
    "\n",
    "$$\n",
    "\\int_{\\Omega}\\overline Y^{lm}(\\omega) \\sigma_s(\\vec{x})\\int_{\\Omega'}f_p(\\vec{x}, \\omega'\\cdot\\omega)L(\\vec{x}, \\omega')\\mathbf{d}\\omega'\\mathbf{d}\\omega\n",
    "$$\n",
    "\n",
    "We rerrange this slightly:\n",
    "\n",
    "$$\n",
    "\\sigma_s(\\vec{x})\\int_{\\Omega'}L(\\vec{x}, \\omega')\\int_{\\Omega}\\overline Y^{lm}(\\omega)f_p(\\vec{x}, \\omega'\\cdot\\omega)\\mathbf{d}\\omega\\mathbf{d}\\omega'\n",
    "$$\n",
    "\n",
    "\n",
    "\n",
    "$$\n",
    "\\begin{align}\n",
    "\\frac{\\partial a^{lm} }{\\partial t} + ... = -\\sigma_t a^{lm}\n",
    "\\end{align}\n",
    "$$\n",
    "\n",
    "--------------------------------\n",
    "Here we develop the extinction term of the RTE into spherical harmonics:\n",
    "\n",
    "The isotropic extinction term is given as:\n",
    "$$\n",
    "-\\sigma_t\\left(\\vec{x}\\right)L\\left(\\vec{x}, \\omega\\right)\n",
    "$$\n",
    "\n",
    "Multiplying with $\\overline Y^{lm}$ and integrating over solid angle gives:\n",
    "$$\n",
    "-\\sigma_t\\left(\\vec{x}\\right)\\int_\\Omega{L\\left(\\vec{x}, \\omega\\right)\\overline Y^{lm}} = -\\sigma_t\\left(\\vec{x}\\right)a^{lm}(\\vec{x})\n",
    "$${\\\n",
    "\n",
    "\n"
   ]
  },
  {
   "cell_type": "code",
   "execution_count": null,
   "metadata": {
    "collapsed": true
   },
   "outputs": [],
   "source": []
  },
  {
   "cell_type": "code",
   "execution_count": null,
   "metadata": {
    "collapsed": true
   },
   "outputs": [],
   "source": []
  }
 ],
 "metadata": {
  "kernelspec": {
   "display_name": "Python 3",
   "language": "python",
   "name": "python3"
  },
  "language_info": {
   "codemirror_mode": {
    "name": "ipython",
    "version": 3
   },
   "file_extension": ".py",
   "mimetype": "text/x-python",
   "name": "python",
   "nbconvert_exporter": "python",
   "pygments_lexer": "ipython3",
   "version": "3.6.0"
  }
 },
 "nbformat": 4,
 "nbformat_minor": 2
}
