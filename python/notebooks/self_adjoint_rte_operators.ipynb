{
 "cells": [
  {
   "cell_type": "markdown",
   "metadata": {},
   "source": [
    "This notebook derives the adjoint operators for the RTE.\n",
    "\n",
    "The first order transport form is expressed in operator notation:\n",
    "\n",
    "$$\n",
    "TL + CL = SL + Q\n",
    "$$\n",
    "\n",
    "where $T$ is the transport or streaming operator which contains the directional derivative, $C$ is the collision or removal operator ($\\sigma_t(\\vec{x})$), $S$ is the scattering operator and $Q$ represents sources and emission:\n",
    "\n",
    "$$\n",
    "\\begin{align}\n",
    "T &= \\omega\\cdot\\nabla \\bullet \\\\\n",
    "C &= \\sigma_t \\bullet \\\\\n",
    "S &= \\sigma_s\\int_{\\Omega'} f_p\\left( \\omega'\\rightarrow\\omega \\right) \\bullet \\mathbf{d}\\omega'\n",
    "\\end{align}\n",
    "$$\n",
    "\n",
    "for the isotropic scattering case, we have\n",
    "$$\n",
    "\\begin{align}\n",
    "S_{iso} &= \\frac{1}{4\\pi}\\sigma_s\\bullet\n",
    "\\end{align}\n",
    "$$\n",
    "\n",
    "\n",
    "An adjoint operator $A^\\star$ to operator $A$ is defined in terms of an inner product:\n",
    "\n",
    "$$\n",
    "\\left< Af_1, f_2 \\right> = \\left< f_1, A^\\star f_2 \\right>\n",
    "$$\n"
   ]
  },
  {
   "cell_type": "markdown",
   "metadata": {},
   "source": [
    "### Adjoint transport operator $T^\\star$"
   ]
  },
  {
   "cell_type": "code",
   "execution_count": null,
   "metadata": {
    "collapsed": true
   },
   "outputs": [],
   "source": []
  }
 ],
 "metadata": {
  "kernelspec": {
   "display_name": "Python 3",
   "language": "python",
   "name": "python3"
  },
  "language_info": {
   "codemirror_mode": {
    "name": "ipython",
    "version": 3
   },
   "file_extension": ".py",
   "mimetype": "text/x-python",
   "name": "python",
   "nbconvert_exporter": "python",
   "pygments_lexer": "ipython3",
   "version": "3.6.0"
  }
 },
 "nbformat": 4,
 "nbformat_minor": 2
}
