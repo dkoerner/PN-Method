{
 "cells": [
  {
   "cell_type": "markdown",
   "metadata": {},
   "source": [
    "Notation:\n"
   ]
  },
  {
   "cell_type": "markdown",
   "metadata": {},
   "source": [
    "### Problem\n",
    "\n",
    "The moment expansion of a spherical function $L$ uses its individual moments $\\mu_K\\left[L\\right]$. In the graphics literature, it is often stated that each moment is found by projecting $L$ onto a basis function and often the moments are defined similar to this:\n",
    "\n",
    "$$ \\mu_K\\left[L\\right] = \\int_\\Omega{L\\left(\\omega\\right) N_K\\left(\\omega\\right)\\mathbf{d}\\omega} $$\n",
    "\n",
    "For the $K$-th moment, $L$ is projected on a basis function, which is represented by a tensor $N$ of rank $K$. The name of that tensor or the intuition behind it is not clear to me at this point. However, formally it is defined as a sequence of outer products:\n",
    "\n",
    "$$ N_K\\left(\\omega\\right) =  \\omega_{k_1}\\omega_{k_2}...\\omega_{k_{K-1}}\\omega_{k_K} $$\n",
    "\n",
    "In graphics, it is most common to work with the moment expansion truncated at the second moment. It can be written as:\n",
    "\n",
    "$$ L \\approx \\frac{1}{4\\pi}\\mu_0[L] + \\frac{3}{4\\pi}\\omega\\cdot\\mu_1[L]$$\n",
    "\n",
    "Now things become interesting when one thinks about going higher order. Naively one would imagine that the higher moments of the spherical function are involved in a similar fashion and the series simply extends to something like:\n",
    "\n",
    "$$ L \\approx \\frac{1}{4\\pi}\\mu_0[L] + \\frac{3}{4\\pi}\\omega\\cdot\\mu_1[L] + cN_2\\mu_2[L]$$\n",
    "\n",
    "with $c$ being a yet to be defined coefficient and $N_2\\mu_2$ being a tensor contraction (see report chapter 3). It turns out, that the series does not extend to higher moments like this. After the first moment, things become more involved and higher order contributions can not be expressed by simply using higher moments of $L$ and some coefficient $c$.\n",
    "\n",
    "In general, the multipole expansion of a spherical function $L$ is given as a sequence of tensor contractions:\n",
    "\n",
    "$$ L\\approx\\sum_{K=0}^\\infty{F_K N_K}  $$\n",
    "\n",
    "When going higher order, the question is how does $F_K$ look like. We know that $F_0=\\frac{1}{4\\pi}\\mu_0[L]$ and $F_1=\\frac{3}{4\\pi}\\mu_1[L]$ but $F_2$ is not $c\\mu_2[L]$. So what is it then?\n",
    "\n",
    "We can find $F_K$ for $K>1$ by studying the relationship between spherical harmonics and the moment expansion tensors.\n",
    "\n",
    "### Relationship between spherical harmonics and moment tensors\n",
    "\n",
    "The complex spherical harmonics are defined in terms of the Legrende polynomials $P$:\n",
    "\n",
    "$$ Y^{lm}(\\theta, \\phi) = C^{lm}e^{i m\\phi}P^{lm}(\\operatorname{cos}(\\theta)) $$\n",
    "\n",
    "The coefficient $C^{lm}$ is not of concern and its definition can easily be found online (for example equation 2.8 in [this paper](http://journals.aps.org/rmp/abstract/10.1103/RevModPhys.52.299)).\n",
    "\n",
    "The Legrende polyomial $P$ is often given as recurrence relation, but we will use the following definition which also depends on $\\phi$:\n",
    "\n",
    "$$ P^{lm}(\\theta, \\phi) = \\operatorname{sin}^m(\\phi)\\sum_j^{\\lfloor\\frac{l-m}{2}\\rfloor}a^{lmj}\\operatorname{cos}^{l-m-2j}(\\theta) $$\n",
    "\n",
    "Inserting this into our equation for $Y^{lm}$ gives:\n",
    "\n",
    "$$ Y^{lm}(\\theta, \\phi) = C^{lm}\\left(e^{i\\phi}\\operatorname{sin}\\left(\\phi\\right)\\right)^m \\sum_j^{\\lfloor\\frac{l-m}{2}\\rfloor}a^{lmj}\\operatorname{cos}^{l-m-2j}(\\theta)$$\n",
    "\n",
    "As a next step we express $Y^{lm}$ in terms of unit direction vector $\\omega$, instead of spherical coordinates. This is done by using the identity $e^{i\\phi}\\operatorname{sin}\\left(\\phi\\right) = \\omega_x + i\\omega_y$ and $\\operatorname{cos}(\\theta) = \\omega_z$:\n",
    "\n",
    "$$Y^{lm}(\\omega) =  C^{lm}\\left( \\omega_x + i\\omega_y\\right)^m \\sum_j^{\\lfloor\\frac{l-m}{2}\\rfloor}a^{lmj}\\omega_z^{l-m-2j}$$\n",
    "\n",
    "Expanding the expression above for concrete values of $l$ and $m$ will give a sequence of terms. For example with $l=2$ and $m=1$ we get:\n",
    "\n",
    "$$a^{2,1,0}C^{2,1}n_xn_z+a^{2,1,1}C^{2,1}n_xn_z^{-1}+a^{2,1,0}C^{2,1}in_yn_z+a^{2,1,1}C^{2,1}in_yn_z^{-1} $$\n",
    "\n",
    "Now we see that we have terms containing components of $N_2$ (e.g. $n_xn_z$, $n_yn_z$), which are multiplied with some coefficients which only depend on $l$ and $m$ but not on direction $\\omega$. We see that there are also terms containing elements which are not a component of $N_2$, such as $n_z^{-1}$. It turns out that the coefficients for these terms are always zero.\n",
    "\n",
    "This means that we somehow can express the equation for $Y^{lm}$ above as a tensor contraction (which for us simply is a sum of component wise multiplication between two equal rank tensors). And this is what  [this paper](http://journals.aps.org/rmp/abstract/10.1103/RevModPhys.52.299) claims in equation 2.11:\n",
    "\n",
    "$$ Y^{lm}(\\omega) = y^{lm}_{K=l} N_{K=l} $$\n",
    "\n",
    "The tensor $y^{lm}$ has rank $l$ and therefore contains $l$ indices. Its components can be found by reading it off the terms in the expanded equation for $Y^{lm}$.\n",
    "\n",
    "Apparently, this claim is not exactly true. For example, take a look at the expanded equation for $Y^{lm}$ with $l=3$ and $m=0$:\n",
    "\n",
    "$$ a^{3,0,0}C^{3,0}n_z^{3}+a^{3,0,1}C^{3,0}n_z+a^{3,0,2}C^{3,0}n_z^{-1} $$\n",
    "\n",
    "We have one component ($n_z^{3}$) which belongs to the rank three tensor $N_3$. The coefficients of the term containing $n_z^{-1}$ evaluate to zero. Therefore this term can be ignored. The thid term contains only $n_z$, which clearly is not a component of the rank three tensor $N_3$, but rather a component of $N_1$. It appears, that we can factorize the equation for $Y^{lm}$ above into a collection of tensors with different rank. More specifically, factorizing $Y^{lm}$ for level $l$ will produce $y^{lm}$-tensors of rank $l$, $l-2$, $l-4$,etc. We can write this as:\n",
    "\n",
    "$$ Y^{lm}(\\omega) = y^{lm}_{K=l}N_{K=l} + y^{lm}_{K-2}N_{K-2} + y^{lm}_{K-4}N_{K-4} + ... $$\n",
    "\n",
    "We use the following notation as a shortcut, to express that the factorization of $Y^{lm}$ gives a bunch of tensors with different rank:\n",
    "\n",
    "$$ Y^{lm}(\\omega) = \\sum_{j=l, l-2, l-4, ...}{y^{lmj}_{K=j} N_{K=j}}$$\n",
    "\n",
    "With $y^{lmj}$, we mean the tensor of rank $j$ resulting from the factorization of $Y^{lm}$. With that we have expressed the spherical harmonics basis functions as a contraction between direction-independent tensors $y^{lm}$ and the direction dependent tensor $N$.\n",
    "\n",
    "The tensors $y^{lm}$ serve two different purposes. First, they produce the spherical harmonics basis functions. And second, they can be used to convert from spherical harmonics coefficients to tensors $F_K$ for our moment expansion:\n",
    "\n",
    "$$\\sum_{j=l, l-2,...}{F_{K=j}} = \\sum_{m=-l}^l{\\alpha^{lm}\\left(\\sum_{j=l, l-2, ...}{y^{lm}_{K=j}}\\right)} $$\n",
    "\n",
    "$\\alpha^{lm}$ are the spherical harmonics coefficients found by projecting $L$ onto $Y^{lm}$. Then $y^{lm}$ are summed over $m$ to produce the final moment tensors which we can use in our spherical harmonics expansion. Each $y^{lm}$-tensor contributes to multiple lower ranks in $F$.\n",
    "\n",
    "Another way one could write this down is by saying that the moment tensor $F_K$ is a found by summing over all contributions from higher order $y^{lm}$, multiplied by their respective spherical harmonics coefficients:\n",
    "\n",
    "$$F_{K} = \\sum_{j=K,K+2,...}{\\alpha^{lm}y^{lmj}_{K}}$$\n",
    "\n",
    "With that we have found the tensors for higher order moment expansion of $L$:\n",
    "\n",
    "$$ L \\approx \\sum_{j=0}^\\infty{F_K N_K} $$\n",
    "\n"
   ]
  },
  {
   "cell_type": "markdown",
   "metadata": {
    "collapsed": true
   },
   "source": [
    "### Results\n",
    "Here we show the moment expansion and standard spherical harmonics expansion for an environment map. The images are in order of $l=0, 1, 2, 4, 8, 13, 30$:\n",
    "\n",
    "<img src=\"images_sh_moexp/sh_moexp.0000.jpg\" width=\"512\" height=\"512\">\n",
    "<img src=\"images_sh_moexp/sh_moexp.0001.jpg\" width=\"512\" height=\"512\">\n",
    "<img src=\"images_sh_moexp/sh_moexp.0002.jpg\" width=\"512\" height=\"512\">\n",
    "<img src=\"images_sh_moexp/sh_moexp.0004.jpg\" width=\"512\" height=\"512\">\n",
    "<img src=\"images_sh_moexp/sh_moexp.0008.jpg\" width=\"512\" height=\"512\">\n",
    "<img src=\"images_sh_moexp/sh_moexp.0013.jpg\" width=\"512\" height=\"512\">\n",
    "<img src=\"images_sh_moexp/sh_moexp.0030.jpg\" width=\"512\" height=\"512\">"
   ]
  },
  {
   "cell_type": "markdown",
   "metadata": {
    "collapsed": true
   },
   "source": [
    "### Discussion\n",
    "\n",
    "* complex spherical harmonics...can we derive the whole thing for real harmonics?\n",
    "* moment expansion for l=30 is missing because computer resources were not enough to compute the tensors etc."
   ]
  }
 ],
 "metadata": {
  "anaconda-cloud": {},
  "kernelspec": {
   "display_name": "Python [default]",
   "language": "python",
   "name": "python3"
  },
  "language_info": {
   "codemirror_mode": {
    "name": "ipython",
    "version": 3
   },
   "file_extension": ".py",
   "mimetype": "text/x-python",
   "name": "python",
   "nbconvert_exporter": "python",
   "pygments_lexer": "ipython3",
   "version": "3.5.2"
  }
 },
 "nbformat": 4,
 "nbformat_minor": 2
}
