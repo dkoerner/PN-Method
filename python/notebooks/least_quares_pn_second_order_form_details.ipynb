{
 "cells": [
  {
   "cell_type": "markdown",
   "metadata": {},
   "source": [
    "<h2><center>Details on spherical harmonics expansion of second-order form</center></h2>\n",
    "\n",
    "This notebook gives some more details on the SH expansion of the individual terms in the second-order form of the transport equation. It is meant to complement the notebook least_quares_pn_with_finite_differences.ipynb."
   ]
  },
  {
   "cell_type": "markdown",
   "metadata": {},
   "source": [
    "\n",
    "### Second-order transport term\n",
    "\n",
    "We derive the expansion of the second-order directional derivative term:\n",
    "$$\n",
    "-\\omega\\cdot\\nabla\\left(\\omega\\cdot\\nabla L\\right)\n",
    "$$\n",
    "\n",
    "We will expand L later into its truncated expansion. First we will multiply the term with $\\overline{Y^{l'm'}}$ and integrate over solid angle:\n",
    "\n",
    "$$\n",
    "-\\int_{\\Omega}\\overline{Y^{l'm'}} \\omega\\cdot\\nabla\\left(\\omega\\cdot\\nabla L\\right) \\mathbf{d}\\omega\n",
    "$$\n",
    "\n",
    "as we did in the derivation for the starmap equations, we can pull the outer spatial derivative out of the integral:\n",
    "\n",
    "$$\n",
    "-\\nabla\\cdot\\int_{\\Omega}\\omega\\overline{Y^{l'm'}}\\left(\\omega\\cdot\\nabla L\\right) \\mathbf{d}\\omega\n",
    "$$\n",
    "\n",
    "Exanding the dot product gives:\n",
    "\n",
    "\n",
    "$$\n",
    "-\\partial_x\\left(\\int{\\omega_{x}\\overline{Y^{l', m'}}(\\omega )\\left(\\omega_{x}\\partial_xL\\left (\\vec{x} ,\\omega \\right )+\\omega_{y}\\partial_yL\\left (\\vec{x} ,\\omega \\right )+\\omega_{z}\\partial_zL\\left (\\vec{x} ,\\omega \\right )\\right)\\mathbf{d}\\omega}\\right)-\\partial_y\\left(\\int{\\omega_{y}\\overline{Y^{l', m'}}(\\omega )\\left(\\omega_{x}\\partial_xL\\left (\\vec{x} ,\\omega \\right )+\\omega_{y}\\partial_yL\\left (\\vec{x} ,\\omega \\right )+\\omega_{z}\\partial_zL\\left (\\vec{x} ,\\omega \\right )\\right)\\mathbf{d}\\omega}\\right)-\\partial_z\\left(\\int{\\omega_{z}\\overline{Y^{l', m'}}(\\omega )\\left(\\omega_{x}\\partial_xL\\left (\\vec{x} ,\\omega \\right )+\\omega_{y}\\partial_yL\\left (\\vec{x} ,\\omega \\right )+\\omega_{z}\\partial_zL\\left (\\vec{x} ,\\omega \\right )\\right)\\mathbf{d}\\omega}\\right)\n",
    "$$\n",
    "\n",
    "\n",
    "Again, we use the following recurrence relation:\n",
    "\n",
    "$$\n",
    "\\omega\\overline{Y^{lm}}\n",
    "=\n",
    "\\left(\n",
    "\\begin{array}\n",
    "\\ w_x \\\\\n",
    "w_y \\\\\n",
    "w_z\n",
    "\\end{array}\n",
    "\\right)\n",
    "\\overline{Y^{lm}}\n",
    "=\n",
    "\\left[\n",
    "\\begin{array}\n",
    "\\center\n",
    "\\ \\frac{1}{2}\\left(-c^{l-1, m-1}\\overline{Y^{l-1,m-1}} + d^{l+1, m-1}\\overline{Y^{l+1,m-1}} + e^{l-1, m+1}\\overline{Y^{l-1,m+1}} - f^{l+1, m+1}\\overline{Y^{l+1,m+1}}\\right)\\\\\n",
    "\\frac{i}{2}\\left(c^{l-1, m-1}\\overline{Y^{l-1,m-1}} - d^{l+1, m-1}\\overline{Y^{l+1,m-1}} + e^{l-1, m+1}\\overline{Y^{l-1,m+1}} - f^{l+1, m+1}\\overline{Y^{l+1,m+1}}\\right) \\\\\n",
    "\\left(a^{l-1, m}\\overline{Y^{l-1,m}}+b^{l+1, m}\\overline{Y^{l+1,m}}\\right)\n",
    "\\end{array}\n",
    "\\right]\n",
    "$$\n",
    "\n"
   ]
  },
  {
   "cell_type": "markdown",
   "metadata": {},
   "source": [
    "Using this recursive relations, and replacing $L$ with its SH expandions gives after some further rearrangements:\n",
    "\n",
    "$$\n",
    "-\\frac{1}{4}\\partial_xc^{{l'-1,m'-1}}\\partial_xc^{{l'-2,m'-2}}L^{{l'-2,m'-2}}\\left (\\vec{x}\\right )+\\frac{1}{4}\\partial_xc^{{l'-1,m'-1}}\\partial_xd^{{l',m'-2}}L^{{l',m'-2}}\\left (\\vec{x}\\right )+\\frac{1}{4}\\partial_xc^{{l'-1,m'-1}}\\partial_xe^{{l'-2,m'}}L^{{l'-2,m'}}\\left (\\vec{x}\\right )-\\frac{1}{4}\\partial_xc^{{l'-1,m'-1}}\\partial_xf^{{l',m'}}L^{{l',m'}}\\left (\\vec{x}\\right )+\\frac{i}{4}\\partial_xc^{{l'-1,m'-1}}\\partial_yc^{{l'-2,m'-2}}L^{{l'-2,m'-2}}\\left (\\vec{x}\\right )-\\frac{i}{4}\\partial_xc^{{l'-1,m'-1}}\\partial_yd^{{l',m'-2}}L^{{l',m'-2}}\\left (\\vec{x}\\right )+\\frac{i}{4}\\partial_xc^{{l'-1,m'-1}}\\partial_ye^{{l'-2,m'}}L^{{l'-2,m'}}\\left (\\vec{x}\\right )-\\frac{i}{4}\\partial_xc^{{l'-1,m'-1}}\\partial_yf^{{l',m'}}L^{{l',m'}}\\left (\\vec{x}\\right )+\\frac{1}{2}\\partial_xc^{{l'-1,m'-1}}\\partial_za^{{l'-2,m'-1}}L^{{l'-2,m'-1}}\\left (\\vec{x}\\right )+\\frac{1}{2}\\partial_xc^{{l'-1,m'-1}}\\partial_zb^{{l',m'-1}}L^{{l',m'-1}}\\left (\\vec{x}\\right )+\\frac{1}{4}\\partial_x\\partial_xd^{{l'+1,m'-1}}c^{{l',m'-2}}L^{{l',m'-2}}\\left (\\vec{x}\\right )-\\frac{1}{4}\\partial_x\\partial_xd^{{l'+1,m'-1}}d^{{l'+2,m'-2}}L^{{l'+2,m'-2}}\\left (\\vec{x}\\right )-\\frac{1}{4}\\partial_x\\partial_xd^{{l'+1,m'-1}}e^{{l',m'}}L^{{l',m'}}\\left (\\vec{x}\\right )+\\frac{1}{4}\\partial_x\\partial_xd^{{l'+1,m'-1}}f^{{l'+2,m'}}L^{{l'+2,m'}}\\left (\\vec{x}\\right )-\\frac{i}{4}\\partial_x\\partial_yd^{{l'+1,m'-1}}c^{{l',m'-2}}L^{{l',m'-2}}\\left (\\vec{x}\\right )+\\frac{i}{4}\\partial_x\\partial_yd^{{l'+1,m'-1}}d^{{l'+2,m'-2}}L^{{l'+2,m'-2}}\\left (\\vec{x}\\right )-\\frac{i}{4}\\partial_x\\partial_yd^{{l'+1,m'-1}}e^{{l',m'}}L^{{l',m'}}\\left (\\vec{x}\\right )+\\frac{i}{4}\\partial_x\\partial_yd^{{l'+1,m'-1}}f^{{l'+2,m'}}L^{{l'+2,m'}}\\left (\\vec{x}\\right )-\\frac{1}{2}\\partial_x\\partial_zd^{{l'+1,m'-1}}a^{{l',m'-1}}L^{{l',m'-1}}\\left (\\vec{x}\\right )-\\frac{1}{2}\\partial_x\\partial_zd^{{l'+1,m'-1}}b^{{l'+2,m'-1}}L^{{l'+2,m'-1}}\\left (\\vec{x}\\right )+\\frac{1}{4}\\partial_x\\partial_xe^{{l'-1,m'+1}}c^{{l'-2,m'}}L^{{l'-2,m'}}\\left (\\vec{x}\\right )-\\frac{1}{4}\\partial_x\\partial_xe^{{l'-1,m'+1}}d^{{l',m'}}L^{{l',m'}}\\left (\\vec{x}\\right )-\\frac{1}{4}\\partial_x\\partial_xe^{{l'-1,m'+1}}e^{{l'-2,m'+2}}L^{{l'-2,m'+2}}\\left (\\vec{x}\\right )+\\frac{1}{4}\\partial_x\\partial_xe^{{l'-1,m'+1}}f^{{l',m'+2}}L^{{l',m'+2}}\\left (\\vec{x}\\right )-\\frac{i}{4}\\partial_x\\partial_ye^{{l'-1,m'+1}}c^{{l'-2,m'}}L^{{l'-2,m'}}\\left (\\vec{x}\\right )+\\frac{i}{4}\\partial_x\\partial_ye^{{l'-1,m'+1}}d^{{l',m'}}L^{{l',m'}}\\left (\\vec{x}\\right )-\\frac{i}{4}\\partial_x\\partial_ye^{{l'-1,m'+1}}e^{{l'-2,m'+2}}L^{{l'-2,m'+2}}\\left (\\vec{x}\\right )+\\frac{i}{4}\\partial_x\\partial_ye^{{l'-1,m'+1}}f^{{l',m'+2}}L^{{l',m'+2}}\\left (\\vec{x}\\right )-\\frac{1}{2}\\partial_x\\partial_ze^{{l'-1,m'+1}}a^{{l'-2,m'+1}}L^{{l'-2,m'+1}}\\left (\\vec{x}\\right )-\\frac{1}{2}\\partial_x\\partial_ze^{{l'-1,m'+1}}b^{{l',m'+1}}L^{{l',m'+1}}\\left (\\vec{x}\\right )-\\frac{1}{4}\\partial_xf^{{l'+1,m'+1}}\\partial_xc^{{l',m'}}L^{{l',m'}}\\left (\\vec{x}\\right )+\\frac{1}{4}\\partial_xf^{{l'+1,m'+1}}\\partial_xd^{{l'+2,m'}}L^{{l'+2,m'}}\\left (\\vec{x}\\right )+\\frac{1}{4}\\partial_xf^{{l'+1,m'+1}}\\partial_xe^{{l',m'+2}}L^{{l',m'+2}}\\left (\\vec{x}\\right )-\\frac{1}{4}\\partial_xf^{{l'+1,m'+1}}\\partial_xf^{{l'+2,m'+2}}L^{{l'+2,m'+2}}\\left (\\vec{x}\\right )+\\frac{i}{4}\\partial_xf^{{l'+1,m'+1}}\\partial_yc^{{l',m'}}L^{{l',m'}}\\left (\\vec{x}\\right )-\\frac{i}{4}\\partial_xf^{{l'+1,m'+1}}\\partial_yd^{{l'+2,m'}}L^{{l'+2,m'}}\\left (\\vec{x}\\right )+\\frac{i}{4}\\partial_xf^{{l'+1,m'+1}}\\partial_ye^{{l',m'+2}}L^{{l',m'+2}}\\left (\\vec{x}\\right )-\\frac{i}{4}\\partial_xf^{{l'+1,m'+1}}\\partial_yf^{{l'+2,m'+2}}L^{{l'+2,m'+2}}\\left (\\vec{x}\\right )+\\frac{1}{2}\\partial_xf^{{l'+1,m'+1}}\\partial_za^{{l',m'+1}}L^{{l',m'+1}}\\left (\\vec{x}\\right )+\\frac{1}{2}\\partial_xf^{{l'+1,m'+1}}\\partial_zb^{{l'+2,m'+1}}L^{{l'+2,m'+1}}\\left (\\vec{x}\\right )+\\frac{i}{4}\\partial_y\\partial_xc^{{l'-1,m'-1}}c^{{l'-2,m'-2}}L^{{l'-2,m'-2}}\\left (\\vec{x}\\right )-\\frac{i}{4}\\partial_y\\partial_xc^{{l'-1,m'-1}}d^{{l',m'-2}}L^{{l',m'-2}}\\left (\\vec{x}\\right )-\\frac{i}{4}\\partial_y\\partial_xc^{{l'-1,m'-1}}e^{{l'-2,m'}}L^{{l'-2,m'}}\\left (\\vec{x}\\right )+\\frac{i}{4}\\partial_y\\partial_xc^{{l'-1,m'-1}}f^{{l',m'}}L^{{l',m'}}\\left (\\vec{x}\\right )+\\frac{1}{4}\\partial_y\\partial_yc^{{l'-1,m'-1}}c^{{l'-2,m'-2}}L^{{l'-2,m'-2}}\\left (\\vec{x}\\right )-\\frac{1}{4}\\partial_y\\partial_yc^{{l'-1,m'-1}}d^{{l',m'-2}}L^{{l',m'-2}}\\left (\\vec{x}\\right )+\\frac{1}{4}\\partial_y\\partial_yc^{{l'-1,m'-1}}e^{{l'-2,m'}}L^{{l'-2,m'}}\\left (\\vec{x}\\right )-\\frac{1}{4}\\partial_y\\partial_yc^{{l'-1,m'-1}}f^{{l',m'}}L^{{l',m'}}\\left (\\vec{x}\\right )-\\frac{i}{2}\\partial_y\\partial_zc^{{l'-1,m'-1}}a^{{l'-2,m'-1}}L^{{l'-2,m'-1}}\\left (\\vec{x}\\right )-\\frac{i}{2}\\partial_y\\partial_zc^{{l'-1,m'-1}}b^{{l',m'-1}}L^{{l',m'-1}}\\left (\\vec{x}\\right )-\\frac{i}{4}\\partial_yd^{{l'+1,m'-1}}\\partial_xc^{{l',m'-2}}L^{{l',m'-2}}\\left (\\vec{x}\\right )+\\frac{i}{4}\\partial_yd^{{l'+1,m'-1}}\\partial_xd^{{l'+2,m'-2}}L^{{l'+2,m'-2}}\\left (\\vec{x}\\right )+\\frac{i}{4}\\partial_yd^{{l'+1,m'-1}}\\partial_xe^{{l',m'}}L^{{l',m'}}\\left (\\vec{x}\\right )-\\frac{i}{4}\\partial_yd^{{l'+1,m'-1}}\\partial_xf^{{l'+2,m'}}L^{{l'+2,m'}}\\left (\\vec{x}\\right )-\\frac{1}{4}\\partial_yd^{{l'+1,m'-1}}\\partial_yc^{{l',m'-2}}L^{{l',m'-2}}\\left (\\vec{x}\\right )+\\frac{1}{4}\\partial_yd^{{l'+1,m'-1}}\\partial_yd^{{l'+2,m'-2}}L^{{l'+2,m'-2}}\\left (\\vec{x}\\right )-\\frac{1}{4}\\partial_yd^{{l'+1,m'-1}}\\partial_ye^{{l',m'}}L^{{l',m'}}\\left (\\vec{x}\\right )+\\frac{1}{4}\\partial_yd^{{l'+1,m'-1}}\\partial_yf^{{l'+2,m'}}L^{{l'+2,m'}}\\left (\\vec{x}\\right )+\\frac{i}{2}\\partial_yd^{{l'+1,m'-1}}\\partial_za^{{l',m'-1}}L^{{l',m'-1}}\\left (\\vec{x}\\right )+\\frac{i}{2}\\partial_yd^{{l'+1,m'-1}}\\partial_zb^{{l'+2,m'-1}}L^{{l'+2,m'-1}}\\left (\\vec{x}\\right )+\\frac{i}{4}\\partial_y\\partial_xe^{{l'-1,m'+1}}c^{{l'-2,m'}}L^{{l'-2,m'}}\\left (\\vec{x}\\right )-\\frac{i}{4}\\partial_y\\partial_xe^{{l'-1,m'+1}}d^{{l',m'}}L^{{l',m'}}\\left (\\vec{x}\\right )-\\frac{i}{4}\\partial_y\\partial_xe^{{l'-1,m'+1}}e^{{l'-2,m'+2}}L^{{l'-2,m'+2}}\\left (\\vec{x}\\right )+\\frac{i}{4}\\partial_y\\partial_xe^{{l'-1,m'+1}}f^{{l',m'+2}}L^{{l',m'+2}}\\left (\\vec{x}\\right )+\\frac{1}{4}\\partial_y\\partial_ye^{{l'-1,m'+1}}c^{{l'-2,m'}}L^{{l'-2,m'}}\\left (\\vec{x}\\right )-\\frac{1}{4}\\partial_y\\partial_ye^{{l'-1,m'+1}}d^{{l',m'}}L^{{l',m'}}\\left (\\vec{x}\\right )+\\frac{1}{4}\\partial_y\\partial_ye^{{l'-1,m'+1}}e^{{l'-2,m'+2}}L^{{l'-2,m'+2}}\\left (\\vec{x}\\right )-\\frac{1}{4}\\partial_y\\partial_ye^{{l'-1,m'+1}}f^{{l',m'+2}}L^{{l',m'+2}}\\left (\\vec{x}\\right )-\\frac{i}{2}\\partial_y\\partial_ze^{{l'-1,m'+1}}a^{{l'-2,m'+1}}L^{{l'-2,m'+1}}\\left (\\vec{x}\\right )-\\frac{i}{2}\\partial_y\\partial_ze^{{l'-1,m'+1}}b^{{l',m'+1}}L^{{l',m'+1}}\\left (\\vec{x}\\right )-\\frac{i}{4}\\partial_yf^{{l'+1,m'+1}}\\partial_xc^{{l',m'}}L^{{l',m'}}\\left (\\vec{x}\\right )+\\frac{i}{4}\\partial_yf^{{l'+1,m'+1}}\\partial_xd^{{l'+2,m'}}L^{{l'+2,m'}}\\left (\\vec{x}\\right )+\\frac{i}{4}\\partial_yf^{{l'+1,m'+1}}\\partial_xe^{{l',m'+2}}L^{{l',m'+2}}\\left (\\vec{x}\\right )-\\frac{i}{4}\\partial_yf^{{l'+1,m'+1}}\\partial_xf^{{l'+2,m'+2}}L^{{l'+2,m'+2}}\\left (\\vec{x}\\right )-\\frac{1}{4}\\partial_yf^{{l'+1,m'+1}}\\partial_yc^{{l',m'}}L^{{l',m'}}\\left (\\vec{x}\\right )+\\frac{1}{4}\\partial_yf^{{l'+1,m'+1}}\\partial_yd^{{l'+2,m'}}L^{{l'+2,m'}}\\left (\\vec{x}\\right )-\\frac{1}{4}\\partial_yf^{{l'+1,m'+1}}\\partial_ye^{{l',m'+2}}L^{{l',m'+2}}\\left (\\vec{x}\\right )+\\frac{1}{4}\\partial_yf^{{l'+1,m'+1}}\\partial_yf^{{l'+2,m'+2}}L^{{l'+2,m'+2}}\\left (\\vec{x}\\right )+\\frac{i}{2}\\partial_yf^{{l'+1,m'+1}}\\partial_za^{{l',m'+1}}L^{{l',m'+1}}\\left (\\vec{x}\\right )+\\frac{i}{2}\\partial_yf^{{l'+1,m'+1}}\\partial_zb^{{l'+2,m'+1}}L^{{l'+2,m'+1}}\\left (\\vec{x}\\right )+\\frac{1}{2}\\partial_za^{{l'-1,m'}}\\partial_xc^{{l'-2,m'-1}}L^{{l'-2,m'-1}}\\left (\\vec{x}\\right )-\\frac{1}{2}\\partial_za^{{l'-1,m'}}\\partial_xd^{{l',m'-1}}L^{{l',m'-1}}\\left (\\vec{x}\\right )-\\frac{1}{2}\\partial_za^{{l'-1,m'}}\\partial_xe^{{l'-2,m'+1}}L^{{l'-2,m'+1}}\\left (\\vec{x}\\right )+\\frac{1}{2}\\partial_za^{{l'-1,m'}}\\partial_xf^{{l',m'+1}}L^{{l',m'+1}}\\left (\\vec{x}\\right )-\\frac{i}{2}\\partial_za^{{l'-1,m'}}\\partial_yc^{{l'-2,m'-1}}L^{{l'-2,m'-1}}\\left (\\vec{x}\\right )+\\frac{i}{2}\\partial_za^{{l'-1,m'}}\\partial_yd^{{l',m'-1}}L^{{l',m'-1}}\\left (\\vec{x}\\right )-\\frac{i}{2}\\partial_za^{{l'-1,m'}}\\partial_ye^{{l'-2,m'+1}}L^{{l'-2,m'+1}}\\left (\\vec{x}\\right )+\\frac{i}{2}\\partial_za^{{l'-1,m'}}\\partial_yf^{{l',m'+1}}L^{{l',m'+1}}\\left (\\vec{x}\\right )-\\partial_za^{{l'-1,m'}}\\partial_za^{{l'-2,m'}}L^{{l'-2,m'}}\\left (\\vec{x}\\right )-\\partial_za^{{l'-1,m'}}\\partial_zb^{{l',m'}}L^{{l',m'}}\\left (\\vec{x}\\right )+\\frac{1}{2}\\partial_zb^{{l'+1,m'}}\\partial_xc^{{l',m'-1}}L^{{l',m'-1}}\\left (\\vec{x}\\right )-\\frac{1}{2}\\partial_zb^{{l'+1,m'}}\\partial_xd^{{l'+2,m'-1}}L^{{l'+2,m'-1}}\\left (\\vec{x}\\right )-\\frac{1}{2}\\partial_zb^{{l'+1,m'}}\\partial_xe^{{l',m'+1}}L^{{l',m'+1}}\\left (\\vec{x}\\right )+\\frac{1}{2}\\partial_zb^{{l'+1,m'}}\\partial_xf^{{l'+2,m'+1}}L^{{l'+2,m'+1}}\\left (\\vec{x}\\right )-\\frac{i}{2}\\partial_zb^{{l'+1,m'}}\\partial_yc^{{l',m'-1}}L^{{l',m'-1}}\\left (\\vec{x}\\right )+\\frac{i}{2}\\partial_zb^{{l'+1,m'}}\\partial_yd^{{l'+2,m'-1}}L^{{l'+2,m'-1}}\\left (\\vec{x}\\right )-\\frac{i}{2}\\partial_zb^{{l'+1,m'}}\\partial_ye^{{l',m'+1}}L^{{l',m'+1}}\\left (\\vec{x}\\right )+\\frac{i}{2}\\partial_zb^{{l'+1,m'}}\\partial_yf^{{l'+2,m'+1}}L^{{l'+2,m'+1}}\\left (\\vec{x}\\right )-\\partial_zb^{{l'+1,m'}}\\partial_za^{{l',m'}}L^{{l',m'}}\\left (\\vec{x}\\right )-\\partial_zb^{{l'+1,m'}}\\partial_zb^{{l'+2,m'}}L^{{l'+2,m'}}\\left (\\vec{x}\\right )\n",
    "$$\n"
   ]
  },
  {
   "cell_type": "markdown",
   "metadata": {
    "collapsed": true
   },
   "source": [
    "### Extinction directional derivative term\n",
    "\n",
    "We derive the expansion of the following term of the second-order form of the transport equatiuon:\n",
    "\n",
    "$$\n",
    "-\\left(\\omega L\\cdot \\nabla\\sigma_t\\right)\n",
    "$$\n",
    "\n",
    "expanding the dot product, projecting into SH basis function and integrating over solid angle gives:\n",
    "\n",
    "$$\n",
    "\\int{-\\overline{Y^{l', m'}}(\\omega)\\omega_{x}L\\left (\\vec{x},\\omega\\right )\\partial_x\\sigma_t\\left (\\vec{x}\\right )-\\overline{Y^{l', m'}}(\\omega)\\omega_{y}L\\left (\\vec{x},\\omega\\right )\\partial_y\\sigma_t\\left (\\vec{x}\\right )-\\overline{Y^{l', m'}}(\\omega)\\omega_{z}L\\left (\\vec{x},\\omega\\right )\\partial_z\\sigma_t\\left (\\vec{x}\\right )\\mathbf{d}\\omega}\n",
    "$$\n",
    "\n",
    "Applying recursive relations, replacing $L$ by its SH expansion and rearranging terms results in the final form, from which we can infer the matrix coefficients:\n",
    "\n",
    "$$\n",
    "c^{{l'-1,m'-1}}\\frac{1}{2}\\partial_x\\sigma_t\\left (\\vec{x}\\right )L^{{l'-1,m'-1}}\\left (\\vec{x}\\right )-d^{{l'+1,m'-1}}\\frac{1}{2}\\partial_x\\sigma_t\\left (\\vec{x}\\right )L^{{l'+1,m'-1}}\\left (\\vec{x}\\right )-e^{{l'-1,m'+1}}\\frac{1}{2}\\partial_x\\sigma_t\\left (\\vec{x}\\right )L^{{l'-1,m'+1}}\\left (\\vec{x}\\right )+f^{{l'+1,m'+1}}\\frac{1}{2}\\partial_x\\sigma_t\\left (\\vec{x}\\right )L^{{l'+1,m'+1}}\\left (\\vec{x}\\right )-c^{{l'-1,m'-1}}\\frac{i}{2}\\partial_y\\sigma_t\\left (\\vec{x}\\right )L^{{l'-1,m'-1}}\\left (\\vec{x}\\right )+d^{{l'+1,m'-1}}\\frac{i}{2}\\partial_y\\sigma_t\\left (\\vec{x}\\right )L^{{l'+1,m'-1}}\\left (\\vec{x}\\right )-e^{{l'-1,m'+1}}\\frac{i}{2}\\partial_y\\sigma_t\\left (\\vec{x}\\right )L^{{l'-1,m'+1}}\\left (\\vec{x}\\right )+f^{{l'+1,m'+1}}\\frac{i}{2}\\partial_y\\sigma_t\\left (\\vec{x}\\right )L^{{l'+1,m'+1}}\\left (\\vec{x}\\right )-a^{{l'-1,m'}}\\partial_z\\sigma_t\\left (\\vec{x}\\right )L^{{l'-1,m'}}\\left (\\vec{x}\\right )-b^{{l'+1,m'}}\\partial_z\\sigma_t\\left (\\vec{x}\\right )L^{{l'+1,m'}}\\left (\\vec{x}\\right )\n",
    "$$\n",
    "\n",
    "------------------------------"
   ]
  },
  {
   "cell_type": "markdown",
   "metadata": {},
   "source": [
    "### Squared extinction term\n",
    "\n",
    "The SH expansion of following term of the second-order form:\n",
    "\n",
    "$$\n",
    "\\sigma_t^2L\n",
    "$$\n",
    "\n",
    "is very similar to the SH expansion of the extinction term in the spherical harmonics method and results in:\n",
    "\n",
    "$$\n",
    "\\sigma_t^2L^{lm}\n",
    "$$\n",
    "\n",
    "which can be easily expressed as a product of a diagonal matrix with the SH coefficients.\n",
    "\n",
    "------------------------------"
   ]
  },
  {
   "cell_type": "markdown",
   "metadata": {},
   "source": [
    "### Directional derivative scattering term\n",
    "\n",
    "The term is\n",
    "$$\n",
    "-\\left(\\omega\\cdot\\nabla\\right)\\left(\\sigma_s\\int_{\\Omega'}f_p\\left(\\omega'\\rightarrow\\omega\\right)L\\mathbf{d}\\omega\\right)\n",
    "$$\n",
    "\n",
    "after using that in isotropic media, the effect of the phase function can be expressed as a product between SH coefficients and further projecting the term into SH:\n",
    "\n",
    "$$\n",
    "\\int{\\overline{Y^{l', m'}}(\\omega )\\left(-\\omega \\cdot\\left[\\begin{array}\\ \\partial_x\\left(\\sum_{l=0}^{\\infty}{\\sum_{m=-l}^{l}{\\lambda_{{l}}f_p^{{l,0}}\\left (\\vec{x} \\right )L^{{l,m}}\\left (\\vec{x} \\right )Y^{l, m}(\\omega )}}\\right)\\\\\\partial_y\\left(\\sum_{l=0}^{\\infty}{\\sum_{m=-l}^{l}{\\lambda_{{l}}f_p^{{l,0}}\\left (\\vec{x} \\right )L^{{l,m}}\\left (\\vec{x} \\right )Y^{l, m}(\\omega )}}\\right)\\\\\\partial_z\\left(\\sum_{l=0}^{\\infty}{\\sum_{m=-l}^{l}{\\lambda_{{l}}f_p^{{l,0}}\\left (\\vec{x} \\right )L^{{l,m}}\\left (\\vec{x} \\right )Y^{l, m}(\\omega )}}\\right)\\\\\\end{array}\\right]\\right)\\mathbf{d}\\omega}\n",
    "$$\n",
    "\n",
    "which after further application of identites results in:\n",
    "\n",
    "$$\n",
    "\\lambda_{{l'-1}}\\frac{1}{2}c^{{l'-1,m'-1}}\\partial_x\\left(f_p^{{l'-1,0}}\\left (\\vec{x} \\right )L^{{l'-1,m'-1}}\\left (\\vec{x} \\right )\\right)-\\lambda_{{l'+1}}\\frac{1}{2}d^{{l'+1,m'-1}}\\partial_x\\left(f_p^{{l'+1,0}}\\left (\\vec{x} \\right )L^{{l'+1,m'-1}}\\left (\\vec{x} \\right )\\right)-\\lambda_{{l'-1}}\\frac{1}{2}e^{{l'-1,m'+1}}\\partial_x\\left(f_p^{{l'-1,0}}\\left (\\vec{x} \\right )L^{{l'-1,m'+1}}\\left (\\vec{x} \\right )\\right)+\\lambda_{{l'+1}}\\frac{1}{2}f^{{l'+1,m'+1}}\\partial_x\\left(f_p^{{l'+1,0}}\\left (\\vec{x} \\right )L^{{l'+1,m'+1}}\\left (\\vec{x} \\right )\\right)-\\lambda_{{l'-1}}\\frac{i}{2}c^{{l'-1,m'-1}}\\partial_y\\left(f_p^{{l'-1,0}}\\left (\\vec{x} \\right )L^{{l'-1,m'-1}}\\left (\\vec{x} \\right )\\right)+\\lambda_{{l'+1}}\\frac{i}{2}d^{{l'+1,m'-1}}\\partial_y\\left(f_p^{{l'+1,0}}\\left (\\vec{x} \\right )L^{{l'+1,m'-1}}\\left (\\vec{x} \\right )\\right)-\\lambda_{{l'-1}}\\frac{i}{2}e^{{l'-1,m'+1}}\\partial_y\\left(f_p^{{l'-1,0}}\\left (\\vec{x} \\right )L^{{l'-1,m'+1}}\\left (\\vec{x} \\right )\\right)+\\lambda_{{l'+1}}\\frac{i}{2}f^{{l'+1,m'+1}}\\partial_y\\left(f_p^{{l'+1,0}}\\left (\\vec{x} \\right )L^{{l'+1,m'+1}}\\left (\\vec{x} \\right )\\right)-\\lambda_{{l'-1}}a^{{l'-1,m'}}\\partial_z\\left(f_p^{{l'-1,0}}\\left (\\vec{x} \\right )L^{{l'-1,m'}}\\left (\\vec{x} \\right )\\right)-\\lambda_{{l'+1}}b^{{l'+1,m'}}\\partial_z\\left(f_p^{{l'+1,0}}\\left (\\vec{x} \\right )L^{{l'+1,m'}}\\left (\\vec{x} \\right )\\right)\n",
    "$$\n",
    "\n",
    "\n",
    "------------------------------"
   ]
  },
  {
   "cell_type": "markdown",
   "metadata": {},
   "source": [
    "### Extinction scattering term\n",
    "\n",
    "$$\n",
    "\\sigma_t\\sigma_s\\int_{\\Omega'}f_p\\left(\\omega'\\rightarrow\\omega\\right)L\\mathbf{d}\\omega\n",
    "$$\n",
    "\n",
    "after using again, that in isotropic media, the application of the phase function can be expressed as a product between SH coefficients, we get the following result after SH projection:\n",
    "\n",
    "$$\n",
    "\\sigma_t\\left(\\vec{x}\\right)\\sigma_s\\left(\\vec{x}\\right)f_p(\\vec{x})^{l'0}\\lambda_{l'} L^{l'm'}(\\vec{x}) \n",
    "$$\n",
    "\n",
    "\n",
    "\n",
    "------------------------------"
   ]
  },
  {
   "cell_type": "markdown",
   "metadata": {},
   "source": [
    "### Directional derivative source term\n",
    "\n",
    "The SH expansion of following term of the second-order form:\n",
    "\n",
    "$$\n",
    "-\\omega \\cdot\\nabla Q\\left (\\vec{x},\\omega \\right )\n",
    "$$\n",
    "\n",
    "doing the SH projection and expanding the dotproduct gives:\n",
    "\n",
    "$$\n",
    "-\\int{\\overline{Y^{l', m'}}(\\omega )\\omega_{x}\\partial_xQ\\left (\\vec{x},\\omega \\right )\\mathbf{d}\\omega}-\\int{\\overline{Y^{l', m'}}(\\omega )\\omega_{y}\\partial_yQ\\left (\\vec{x},\\omega \\right )\\mathbf{d}\\omega}-\\int{\\overline{Y^{l', m'}}(\\omega )\\omega_{z}\\partial_zQ\\left (\\vec{x},\\omega \\right )\\mathbf{d}\\omega}\n",
    "$$\n",
    "\n",
    "after applying the recursive relation, we get:\n",
    "\n",
    "$$\n",
    "-\\int{\\frac{1}{2}\\left(-c^{{l'-1,m'-1}}\\overline{Y^{l'-1, m'-1}}(\\omega )+d^{{l'+1,m'-1}}\\overline{Y^{l'+1, m'-1}}(\\omega )+e^{{l'-1,m'+1}}\\overline{Y^{l'-1, m'+1}}(\\omega )-f^{{l'+1,m'+1}}\\overline{Y^{l'+1, m'+1}}(\\omega )\\right)\\partial_xQ\\left (\\vec{x},\\omega \\right )\\mathbf{d}\\omega}-\\int{\\frac{i}{2}\\left(c^{{l'-1,m'-1}}\\overline{Y^{l'-1, m'-1}}(\\omega )-d^{{l'+1,m'-1}}\\overline{Y^{l'+1, m'-1}}(\\omega )+e^{{l'-1,m'+1}}\\overline{Y^{l'-1, m'+1}}(\\omega )-f^{{l'+1,m'+1}}\\overline{Y^{l'+1, m'+1}}(\\omega )\\right)\\partial_yQ\\left (\\vec{x},\\omega \\right )\\mathbf{d}\\omega}-\\int{\\left(a^{{l'-1,m'}}\\overline{Y^{l'-1, m'}}(\\omega )+b^{{l'+1,m'}}\\overline{Y^{l'+1, m'}}(\\omega )\\right)\\partial_zQ\\left (\\vec{x},\\omega \\right )\\mathbf{d}\\omega}\n",
    "$$\n",
    "\n",
    "which results in the following form after some rearranging of terms:\n",
    "\n",
    "$$\n",
    "\\frac{1}{2}c^{{l'-1,m'-1}}\\partial_xQ^{{l'-1,m'-1}}\\left (\\vec{x} \\right )-\\frac{1}{2}d^{{l'+1,m'-1}}\\partial_xQ^{{l'+1,m'-1}}\\left (\\vec{x} \\right )-\\frac{1}{2}e^{{l'-1,m'+1}}\\partial_xQ^{{l'-1,m'+1}}\\left (\\vec{x} \\right )+\\frac{1}{2}f^{{l'+1,m'+1}}\\partial_xQ^{{l'+1,m'+1}}\\left (\\vec{x} \\right )-\\frac{i}{2}c^{{l'-1,m'-1}}\\partial_yQ^{{l'-1,m'-1}}\\left (\\vec{x} \\right )+\\frac{i}{2}d^{{l'+1,m'-1}}\\partial_yQ^{{l'+1,m'-1}}\\left (\\vec{x} \\right )-\\frac{i}{2}e^{{l'-1,m'+1}}\\partial_yQ^{{l'-1,m'+1}}\\left (\\vec{x} \\right )+\\frac{i}{2}f^{{l'+1,m'+1}}\\partial_yQ^{{l'+1,m'+1}}\\left (\\vec{x} \\right )-a^{{l'-1,m'}}\\partial_zQ^{{l'-1,m'}}\\left (\\vec{x} \\right )-b^{{l'+1,m'}}\\partial_zQ^{{l'+1,m'}}\\left (\\vec{x} \\right )\n",
    "$$\n",
    "\n",
    "\n",
    "\n",
    "----------------------------\n"
   ]
  },
  {
   "cell_type": "markdown",
   "metadata": {},
   "source": [
    "### Extinction source term\n",
    "\n",
    "SH expansion of the term:\n",
    "\n",
    "$$\n",
    "\\sigma_t\\left (\\vec{x}\\right )Q\\left (\\vec{x},\\omega \\right )\n",
    "$$\n",
    "\n",
    "results in:\n",
    "\n",
    "$$\n",
    "\\sigma_t\\left (\\vec{x}\\right )Q^{{l',m'}}\\left (\\vec{x}\\right )\n",
    "$$\n",
    "\n",
    "------------------------------"
   ]
  },
  {
   "cell_type": "code",
   "execution_count": null,
   "metadata": {
    "collapsed": true
   },
   "outputs": [],
   "source": []
  }
 ],
 "metadata": {
  "anaconda-cloud": {},
  "kernelspec": {
   "display_name": "Python 3",
   "language": "python",
   "name": "python3"
  },
  "language_info": {
   "codemirror_mode": {
    "name": "ipython",
    "version": 3
   },
   "file_extension": ".py",
   "mimetype": "text/x-python",
   "name": "python",
   "nbconvert_exporter": "python",
   "pygments_lexer": "ipython3",
   "version": "3.6.0"
  }
 },
 "nbformat": 4,
 "nbformat_minor": 1
}
