{
 "cells": [
  {
   "cell_type": "markdown",
   "metadata": {},
   "source": [
    "In this notebook we discuss the inputs to the solver, such as the emission term (RHS vector) and the scattering term which includes the SH-projection of the phase function.\n",
    "\n",
    "We further discuss seperation of single scattered light and using the solver to solve for the multiple scattered light."
   ]
  },
  {
   "cell_type": "markdown",
   "metadata": {},
   "source": [
    "### Emission field $q^{lm}$\n",
    "\n",
    "In order to compute the multiple scattered light using $P_N$, we use the single scattered light as emission field $Q$:\n",
    "\n",
    "$$\n",
    "Q(\\vec{x}, \\omega) = \\int_\\Omega{ p\\left(\\omega'\\rightarrow\\omega\\right)\\sigma_s L_u\\left(\\vec{x}, \\omega'\\right)\\mathbf{d}\\omega }\n",
    "$$\n",
    "\n",
    "where $L_u$ is the attenuated light from the lightsource at $\\vec{x}$. In case of a constant phase function ($p=\\frac{1}{4\\pi}$), we can pull $p$ and $\\sigma_s$ out of the integral and express $Q$ in terms of the uncollided fluence $\\phi_u$:\n",
    "\n",
    "$$\n",
    "\\begin{align}\n",
    "Q(\\vec{x}, \\omega)\n",
    "&= \\frac{1}{4\\pi} \\sigma_s\\int_\\Omega{ L_u\\left(\\vec{x}, \\omega'\\right)\\mathbf{d}\\omega } \\\\\n",
    "&= \\frac{1}{4\\pi} \\sigma_s\\phi_u\n",
    "\\end{align}\n",
    "$$\n",
    "\n",
    "with $P_N$, the emission term $Q(\\vec{x}, \\omega)$ is projected into SH-coefficients $q^{lm}$, which go into the RHS of the system $A\\vec{x}=\\vec{b}$:\n",
    "\n",
    "$$\n",
    "\\begin{align}\n",
    "q^{lm}\n",
    "&=\\int_\\Omega{Q(\\vec{x}, \\omega)Y^{lm}(\\omega)\\mathbf{d}\\omega} \\\\\n",
    "&=\\int_\\Omega{\\frac{1}{4\\pi} \\sigma_s\\phi_u Y^{lm}(\\omega)\\mathbf{d}\\omega} \\\\\n",
    "&=\\frac{1}{4\\pi} \\sigma_s\\phi_u \\int_\\Omega{Y^{lm}(\\omega)\\mathbf{d}\\omega} \\\\\n",
    "&= \\frac{1}{4\\pi} \\sigma_s\\phi_u \\sqrt{4\\pi}\\delta_{l=0}\\delta_{m=0}\n",
    "\\end{align}\n",
    "$$\n",
    "\n",
    "Therefore, for a constant phase function, only $q^{00}$ is non-zero.\n",
    "\n",
    "### Scattering term and phase function\n",
    "\n",
    "The scattering term in the RTE after expansion into SH is given as a convolution, when the phase function only depends on the angle between incident and outgoing direction (1D):\n",
    "\n",
    "$$\n",
    "\\sigma_s \\sqrt{\\frac{4\\pi}{2l+l}} p^{lm} L^{lm}\n",
    "$$\n",
    "\n",
    "Assuming a constant phase function ($p=\\frac{1}{4\\pi}$) we get the following projection into SH:\n",
    "\n",
    "$$\n",
    "\\begin{align}\n",
    "p^{lm} &= \\int_{\\Omega}{\\frac{1}{4\\pi}Y^{lm}\\left(\\omega\\right)\\mathbf{d}\\omega} \\\\\n",
    "&= \\frac{1}{4\\pi} \\int_{\\Omega}{Y^{lm}\\left(\\omega\\right)\\mathbf{d}\\omega} \\\\\n",
    "&= \\frac{1}{4\\pi} \\sqrt{4\\pi}\\delta_{l=0}\\delta_{m=0}\n",
    "\\end{align}\n",
    "$$\n",
    "\n",
    "Inserting this into the convolution above, gives:\n",
    "\n",
    "$$\n",
    "\\begin{align}\n",
    "&= \\sigma_s \\sqrt{4\\pi} \\frac{1}{4\\pi} \\sqrt{4\\pi}L^{00} \\\\\n",
    "&= \\sigma_s L^{00} \n",
    "\\end{align}\n",
    "$$\n",
    "\n",
    "Therefore, for a constant phase function, the scattering term in the $P_N$-equation turns into a scaling of the zero-moment of the radiance field by the scattering coefficient.\n"
   ]
  },
  {
   "cell_type": "code",
   "execution_count": null,
   "metadata": {
    "collapsed": true
   },
   "outputs": [],
   "source": []
  }
 ],
 "metadata": {
  "kernelspec": {
   "display_name": "Python 3",
   "language": "python",
   "name": "python3"
  },
  "language_info": {
   "codemirror_mode": {
    "name": "ipython",
    "version": 3
   },
   "file_extension": ".py",
   "mimetype": "text/x-python",
   "name": "python",
   "nbconvert_exporter": "python",
   "pygments_lexer": "ipython3",
   "version": "3.6.0"
  }
 },
 "nbformat": 4,
 "nbformat_minor": 2
}
