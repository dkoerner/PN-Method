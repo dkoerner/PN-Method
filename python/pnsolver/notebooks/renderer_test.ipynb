{
 "cells": [
  {
   "cell_type": "code",
   "execution_count": 4,
   "metadata": {
    "collapsed": false
   },
   "outputs": [],
   "source": [
    "import os,sys,inspect\n",
    "import json\n",
    "import numpy as np\n",
    "import renderer\n",
    "\n",
    "\n",
    "currentdir = os.path.dirname(os.path.abspath(inspect.getfile(inspect.currentframe())))\n",
    "parentdir = os.path.dirname(currentdir)\n",
    "sys.path.insert(0,parentdir) \n",
    "\n",
    "\n",
    "import util\n",
    "\n",
    "\n",
    "\n",
    "\n",
    "# just for plotting\n",
    "import matplotlib.pyplot as plt\n",
    "from matplotlib.colors import LogNorm\n",
    "from mpl_toolkits.axes_grid1 import make_axes_locatable"
   ]
  },
  {
   "cell_type": "code",
   "execution_count": 5,
   "metadata": {
    "collapsed": true
   },
   "outputs": [],
   "source": [
    "\n",
    "\n",
    "# openexr\n",
    "\n",
    "def translation_matrix(direction):\n",
    "    # Return matrix to translate by direction vector.\n",
    "    M = np.identity(4)\n",
    "    M[:3, 3] = direction[:3]\n",
    "    return M\n",
    "\n",
    "def rotation_matrix(angle, direction):\n",
    "    # Return matrix to rotate about axis defined by point and direction.\n",
    "    sina = np.sin(angle)\n",
    "    cosa = np.cos(angle)\n",
    "    #direction = unit_vector(direction[:3])\n",
    "    # rotation matrix around unit vector\n",
    "    R = np.diag([cosa, cosa, cosa])\n",
    "    R += np.outer(direction, direction) * (1.0 - cosa)\n",
    "    direction *= sina\n",
    "    R += np.array([[ 0.0,         -direction[2],  direction[1]],\n",
    "                      [ direction[2], 0.0,          -direction[0]],\n",
    "                      [-direction[1], direction[0],  0.0]])\n",
    "    M = np.identity(4)\n",
    "    M[:3, :3] = R\n",
    "    return M\n",
    "\n",
    "def load_camera( filename, id ):\n",
    "    scn_file = filename\n",
    "    json_file = open(scn_file)\n",
    "    dd = json.load(json_file)\n",
    "    json_file.close()\n",
    "    cam = dd[\"cameras\"][id]\n",
    "    resx = cam[\"resx\"]\n",
    "    resy = cam[\"resx\"]\n",
    "\n",
    "    # http://www.sidefx.com/docs/houdini/ref/cameralenses\n",
    "    pixel_aspect = 1.0\n",
    "    focal_length = cam[\"camera.fl\"]\n",
    "    aperture_x = cam[\"camera.horizontalFilmAperture\"]\n",
    "    aperture_y = (resy*aperture_x) / (resx*pixel_aspect)\n",
    "    hfovy_deg = np.rad2deg(2.0*np.arctan( (aperture_y/2.0) / focal_length ))\n",
    "\n",
    "    # assemble localtransform\n",
    "    translate = translation_matrix( np.array([cam[\"transform.tx\"], cam[\"transform.ty\"], cam[\"transform.tz\"]]) )\n",
    "    rotate_x = rotation_matrix( np.deg2rad(cam[\"transform.rx\"]), np.array([1.0, 0.0, 0.0]) )\n",
    "    rotate_y = rotation_matrix( np.deg2rad(cam[\"transform.ry\"]), np.array([0.0, 1.0, 0.0]) )\n",
    "    rotate_z = rotation_matrix( np.deg2rad(cam[\"transform.rz\"]), np.array([0.0, 0.0, 1.0]) )\n",
    "\n",
    "    cam2world = translate.dot(rotate_z.dot(rotate_y.dot(rotate_x)))\n",
    "\n",
    "    camera = renderer.create_perspective_camera(resx, resy, hfovy_deg)\n",
    "    camera.setCameraToWorldTransform(cam2world)\n",
    "\n",
    "    return camera\n"
   ]
  },
  {
   "cell_type": "code",
   "execution_count": null,
   "metadata": {
    "collapsed": true
   },
   "outputs": [],
   "source": []
  }
 ],
 "metadata": {
  "kernelspec": {
   "display_name": "Python 3",
   "language": "python",
   "name": "python3"
  },
  "language_info": {
   "codemirror_mode": {
    "name": "ipython",
    "version": 3
   },
   "file_extension": ".py",
   "mimetype": "text/x-python",
   "name": "python",
   "nbconvert_exporter": "python",
   "pygments_lexer": "ipython3",
   "version": "3.6.0"
  }
 },
 "nbformat": 4,
 "nbformat_minor": 2
}
