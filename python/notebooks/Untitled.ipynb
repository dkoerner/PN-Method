{
 "cells": [
  {
   "cell_type": "markdown",
   "metadata": {
    "collapsed": true
   },
   "source": [
    "$$\n",
    "\\frac{1}{2}d^{{l'+1,m'-1}}\\partial_xL^{{l'+1,m'-1}}\\left (\\vec{x} \\right )\n",
    "$$"
   ]
  },
  {
   "cell_type": "code",
   "execution_count": 1,
   "metadata": {
    "collapsed": true
   },
   "outputs": [],
   "source": [
    "import numpy as np\n",
    "import starmap"
   ]
  },
  {
   "cell_type": "code",
   "execution_count": 2,
   "metadata": {
    "collapsed": false
   },
   "outputs": [
    {
     "name": "stdout",
     "output_type": "stream",
     "text": [
      "test=0.408248290463863\n",
      "coefficient 0 depends on coefficient  dx  1\n",
      "coefficient 0 depends on coefficient  dy  2\n"
     ]
    }
   ],
   "source": [
    "sm = starmap.Starmap2D(1)"
   ]
  },
  {
   "cell_type": "code",
   "execution_count": 4,
   "metadata": {
    "collapsed": false
   },
   "outputs": [
    {
     "name": "stdout",
     "output_type": "stream",
     "text": [
      "[[ 0.00000000+0.j  0.40824829+0.j -0.40824829+0.j]\n",
      " [ 0.40824829+0.j  0.00000000+0.j  0.00000000+0.j]\n",
      " [-0.40824829+0.j  0.00000000+0.j  0.00000000+0.j]]\n",
      "[[ 0.          0.57735027  0.        ]\n",
      " [ 0.57735027  0.          0.        ]\n",
      " [ 0.          0.          0.        ]]\n",
      "[[ 0.          0.          0.57735027]\n",
      " [ 0.          0.          0.        ]\n",
      " [ 0.57735027  0.          0.        ]]\n",
      "[[ 1.00000000+0.j          0.00000000+0.j          0.00000000+0.j        ]\n",
      " [ 0.00000000+0.j          0.70710678+0.j         -0.70710678+0.j        ]\n",
      " [ 0.00000000+0.j         -0.00000000-0.70710678j -0.00000000-0.70710678j]]\n"
     ]
    }
   ],
   "source": [
    "print(sm.Mx_complex)\n",
    "print(sm.Mx_real)\n",
    "print(sm.My_real)\n",
    "print(sm.S)"
   ]
  },
  {
   "cell_type": "code",
   "execution_count": 22,
   "metadata": {
    "collapsed": false
   },
   "outputs": [
    {
     "name": "stdout",
     "output_type": "stream",
     "text": [
      "[[ 0.          0.57735027  0.        ]\n",
      " [ 0.57735027  0.          0.        ]\n",
      " [ 0.          0.          0.        ]]\n",
      "[[ 0.          0.          0.57735027]\n",
      " [ 0.          0.          0.        ]\n",
      " [ 0.57735027  0.          0.        ]]\n"
     ]
    }
   ],
   "source": [
    "local_Mx = np.zeros((3, 3))\n",
    "local_Mx[1, 0] = 0.57735027\n",
    "local_Mx[0, 1] = 0.57735027\n",
    "local_My = np.zeros((3, 3))\n",
    "local_My[2, 0] = 0.57735027\n",
    "local_My[0, 2] = 0.57735027\n",
    "print(local_Mx)\n",
    "print(local_My)"
   ]
  },
  {
   "cell_type": "markdown",
   "metadata": {
    "collapsed": false
   },
   "source": [
    "placements = {}\n",
    "for i in range(2):\n",
    "    for j in range(2):\n",
    "        offset_old = sm.sga.get_offset(i, j)\n",
    "        offset_new = np.array( [int(offset_old[0]*2.0), int(offset_old[1]*2.0)] )\n",
    "        #print( \"grid {} {} offset={} {}\".format(i, j, offset_old[0], offset_old[1]) )\n",
    "        print( \"offset={} {}\".format(offset_new[0], offset_new[1]) )\n",
    "        c = sm.sga.get_grid_components(i, j)\n",
    "        for unknown in \n",
    "        print(c)\n",
    "\n"
   ]
  },
  {
   "cell_type": "markdown",
   "metadata": {},
   "source": [
    "----------------------------\n",
    "\n",
    "$$\n",
    "-\\frac{1}{2}c^{{l'-1,m'-1}}\\partial_xL^{{l'-1,m'-1}}\\left (\\vec{x} \\right )+\\frac{1}{2}d^{{l'+1,m'-1}}\\partial_xL^{{l'+1,m'-1}}\\left (\\vec{x} \\right )+\\frac{1}{2}e^{{l'-1,m'+1}}\\partial_xL^{{l'-1,m'+1}}\\left (\\vec{x} \\right )-\\frac{1}{2}f^{{l'+1,m'+1}}\\partial_xL^{{l'+1,m'+1}}\\left (\\vec{x} \\right )+\\frac{i}{2}c^{{l'-1,m'-1}}\\partial_yL^{{l'-1,m'-1}}\\left (\\vec{x} \\right )-\\frac{i}{2}d^{{l'+1,m'-1}}\\partial_yL^{{l'+1,m'-1}}\\left (\\vec{x} \\right )+\\frac{i}{2}e^{{l'-1,m'+1}}\\partial_yL^{{l'-1,m'+1}}\\left (\\vec{x} \\right )-\\frac{i}{2}f^{{l'+1,m'+1}}\\partial_yL^{{l'+1,m'+1}}\\left (\\vec{x} \\right )+a^{{l'-1,m'}}\\partial_zL^{{l'-1,m'}}\\left (\\vec{x} \\right )+b^{{l'+1,m'}}\\partial_zL^{{l'+1,m'}}\\left (\\vec{x} \\right )\n",
    "$$"
   ]
  },
  {
   "cell_type": "markdown",
   "metadata": {
    "collapsed": true
   },
   "source": [
    "$$\n",
    "\\frac{1}{2}c^{{l'-1,m'-1}}\\partial_xq^{{l'-1,m'-1}}\\left (\\vec{x} \\right )\n",
    "$$"
   ]
  },
  {
   "cell_type": "markdown",
   "metadata": {},
   "source": [
    "$$\n",
    "\\frac{1}{2}0.816496580928\\left(\\left(-h_inv[0]\\right)q^{{0,0}}\\left (GridLocation2D\\right )+h_inv[0]q^{{0,0}}\\left (GridLocation2D\\right )\\right)\n",
    "$$\n"
   ]
  },
  {
   "cell_type": "markdown",
   "metadata": {},
   "source": [
    "\n",
    "$$\n",
    "\\frac{1}{2}c^{{l'-1,m'-1}}\\partial_xq^{{l'-1,m'-1}}\\left (\\vec{x} \\right )\n",
    "$$\n",
    "$$\n",
    "-\\frac{1}{2}d^{{l'+1,m'-1}}\\partial_xq^{{l'+1,m'-1}}\\left (\\vec{x} \\right )\n",
    "$$\n",
    "$$\n",
    "-\\frac{1}{2}e^{{l'-1,m'+1}}\\partial_xq^{{l'-1,m'+1}}\\left (\\vec{x} \\right )\n",
    "$$\n",
    "$$\n",
    "\\frac{1}{2}f^{{l'+1,m'+1}}\\partial_xq^{{l'+1,m'+1}}\\left (\\vec{x} \\right )\n",
    "$$\n",
    "$$\n",
    "-\\frac{i}{2}c^{{l'-1,m'-1}}\\partial_yq^{{l'-1,m'-1}}\\left (\\vec{x} \\right )\n",
    "$$\n",
    "$$\n",
    "\\frac{i}{2}d^{{l'+1,m'-1}}\\partial_yq^{{l'+1,m'-1}}\\left (\\vec{x} \\right )\n",
    "$$\n",
    "$$\n",
    "-\\frac{i}{2}e^{{l'-1,m'+1}}\\partial_yq^{{l'-1,m'+1}}\\left (\\vec{x} \\right )\n",
    "$$\n",
    "$$\n",
    "\\frac{i}{2}f^{{l'+1,m'+1}}\\partial_yq^{{l'+1,m'+1}}\\left (\\vec{x} \\right )\n",
    "$$\n",
    "$$\n",
    "-a^{{l'-1,m'}}\\partial_zq^{{l'-1,m'}}\\left (\\vec{x} \\right )\n",
    "$$\n",
    "$$\n",
    "-b^{{l'+1,m'}}\\partial_zq^{{l'+1,m'}}\\left (\\vec{x} \\right )\n",
    "$$\n"
   ]
  },
  {
   "cell_type": "markdown",
   "metadata": {},
   "source": [
    "$$\n",
    "\\frac{1}{2}c^{{l'-1,m'-1}}\\partial_xq^{{l'-1,m'-1}}\\left (\\vec{x} \\right )\n",
    "$$\n"
   ]
  },
  {
   "cell_type": "markdown",
   "metadata": {},
   "source": [
    "$$\n",
    "\\frac{1}{2}c^{{-1,-1}}\\partial_xq^{{-1,-1}}\\left (\\vec{x} \\right )-\\frac{1}{2}d^{{1,-1}}\\partial_xq^{{1,-1}}\\left (\\vec{x} \\right )-\\frac{1}{2}e^{{-1,1}}\\partial_xq^{{-1,1}}\\left (\\vec{x} \\right )+\\frac{1}{2}f^{{1,1}}\\partial_xq^{{1,1}}\\left (\\vec{x} \\right )-\\frac{i}{2}c^{{-1,-1}}\\partial_yq^{{-1,-1}}\\left (\\vec{x} \\right )+\\frac{i}{2}d^{{1,-1}}\\partial_yq^{{1,-1}}\\left (\\vec{x} \\right )-\\frac{i}{2}e^{{-1,1}}\\partial_yq^{{-1,1}}\\left (\\vec{x} \\right )+\\frac{i}{2}f^{{1,1}}\\partial_yq^{{1,1}}\\left (\\vec{x} \\right )-a^{{-1,0}}\\partial_zq^{{-1,0}}\\left (\\vec{x} \\right )-b^{{1,0}}\\partial_zq^{{1,0}}\\left (\\vec{x} \\right )\n",
    "$$\n"
   ]
  },
  {
   "cell_type": "markdown",
   "metadata": {},
   "source": [
    "$$\n",
    "\\frac{1}{2}c^{{0,-2}}\\partial_xq^{{0,-2}}\\left (\\vec{x} \\right )-\\frac{1}{2}d^{{2,-2}}\\partial_xq^{{2,-2}}\\left (\\vec{x} \\right )-\\frac{1}{2}e^{{0,0}}\\partial_xq^{{0,0}}\\left (\\vec{x} \\right )+\\frac{1}{2}f^{{2,0}}\\partial_xq^{{2,0}}\\left (\\vec{x} \\right )-\\frac{i}{2}c^{{0,-2}}\\partial_yq^{{0,-2}}\\left (\\vec{x} \\right )+\\frac{i}{2}d^{{2,-2}}\\partial_yq^{{2,-2}}\\left (\\vec{x} \\right )-\\frac{i}{2}e^{{0,0}}\\partial_yq^{{0,0}}\\left (\\vec{x} \\right )+\\frac{i}{2}f^{{2,0}}\\partial_yq^{{2,0}}\\left (\\vec{x} \\right )-a^{{0,-1}}\\partial_zq^{{0,-1}}\\left (\\vec{x} \\right )-b^{{2,-1}}\\partial_zq^{{2,-1}}\\left (\\vec{x} \\right )\n",
    "$$\n"
   ]
  },
  {
   "cell_type": "markdown",
   "metadata": {},
   "source": [
    "$$\n",
    "\\frac{1}{2}c^{{0,0}}\\partial_xq^{{0,0}}\\left (\\vec{x} \\right )-\\frac{1}{2}d^{{2,0}}\\partial_xq^{{2,0}}\\left (\\vec{x} \\right )-\\frac{1}{2}e^{{0,2}}\\partial_xq^{{0,2}}\\left (\\vec{x} \\right )+\\frac{1}{2}f^{{2,2}}\\partial_xq^{{2,2}}\\left (\\vec{x} \\right )-\\frac{i}{2}c^{{0,0}}\\partial_yq^{{0,0}}\\left (\\vec{x} \\right )+\\frac{i}{2}d^{{2,0}}\\partial_yq^{{2,0}}\\left (\\vec{x} \\right )-\\frac{i}{2}e^{{0,2}}\\partial_yq^{{0,2}}\\left (\\vec{x} \\right )+\\frac{i}{2}f^{{2,2}}\\partial_yq^{{2,2}}\\left (\\vec{x} \\right )-a^{{0,1}}\\partial_zq^{{0,1}}\\left (\\vec{x} \\right )-b^{{2,1}}\\partial_zq^{{2,1}}\\left (\\vec{x} \\right )\n",
    "$$\n"
   ]
  },
  {
   "cell_type": "markdown",
   "metadata": {},
   "source": [
    "\n",
    "-----------------\n",
    "$$\n",
    "0-0.408248290464\\partial_xq^{{1,-1}}\\left (\\vec{x} \\right )\n",
    "$$\n",
    "$$\n",
    "-0.408248290464\\left(\\left(-h_inv[0]\\right)q^{{1,-1}}\\left (GridLocation2D\\right )+h_inv[0]q^{{1,-1}}\\left (GridLocation2D\\right )\\right)\n",
    "$$\n",
    "\n",
    "-----------------\n",
    "$$\n",
    "0-0.4472135955\\partial_xq^{{2,-2}}\\left (\\vec{x} \\right )\n",
    "$$\n",
    "\n",
    "-----------------\n",
    "$$\n",
    "0.408248290464\\partial_xq^{{0,0}}\\left (\\vec{x} \\right )-0.182574185835\\partial_xq^{{2,0}}\\left (\\vec{x} \\right )\n",
    "$$\n",
    "$$\n",
    "0.408248290464\\left(\\left(-h_inv[0]\\right)q^{{0,0}}\\left (GridLocation2D\\right )+h_inv[0]q^{{0,0}}\\left (GridLocation2D\\right )\\right)\n",
    "$$\n"
   ]
  },
  {
   "cell_type": "code",
   "execution_count": null,
   "metadata": {
    "collapsed": true
   },
   "outputs": [],
   "source": []
  }
 ],
 "metadata": {
  "kernelspec": {
   "display_name": "Python 3",
   "language": "python",
   "name": "python3"
  },
  "language_info": {
   "codemirror_mode": {
    "name": "ipython",
    "version": 3
   },
   "file_extension": ".py",
   "mimetype": "text/x-python",
   "name": "python",
   "nbconvert_exporter": "python",
   "pygments_lexer": "ipython3",
   "version": "3.6.0"
  }
 },
 "nbformat": 4,
 "nbformat_minor": 2
}
