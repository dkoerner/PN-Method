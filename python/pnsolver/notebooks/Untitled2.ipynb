{
 "cells": [
  {
   "cell_type": "markdown",
   "metadata": {},
   "source": [
    "# new\n",
    "\n",
    "$$\n",
    "-0.377964473009\\partial_xL^{{3,2}}\\left (\\vec{x} \\right )-1.414213562370.316227766017\\partial_xL^{{1,0}}\\left (\\vec{x} \\right )+0.292770021885\\partial_xL^{{3,0}}\\left (\\vec{x} \\right )-0.377964473009\\partial_yL^{{3,-2}}\\left (\\vec{x} \\right )+0.4472135955\\partial_zL^{{1,-1}}\\left (\\vec{x} \\right )+0.478091443734\\partial_zL^{{3,1}}\\left (\\vec{x} \\right )\n",
    "$$\n"
   ]
  },
  {
   "cell_type": "code",
   "execution_count": null,
   "metadata": {
    "collapsed": true
   },
   "outputs": [],
   "source": []
  },
  {
   "cell_type": "markdown",
   "metadata": {},
   "source": [
    "# old\n",
    "\n",
    "$$\n",
    "-0.22360679775\\partial_xL^{{1,0}}\\left (\\vec{x} \\right )-0.22360679775j\\partial_yL^{{1,0}}\\left (\\vec{x} \\right )+0.22360679775j\\partial_zL^{{1,-1}}\\left (\\vec{x} \\right )+0.22360679775\\partial_zL^{{1,1}}\\left (\\vec{x} \\right )-0.22360679775\\partial_xL^{{1,0}}\\left (\\vec{x} \\right )+0.22360679775j\\partial_yL^{{1,0}}\\left (\\vec{x} \\right )-0.22360679775j\\partial_zL^{{1,-1}}\\left (\\vec{x} \\right )+0.22360679775\\partial_zL^{{1,1}}\\left (\\vec{x} \\right )\n",
    "$$\n"
   ]
  },
  {
   "cell_type": "code",
   "execution_count": null,
   "metadata": {
    "collapsed": true
   },
   "outputs": [],
   "source": []
  },
  {
   "cell_type": "markdown",
   "metadata": {},
   "source": [
    "$$\n",
    "-0.377964473009\\partial_xL^{{3,2}}\\left (\\vec{x} \\right )-1.414213562370.316227766017\\partial_xL^{{1,0}}\\left (\\vec{x} \\right )+0.292770021885\\partial_xL^{{3,0}}\\left (\\vec{x} \\right )-0.377964473009\\partial_yL^{{3,-2}}\\left (\\vec{x} \\right )+0.4472135955\\partial_zL^{{1,1}}\\left (\\vec{x} \\right )+0.478091443734\\partial_zL^{{3,1}}\\left (\\vec{x} \\right )\n",
    "$$"
   ]
  },
  {
   "cell_type": "code",
   "execution_count": null,
   "metadata": {
    "collapsed": true
   },
   "outputs": [],
   "source": []
  }
 ],
 "metadata": {
  "kernelspec": {
   "display_name": "Python 3",
   "language": "python",
   "name": "python3"
  },
  "language_info": {
   "codemirror_mode": {
    "name": "ipython",
    "version": 3
   },
   "file_extension": ".py",
   "mimetype": "text/x-python",
   "name": "python",
   "nbconvert_exporter": "python",
   "pygments_lexer": "ipython3",
   "version": "3.6.0"
  }
 },
 "nbformat": 4,
 "nbformat_minor": 2
}
