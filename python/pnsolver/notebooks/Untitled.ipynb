{
 "cells": [
  {
   "cell_type": "markdown",
   "metadata": {},
   "source": [
    "$$\n",
    "0.25\\sigma_t^{{0,-1,0}}+0.25\\sigma_t^{{0,0,0}}+0.25\\sigma_t^{{0,-1,0}}+0.25\\sigma_t^{{0,0,0}}-0.255831676987f^{{1,0}}_{{0,-1,0}}\\sigma_s^{{0,-1,0}}-0.255831676987f^{{1,0}}_{{0,0,0}}\\sigma_s^{{0,-1,0}}-0.255831676987f^{{1,0}}_{{0,-1,0}}\\sigma_s^{{0,0,0}}-0.255831676987f^{{1,0}}_{{0,0,0}}\\sigma_s^{{0,0,0}}-0.255831676987f^{{1,0}}_{{0,-1,0}}\\sigma_s^{{0,-1,0}}-0.255831676987f^{{1,0}}_{{0,0,0}}\\sigma_s^{{0,-1,0}}-0.255831676987f^{{1,0}}_{{0,-1,0}}\\sigma_s^{{0,0,0}}-0.255831676987f^{{1,0}}_{{0,0,0}}\\sigma_s^{{0,0,0}}\n",
    "$$"
   ]
  },
  {
   "cell_type": "code",
   "execution_count": null,
   "metadata": {
    "collapsed": true
   },
   "outputs": [],
   "source": []
  }
 ],
 "metadata": {
  "kernelspec": {
   "display_name": "Python 3",
   "language": "python",
   "name": "python3"
  },
  "language_info": {
   "codemirror_mode": {
    "name": "ipython",
    "version": 3
   },
   "file_extension": ".py",
   "mimetype": "text/x-python",
   "name": "python",
   "nbconvert_exporter": "python",
   "pygments_lexer": "ipython3",
   "version": "3.6.0"
  }
 },
 "nbformat": 4,
 "nbformat_minor": 2
}
