{
 "cells": [
  {
   "cell_type": "code",
   "execution_count": null,
   "metadata": {
    "collapsed": true
   },
   "outputs": [],
   "source": [
    "import numpy as np\n",
    "import matplotlib.pyplot as plt\n",
    "import renderer\n"
   ]
  },
  {
   "cell_type": "code",
   "execution_count": null,
   "metadata": {
    "collapsed": false
   },
   "outputs": [],
   "source": [
    "\n",
    "order = 1\n",
    "\n",
    "theta = np.arange(0, 2 * np.pi, 0.01)\n",
    "\n",
    "ax = plt.subplot(111, projection='polar')\n",
    "\n",
    "for l in range(0,order+1):\n",
    "    for m in range(-l,l+1):\n",
    "        r = np.zeros(theta.shape)\n",
    "        for i in range(theta.shape[0]):\n",
    "            r[i] = renderer.sh_basis( l,m, theta[i], 0.0 )\n",
    "        ax.plot(theta, r)\n",
    "#ax.set_rmax(2)\n",
    "#ax.set_rticks([0.5, 1, 1.5, 2])  # less radial ticks\n",
    "#ax.set_rlabel_position(-22.5)  # get radial labels away from plotted line\n",
    "#ax.grid(True)\n",
    "\n",
    "#ax.set_title(\"A line plot on a polar axis\", va='bottom')\n",
    "plt.show()"
   ]
  },
  {
   "cell_type": "code",
   "execution_count": null,
   "metadata": {
    "collapsed": true
   },
   "outputs": [],
   "source": []
  }
 ],
 "metadata": {
  "kernelspec": {
   "display_name": "Python 3",
   "language": "python",
   "name": "python3"
  },
  "language_info": {
   "codemirror_mode": {
    "name": "ipython",
    "version": 3
   },
   "file_extension": ".py",
   "mimetype": "text/x-python",
   "name": "python",
   "nbconvert_exporter": "python",
   "pygments_lexer": "ipython3",
   "version": "3.6.0"
  }
 },
 "nbformat": 4,
 "nbformat_minor": 2
}
