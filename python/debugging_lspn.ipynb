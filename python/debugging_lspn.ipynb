{
 "cells": [
  {
   "cell_type": "code",
   "execution_count": 1,
   "metadata": {
    "collapsed": true
   },
   "outputs": [],
   "source": [
    "%matplotlib inline\n",
    "%config InlineBackend.figure_format='retina'\n",
    "import numpy as np\n",
    "import shtools\n",
    "import util\n",
    "import lspn\n",
    "import cas\n",
    "import pnbuilder\n"
   ]
  },
  {
   "cell_type": "code",
   "execution_count": 2,
   "metadata": {
    "collapsed": false
   },
   "outputs": [
    {
     "name": "stdout",
     "output_type": "stream",
     "text": [
      "\n",
      "----------------------------\n",
      "\n",
      "$$\n",
      "L^{{l'-1,m'-1}}\\left (\\vec{x} \\right )\n",
      "$$\n"
     ]
    }
   ],
   "source": [
    "def term1_subterm0_coeff_expr():\n",
    "    omega = cas.tensor(\"\\\\omega\", rank=1, dimension=3)\n",
    "    omega_x = omega.getComponent(0)\n",
    "    omega_y = omega.getComponent(1)\n",
    "    omega_z = omega.getComponent(2)\n",
    "\n",
    "    x = cas.tensor(\"\\\\vec{x}\", rank=1, dimension=3)\n",
    "    x.setComponent(0, cas.var(\"x\"))\n",
    "    x.setComponent(1, cas.var(\"y\"))\n",
    "    x.setComponent(2, cas.var(\"z\"))\n",
    "    x.collapsed = True\n",
    "\n",
    "    L = cas.fun( \"L\", x, omega)\n",
    "\n",
    "    sigma_t = cas.fun( \"\\\\sigma_t\", x)\n",
    "    \n",
    "    return cas.SHCoefficient( \"L\", cas.sub(cas.var(\"l'\"), cas.num(1)), cas.sub(cas.var(\"m'\"), cas.num(1)), x )\n",
    "    #return cas.SHCoefficient( \"L\", cas.sub(cas.var(\"l'\"), cas.num(0)), cas.sub(cas.var(\"m'\"), cas.num(0)), x )\n",
    "\n",
    "cas.print_expr(term1_subterm0_coeff_expr())"
   ]
  },
  {
   "cell_type": "code",
   "execution_count": 3,
   "metadata": {
    "collapsed": false
   },
   "outputs": [],
   "source": [
    "\n",
    "class Constant(object):\n",
    "    def __init__(self, value):\n",
    "        self.value = value\n",
    "    def __call__(self, x):\n",
    "        return self.value\n",
    "    def dx(self, x):\n",
    "        return 0.0\n",
    "    def dy(self, x):\n",
    "        return 0.0\n",
    "    def dz(self, x):\n",
    "        return 0.0\n",
    "\n",
    "class Gradient(object):\n",
    "    def __init__(self, normal):\n",
    "        norm=np.linalg.norm(normal)\n",
    "        if norm==0: \n",
    "            self.normal = normal\n",
    "        else:\n",
    "            self.normal = normal/norm\n",
    "    def __call__(self, x):\n",
    "        return np.abs(np.dot(x, self.normal))\n",
    "    def dx(self, x):\n",
    "        return self.normal[0]\n",
    "    def dy(self, x):\n",
    "        return self.normal[1]\n",
    "    def dz(self, x):\n",
    "        return 0.0\n",
    "        #return self.normal[2]\n",
    "\n",
    "    \n",
    "class RBF(object):\n",
    "    def __init__(self, stddev, amplitude=1.0 ):\n",
    "        self.amplitude = amplitude\n",
    "        self.stddev = stddev\n",
    "        self.variance = stddev*stddev\n",
    "        self.normalization = 1.0/(np.pow(stddev, 3.0)*np.pow(2.0*np.pi, 1.5))\n",
    "    def __call__(self, x):\n",
    "        return self.normalization*np.exp(-(x[0]*x[0]+x[1]*x[1]+x[2]*x[2])/self.variance)\n",
    "    def dx(self, x):\n",
    "        return 0.0\n",
    "    def dy(self, x):\n",
    "        return 0.0\n",
    "    def dz(self, x):\n",
    "        # NB: this is for our pseudo-2d case\n",
    "        return 0.0\n",
    "\n",
    "class SHEXP(object):\n",
    "    def __init__(self, order, coeff_functions):\n",
    "        self.order = order\n",
    "        self.coeff_functions = coeff_functions\n",
    "    def __call__(self, x, omega):\n",
    "        (theta, phi) = shtools.sphericalCoordinates(omega)\n",
    "        coeffs = [f(x) for f in self.coeff_functions]\n",
    "        return shtools.sh_sum(self.order, coeffs, theta, phi)\n",
    "        "
   ]
  },
  {
   "cell_type": "code",
   "execution_count": 4,
   "metadata": {
    "collapsed": false
   },
   "outputs": [],
   "source": [
    "\n",
    "res = 1\n",
    "order = 1\n",
    "domain = util.Domain2D(0.01, 1)\n",
    "pnb = pnbuilder.PNBuilder(order, domain)\n",
    "\n",
    "# here we compute the groundtruth for the given term. This means we actually compute the directional gradient of sigma_t\n",
    "# and multiply this with L. The result is projected into spherical harmonics. This gives our groundtruth result\n",
    "# after taking complex->real conversion into account\n",
    "\n",
    "#sigma_t = Constant(1.0)\n",
    "sigma_t = Gradient(np.array([1.0, 0.0]))\n",
    "L = SHEXP(order, [Constant(1.0), Constant(0.0), Constant(0.0), Constant(0.0)])\n",
    "\n",
    "def term1( x, theta, phi ):\n",
    "    omega = shtools.sphericalDirection(theta, phi)\n",
    "    return -(omega[0]*sigma_t.dx(x) + omega[1]*sigma_t.dy(x) + omega[2]*sigma_t.dz(x))*L(x, omega)\n",
    "    \n",
    "def term1_subterm0_coeff( x, l, m ):\n",
    "    shindex = pnb.shIndex(l-1, m-1)\n",
    "    if shindex is None:\n",
    "        return 0.0\n",
    "    return shtools.c_lm(l-1, m-1)*0.5*sigma_t.dx(x)*L.coeff_functions[shtools.shIndex(l-1, m-1)](x)\n",
    "    \n",
    "    \n",
    "\n",
    "# here we project the term under investigation into SH. This is done at the respective locations\n",
    "# of all the unknowns\n",
    "coeffs_groundtruth_complex = []\n",
    "for i in range(pnb.numCoeffs):\n",
    "    voxel_i = 0\n",
    "    voxel_j = 0\n",
    "    pWS = pnb.get_unknown_location( voxel_i, voxel_j, i ).getPWS()\n",
    "    #coeffs = shtools.project_sh(lambda theta, phi: term1(pWS, theta, phi), order)\n",
    "    # NB: we take into account, that for 2d, pnb will have different index and lm ordering\n",
    "    (l,m) = pnb.lmIndex(i)\n",
    "    #coeffs_groundtruth_complex.append(coeffs[shtools.shIndex(l,m)])\n",
    "    coeffs_groundtruth_complex.append(term1_subterm0_coeff(pWS, l, m))\n",
    "    \n",
    "# now convert from complex, to real-valued problem\n",
    "coeffs_groundtruth_real = np.real(pnb.S.dot(coeffs_groundtruth_complex))\n"
   ]
  },
  {
   "cell_type": "code",
   "execution_count": 5,
   "metadata": {
    "collapsed": false,
    "scrolled": false
   },
   "outputs": [
    {
     "name": "stdout",
     "output_type": "stream",
     "text": [
      "building global systen Ax=b...\n",
      "voxel_x=0\n"
     ]
    }
   ],
   "source": [
    "# now construct solution vector from known L at the\n",
    "# respective coefficient locations\n",
    "# this step is actually redundant, because L is already defined in terms of SH coefficients\n",
    "# however, it serves as a sanity check...\n",
    "x_complex = []\n",
    "for i in range(pnb.numCoeffs):\n",
    "    voxel_i = 0\n",
    "    voxel_j = 0\n",
    "    pWS = pnb.get_unknown_location( voxel_i, voxel_j, i ).getPWS()\n",
    "    coeffs = shtools.project_sh(lambda theta, phi: L(pWS, shtools.sphericalDirection(theta, phi)), order)\n",
    "    # NB: we take into account, that for 2d, pnb will have different index and lm ordering\n",
    "    (l,m) = pnb.lmIndex(i)\n",
    "    x_complex.append(coeffs[shtools.shIndex(l,m)])\n",
    "            \n",
    "# now convert from complex, to real-valued problem\n",
    "x_real = np.real(pnb.S.dot(x_complex))\n",
    "\n",
    "# we now apply A, which represents the effect of applying the term in question to L\n",
    "#pnb.add_terms(lspn.lspn_extinction_directional_derivative_term(debug = False))\n",
    "pnb.add_terms(term1_subterm0_coeff_expr())\n",
    "\n",
    "problem = {}\n",
    "problem[\"\\\\sigma_t\"] = lambda pWS: sigma_t(pWS)\n",
    "#problem[\"\\\\sigma_a\"] = sigma_a\n",
    "#problem[\"\\\\sigma_s\"] = sigma_s\n",
    "#problem[\"f_p\"] = phase_shcoeffs\n",
    "#problem[\"q\"] = source_shcoeffs\n",
    "(A,b) = pnb.build_global(problem)\n",
    "y_real = A.dot(x_real)\n",
    "y_complex = pnb.S_inv.dot(y_real)\n"
   ]
  },
  {
   "cell_type": "code",
   "execution_count": null,
   "metadata": {
    "collapsed": false
   },
   "outputs": [],
   "source": [
    "#print(coeffs_groundtruth_complex)\n",
    "#print(y_complex)\n",
    "\n",
    "for i in range(pnb.numCoeffs):\n",
    "    print(\"---\")\n",
    "    print(\"groundtruth: {} {}\".format(np.real(coeffs_groundtruth_complex[i]), np.imag(coeffs_groundtruth_complex[i])))\n",
    "    print(\"Ax         : {} {}\".format(np.real(y_complex[i]), np.imag(y_complex[i])))"
   ]
  },
  {
   "cell_type": "code",
   "execution_count": null,
   "metadata": {
    "collapsed": false
   },
   "outputs": [],
   "source": [
    "\n",
    "for i in range(pnb.numCoeffs):\n",
    "    print(\"{} {}\".format(np.real(coeffs_groundtruth_complex[i]), np.imag(coeffs_groundtruth_complex[i])))\n",
    "    print(\"{} {}\".format(np.real(y_complex[i]), np.imag(y_complex[i])))"
   ]
  },
  {
   "cell_type": "code",
   "execution_count": 6,
   "metadata": {
    "collapsed": false
   },
   "outputs": [
    {
     "name": "stdout",
     "output_type": "stream",
     "text": [
      "[[ 0.          0.          0.        ]\n",
      " [-0.70710678  0.          0.        ]\n",
      " [ 0.          0.          0.        ]]\n"
     ]
    }
   ],
   "source": [
    "print(np.real(A))"
   ]
  },
  {
   "cell_type": "code",
   "execution_count": 7,
   "metadata": {
    "collapsed": false
   },
   "outputs": [
    {
     "name": "stdout",
     "output_type": "stream",
     "text": [
      "[[ 0.  0.  0.]\n",
      " [ 0.  0.  0.]\n",
      " [ 0.  0.  0.]]\n"
     ]
    }
   ],
   "source": [
    "print(np.imag(A))"
   ]
  },
  {
   "cell_type": "code",
   "execution_count": null,
   "metadata": {
    "collapsed": true
   },
   "outputs": [],
   "source": []
  }
 ],
 "metadata": {
  "kernelspec": {
   "display_name": "Python 3",
   "language": "python",
   "name": "python3"
  },
  "language_info": {
   "codemirror_mode": {
    "name": "ipython",
    "version": 3
   },
   "file_extension": ".py",
   "mimetype": "text/x-python",
   "name": "python",
   "nbconvert_exporter": "python",
   "pygments_lexer": "ipython3",
   "version": "3.6.0"
  }
 },
 "nbformat": 4,
 "nbformat_minor": 2
}
