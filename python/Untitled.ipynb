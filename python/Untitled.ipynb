{
 "cells": [
  {
   "cell_type": "markdown",
   "metadata": {},
   "source": [
    "\n",
    "----------------------------\n",
    "\n",
    "$$\n",
    "\\omega \\cdot\\left[\\begin{array}\\ \\partial_x\\left(\\sigma_s\\left (\\vec{x} \\right )\\left(\\sum_{l=0}^{\\infty}{\\sum_{m=-l}^{l}{\\lambda_{{l}}f_p^{{l,0}}\\left (\\vec{x} \\right )L^{{l,m}}\\left (\\vec{x} \\right )Y^{l, m}(\\omega )}}\\right)\\right)\\\\\\partial_y\\left(\\sigma_s\\left (\\vec{x} \\right )\\left(\\sum_{l=0}^{\\infty}{\\sum_{m=-l}^{l}{\\lambda_{{l}}f_p^{{l,0}}\\left (\\vec{x} \\right )L^{{l,m}}\\left (\\vec{x} \\right )Y^{l, m}(\\omega )}}\\right)\\right)\\\\\\partial_z\\left(\\sigma_s\\left (\\vec{x} \\right )\\left(\\sum_{l=0}^{\\infty}{\\sum_{m=-l}^{l}{\\lambda_{{l}}f_p^{{l,0}}\\left (\\vec{x} \\right )L^{{l,m}}\\left (\\vec{x} \\right )Y^{l, m}(\\omega )}}\\right)\\right)\\\\\\end{array}\\right]\n",
    "$$\n"
   ]
  },
  {
   "cell_type": "markdown",
   "metadata": {},
   "source": [
    "\n",
    "----------------------------\n",
    "\n",
    "$$\n",
    "-\\lambda_{{l'-1}}\\frac{1}{2}c^{{l'-1,m'-1}}\\partial_x\\sigma_s\\left (\\vec{x} \\right )f_p^{{l'-1,0}}\\left (\\vec{x} \\right )L^{{l'-1,m'-1}}\\left (\\vec{x} \\right )-\\lambda_{{l'-1}}\\frac{1}{2}c^{{l'-1,m'-1}}\\sigma_s\\left (\\vec{x} \\right )\\partial_xf_p^{{l'-1,0}}\\left (\\vec{x} \\right )L^{{l'-1,m'-1}}\\left (\\vec{x} \\right )-\\lambda_{{l'-1}}\\frac{1}{2}c^{{l'-1,m'-1}}\\sigma_s\\left (\\vec{x} \\right )f_p^{{l'-1,0}}\\left (\\vec{x} \\right )\\partial_xL^{{l'-1,m'-1}}\\left (\\vec{x} \\right )+\\lambda_{{l'+1}}\\frac{1}{2}d^{{l'+1,m'-1}}\\partial_x\\sigma_s\\left (\\vec{x} \\right )f_p^{{l'+1,0}}\\left (\\vec{x} \\right )L^{{l'+1,m'-1}}\\left (\\vec{x} \\right )+\\lambda_{{l'+1}}\\frac{1}{2}d^{{l'+1,m'-1}}\\sigma_s\\left (\\vec{x} \\right )\\partial_xf_p^{{l'+1,0}}\\left (\\vec{x} \\right )L^{{l'+1,m'-1}}\\left (\\vec{x} \\right )+\\lambda_{{l'+1}}\\frac{1}{2}d^{{l'+1,m'-1}}\\sigma_s\\left (\\vec{x} \\right )f_p^{{l'+1,0}}\\left (\\vec{x} \\right )\\partial_xL^{{l'+1,m'-1}}\\left (\\vec{x} \\right )+\\lambda_{{l'-1}}\\frac{1}{2}e^{{l'-1,m'+1}}\\partial_x\\sigma_s\\left (\\vec{x} \\right )f_p^{{l'-1,0}}\\left (\\vec{x} \\right )L^{{l'-1,m'+1}}\\left (\\vec{x} \\right )+\\lambda_{{l'-1}}\\frac{1}{2}e^{{l'-1,m'+1}}\\sigma_s\\left (\\vec{x} \\right )\\partial_xf_p^{{l'-1,0}}\\left (\\vec{x} \\right )L^{{l'-1,m'+1}}\\left (\\vec{x} \\right )+\\lambda_{{l'-1}}\\frac{1}{2}e^{{l'-1,m'+1}}\\sigma_s\\left (\\vec{x} \\right )f_p^{{l'-1,0}}\\left (\\vec{x} \\right )\\partial_xL^{{l'-1,m'+1}}\\left (\\vec{x} \\right )-\\lambda_{{l'+1}}\\frac{1}{2}f^{{l'+1,m'+1}}\\partial_x\\sigma_s\\left (\\vec{x} \\right )f_p^{{l'+1,0}}\\left (\\vec{x} \\right )L^{{l'+1,m'+1}}\\left (\\vec{x} \\right )-\\lambda_{{l'+1}}\\frac{1}{2}f^{{l'+1,m'+1}}\\sigma_s\\left (\\vec{x} \\right )\\partial_xf_p^{{l'+1,0}}\\left (\\vec{x} \\right )L^{{l'+1,m'+1}}\\left (\\vec{x} \\right )-\\lambda_{{l'+1}}\\frac{1}{2}f^{{l'+1,m'+1}}\\sigma_s\\left (\\vec{x} \\right )f_p^{{l'+1,0}}\\left (\\vec{x} \\right )\\partial_xL^{{l'+1,m'+1}}\\left (\\vec{x} \\right )+\\lambda_{{l'-1}}\\frac{i}{2}c^{{l'-1,m'-1}}\\partial_y\\sigma_s\\left (\\vec{x} \\right )f_p^{{l'-1,0}}\\left (\\vec{x} \\right )L^{{l'-1,m'-1}}\\left (\\vec{x} \\right )+\\lambda_{{l'-1}}\\frac{i}{2}c^{{l'-1,m'-1}}\\sigma_s\\left (\\vec{x} \\right )\\partial_yf_p^{{l'-1,0}}\\left (\\vec{x} \\right )L^{{l'-1,m'-1}}\\left (\\vec{x} \\right )+\\lambda_{{l'-1}}\\frac{i}{2}c^{{l'-1,m'-1}}\\sigma_s\\left (\\vec{x} \\right )f_p^{{l'-1,0}}\\left (\\vec{x} \\right )\\partial_yL^{{l'-1,m'-1}}\\left (\\vec{x} \\right )-\\lambda_{{l'+1}}\\frac{i}{2}d^{{l'+1,m'-1}}\\partial_y\\sigma_s\\left (\\vec{x} \\right )f_p^{{l'+1,0}}\\left (\\vec{x} \\right )L^{{l'+1,m'-1}}\\left (\\vec{x} \\right )-\\lambda_{{l'+1}}\\frac{i}{2}d^{{l'+1,m'-1}}\\sigma_s\\left (\\vec{x} \\right )\\partial_yf_p^{{l'+1,0}}\\left (\\vec{x} \\right )L^{{l'+1,m'-1}}\\left (\\vec{x} \\right )-\\lambda_{{l'+1}}\\frac{i}{2}d^{{l'+1,m'-1}}\\sigma_s\\left (\\vec{x} \\right )f_p^{{l'+1,0}}\\left (\\vec{x} \\right )\\partial_yL^{{l'+1,m'-1}}\\left (\\vec{x} \\right )+\\lambda_{{l'-1}}\\frac{i}{2}e^{{l'-1,m'+1}}\\partial_y\\sigma_s\\left (\\vec{x} \\right )f_p^{{l'-1,0}}\\left (\\vec{x} \\right )L^{{l'-1,m'+1}}\\left (\\vec{x} \\right )+\\lambda_{{l'-1}}\\frac{i}{2}e^{{l'-1,m'+1}}\\sigma_s\\left (\\vec{x} \\right )\\partial_yf_p^{{l'-1,0}}\\left (\\vec{x} \\right )L^{{l'-1,m'+1}}\\left (\\vec{x} \\right )+\\lambda_{{l'-1}}\\frac{i}{2}e^{{l'-1,m'+1}}\\sigma_s\\left (\\vec{x} \\right )f_p^{{l'-1,0}}\\left (\\vec{x} \\right )\\partial_yL^{{l'-1,m'+1}}\\left (\\vec{x} \\right )-\\lambda_{{l'+1}}\\frac{i}{2}f^{{l'+1,m'+1}}\\partial_y\\sigma_s\\left (\\vec{x} \\right )f_p^{{l'+1,0}}\\left (\\vec{x} \\right )L^{{l'+1,m'+1}}\\left (\\vec{x} \\right )-\\lambda_{{l'+1}}\\frac{i}{2}f^{{l'+1,m'+1}}\\sigma_s\\left (\\vec{x} \\right )\\partial_yf_p^{{l'+1,0}}\\left (\\vec{x} \\right )L^{{l'+1,m'+1}}\\left (\\vec{x} \\right )-\\lambda_{{l'+1}}\\frac{i}{2}f^{{l'+1,m'+1}}\\sigma_s\\left (\\vec{x} \\right )f_p^{{l'+1,0}}\\left (\\vec{x} \\right )\\partial_yL^{{l'+1,m'+1}}\\left (\\vec{x} \\right )+\\lambda_{{l'-1}}a^{{l'-1,m'}}\\partial_z\\sigma_s\\left (\\vec{x} \\right )f_p^{{l'-1,0}}\\left (\\vec{x} \\right )L^{{l'-1,m'}}\\left (\\vec{x} \\right )+\\lambda_{{l'-1}}a^{{l'-1,m'}}\\sigma_s\\left (\\vec{x} \\right )\\partial_zf_p^{{l'-1,0}}\\left (\\vec{x} \\right )L^{{l'-1,m'}}\\left (\\vec{x} \\right )+\\lambda_{{l'-1}}a^{{l'-1,m'}}\\sigma_s\\left (\\vec{x} \\right )f_p^{{l'-1,0}}\\left (\\vec{x} \\right )\\partial_zL^{{l'-1,m'}}\\left (\\vec{x} \\right )+\\lambda_{{l'+1}}b^{{l'+1,m'}}\\partial_z\\sigma_s\\left (\\vec{x} \\right )f_p^{{l'+1,0}}\\left (\\vec{x} \\right )L^{{l'+1,m'}}\\left (\\vec{x} \\right )+\\lambda_{{l'+1}}b^{{l'+1,m'}}\\sigma_s\\left (\\vec{x} \\right )\\partial_zf_p^{{l'+1,0}}\\left (\\vec{x} \\right )L^{{l'+1,m'}}\\left (\\vec{x} \\right )+\\lambda_{{l'+1}}b^{{l'+1,m'}}\\sigma_s\\left (\\vec{x} \\right )f_p^{{l'+1,0}}\\left (\\vec{x} \\right )\\partial_zL^{{l'+1,m'}}\\left (\\vec{x} \\right )\n",
    "$$\n"
   ]
  },
  {
   "cell_type": "markdown",
   "metadata": {},
   "source": [
    "\n",
    "----------------------------\n",
    "\n",
    "$$\n",
    "{\\sigma_t\\left (\\vec{x} \\right )}^{2}L\\left (\\vec{x} ,\\omega \\right )\n",
    "$$\n",
    "\n",
    "----------------------------\n",
    "\n",
    "$$\n",
    "\\int{\\overline{Y^{l', m'}}(\\omega ){\\sigma_t\\left (\\vec{x} \\right )}^{2}L\\left (\\vec{x} ,\\omega \\right )\\mathbf{d}\\omega}\n",
    "$$\n",
    "\n",
    "----------------------------\n",
    "\n",
    "$$\n",
    "\\int{\\overline{Y^{l', m'}}(\\omega ){\\sigma_t\\left (\\vec{x} \\right )}^{2}\\left(\\sum_{l=0}^{\\infty}{\\sum_{m=-l}^{l}{L^{{l,m}}\\left (\\vec{x} \\right )Y^{l, m}(\\omega )}}\\right)\\mathbf{d}\\omega}\n",
    "$$\n",
    "\n",
    "----------------------------\n",
    "\n",
    "$$\n",
    "\\sum_{l=0}^{\\infty}{\\int{\\overline{Y^{l', m'}}(\\omega ){\\sigma_t\\left (\\vec{x} \\right )}^{2}\\left(\\sum_{m=-l}^{l}{L^{{l,m}}\\left (\\vec{x} \\right )Y^{l, m}(\\omega )}\\right)\\mathbf{d}\\omega}}\n",
    "$$\n",
    "\n",
    "----------------------------\n",
    "\n",
    "$$\n",
    "\\sum_{l=0}^{\\infty}{\\sum_{m=-l}^{l}{\\int{\\overline{Y^{l', m'}}(\\omega ){\\sigma_t\\left (\\vec{x} \\right )}^{2}L^{{l,m}}\\left (\\vec{x} \\right )Y^{l, m}(\\omega )\\mathbf{d}\\omega}}}\n",
    "$$\n",
    "\n",
    "----------------------------\n",
    "\n",
    "$$\n",
    "{\\sigma_t\\left (\\vec{x} \\right )}^{2}\\left(\\sum_{l=0}^{\\infty}{\\sum_{m=-l}^{l}{L^{{l,m}}\\left (\\vec{x} \\right )\\int{\\overline{Y^{l', m'}}(\\omega )Y^{l, m}(\\omega )\\mathbf{d}\\omega}}}\\right)\n",
    "$$\n",
    "\n",
    "----------------------------\n",
    "\n",
    "$$\n",
    "{\\sigma_t\\left (\\vec{x} \\right )}^{2}\\left(\\sum_{l=0}^{\\infty}{\\sum_{m=-l}^{l}{L^{{l,m}}\\left (\\vec{x} \\right )\\delta_{l',l}\\delta_{m',m}}}\\right)\n",
    "$$\n",
    "\n",
    "----------------------------\n",
    "\n",
    "$$\n",
    "{\\sigma_t\\left (\\vec{x} \\right )}^{2}L^{{l',m'}}\\left (\\vec{x} \\right )\n",
    "$$\n",
    "\n",
    "\n",
    "\n"
   ]
  },
  {
   "cell_type": "markdown",
   "metadata": {},
   "source": [
    "$$\n",
    "-\\frac{1}{4}c^{{l'-1,m'-1}}c^{{l'-2,m'-2}}\\partial_x\\partial_xL^{{l'-2,m'-2}}\\left (\\vec{x} \\right )+\\frac{1}{4}c^{{l'-1,m'-1}}d^{{l',m'-2}}\\partial_x\\partial_xL^{{l',m'-2}}\\left (\\vec{x} \\right )+\\frac{1}{4}c^{{l'-1,m'-1}}e^{{l'-2,m'}}\\partial_x\\partial_xL^{{l'-2,m'}}\\left (\\vec{x} \\right )-\\frac{1}{4}c^{{l'-1,m'-1}}f^{{l',m'}}\\partial_x\\partial_xL^{{l',m'}}\\left (\\vec{x} \\right )+\\frac{i}{4}c^{{l'-1,m'-1}}c^{{l'-2,m'-2}}\\partial_x\\partial_yL^{{l'-2,m'-2}}\\left (\\vec{x} \\right )-\\frac{i}{4}c^{{l'-1,m'-1}}d^{{l',m'-2}}\\partial_x\\partial_yL^{{l',m'-2}}\\left (\\vec{x} \\right )+\\frac{i}{4}c^{{l'-1,m'-1}}e^{{l'-2,m'}}\\partial_x\\partial_yL^{{l'-2,m'}}\\left (\\vec{x} \\right )-\\frac{i}{4}c^{{l'-1,m'-1}}f^{{l',m'}}\\partial_x\\partial_yL^{{l',m'}}\\left (\\vec{x} \\right )+\\frac{1}{2}c^{{l'-1,m'-1}}a^{{l'-2,m'-1}}\\partial_x\\partial_zL^{{l'-2,m'-1}}\\left (\\vec{x} \\right )+\\frac{1}{2}c^{{l'-1,m'-1}}b^{{l',m'-1}}\\partial_x\\partial_zL^{{l',m'-1}}\\left (\\vec{x} \\right )+c^{{l',m'-2}}\\frac{1}{4}d^{{l'+1,m'-1}}\\partial_x\\partial_xL^{{l',m'-2}}\\left (\\vec{x} \\right )-d^{{l'+2,m'-2}}\\frac{1}{4}d^{{l'+1,m'-1}}\\partial_x\\partial_xL^{{l'+2,m'-2}}\\left (\\vec{x} \\right )-e^{{l',m'}}\\frac{1}{4}d^{{l'+1,m'-1}}\\partial_x\\partial_xL^{{l',m'}}\\left (\\vec{x} \\right )+f^{{l'+2,m'}}\\frac{1}{4}d^{{l'+1,m'-1}}\\partial_x\\partial_xL^{{l'+2,m'}}\\left (\\vec{x} \\right )-c^{{l',m'-2}}\\frac{i}{4}d^{{l'+1,m'-1}}\\partial_x\\partial_yL^{{l',m'-2}}\\left (\\vec{x} \\right )+d^{{l'+2,m'-2}}\\frac{i}{4}d^{{l'+1,m'-1}}\\partial_x\\partial_yL^{{l'+2,m'-2}}\\left (\\vec{x} \\right )-e^{{l',m'}}\\frac{i}{4}d^{{l'+1,m'-1}}\\partial_x\\partial_yL^{{l',m'}}\\left (\\vec{x} \\right )+f^{{l'+2,m'}}\\frac{i}{4}d^{{l'+1,m'-1}}\\partial_x\\partial_yL^{{l'+2,m'}}\\left (\\vec{x} \\right )-a^{{l',m'-1}}\\frac{1}{2}d^{{l'+1,m'-1}}\\partial_x\\partial_zL^{{l',m'-1}}\\left (\\vec{x} \\right )-b^{{l'+2,m'-1}}\\frac{1}{2}d^{{l'+1,m'-1}}\\partial_x\\partial_zL^{{l'+2,m'-1}}\\left (\\vec{x} \\right )+c^{{l'-2,m'}}\\frac{1}{4}e^{{l'-1,m'+1}}\\partial_x\\partial_xL^{{l'-2,m'}}\\left (\\vec{x} \\right )-d^{{l',m'}}\\frac{1}{4}e^{{l'-1,m'+1}}\\partial_x\\partial_xL^{{l',m'}}\\left (\\vec{x} \\right )-e^{{l'-2,m'+2}}\\frac{1}{4}e^{{l'-1,m'+1}}\\partial_x\\partial_xL^{{l'-2,m'+2}}\\left (\\vec{x} \\right )+f^{{l',m'+2}}\\frac{1}{4}e^{{l'-1,m'+1}}\\partial_x\\partial_xL^{{l',m'+2}}\\left (\\vec{x} \\right )-c^{{l'-2,m'}}\\frac{i}{4}e^{{l'-1,m'+1}}\\partial_x\\partial_yL^{{l'-2,m'}}\\left (\\vec{x} \\right )+d^{{l',m'}}\\frac{i}{4}e^{{l'-1,m'+1}}\\partial_x\\partial_yL^{{l',m'}}\\left (\\vec{x} \\right )-e^{{l'-2,m'+2}}\\frac{i}{4}e^{{l'-1,m'+1}}\\partial_x\\partial_yL^{{l'-2,m'+2}}\\left (\\vec{x} \\right )+f^{{l',m'+2}}\\frac{i}{4}e^{{l'-1,m'+1}}\\partial_x\\partial_yL^{{l',m'+2}}\\left (\\vec{x} \\right )-a^{{l'-2,m'+1}}\\frac{1}{2}e^{{l'-1,m'+1}}\\partial_x\\partial_zL^{{l'-2,m'+1}}\\left (\\vec{x} \\right )-b^{{l',m'+1}}\\frac{1}{2}e^{{l'-1,m'+1}}\\partial_x\\partial_zL^{{l',m'+1}}\\left (\\vec{x} \\right )-\\frac{1}{4}f^{{l'+1,m'+1}}c^{{l',m'}}\\partial_x\\partial_xL^{{l',m'}}\\left (\\vec{x} \\right )+\\frac{1}{4}f^{{l'+1,m'+1}}d^{{l'+2,m'}}\\partial_x\\partial_xL^{{l'+2,m'}}\\left (\\vec{x} \\right )+\\frac{1}{4}f^{{l'+1,m'+1}}e^{{l',m'+2}}\\partial_x\\partial_xL^{{l',m'+2}}\\left (\\vec{x} \\right )-\\frac{1}{4}f^{{l'+1,m'+1}}f^{{l'+2,m'+2}}\\partial_x\\partial_xL^{{l'+2,m'+2}}\\left (\\vec{x} \\right )+\\frac{i}{4}f^{{l'+1,m'+1}}c^{{l',m'}}\\partial_x\\partial_yL^{{l',m'}}\\left (\\vec{x} \\right )-\\frac{i}{4}f^{{l'+1,m'+1}}d^{{l'+2,m'}}\\partial_x\\partial_yL^{{l'+2,m'}}\\left (\\vec{x} \\right )+\\frac{i}{4}f^{{l'+1,m'+1}}e^{{l',m'+2}}\\partial_x\\partial_yL^{{l',m'+2}}\\left (\\vec{x} \\right )-\\frac{i}{4}f^{{l'+1,m'+1}}f^{{l'+2,m'+2}}\\partial_x\\partial_yL^{{l'+2,m'+2}}\\left (\\vec{x} \\right )+\\frac{1}{2}f^{{l'+1,m'+1}}a^{{l',m'+1}}\\partial_x\\partial_zL^{{l',m'+1}}\\left (\\vec{x} \\right )+\\frac{1}{2}f^{{l'+1,m'+1}}b^{{l'+2,m'+1}}\\partial_x\\partial_zL^{{l'+2,m'+1}}\\left (\\vec{x} \\right )+c^{{l'-2,m'-2}}\\frac{i}{4}c^{{l'-1,m'-1}}\\partial_y\\partial_xL^{{l'-2,m'-2}}\\left (\\vec{x} \\right )-d^{{l',m'-2}}\\frac{i}{4}c^{{l'-1,m'-1}}\\partial_y\\partial_xL^{{l',m'-2}}\\left (\\vec{x} \\right )-e^{{l'-2,m'}}\\frac{i}{4}c^{{l'-1,m'-1}}\\partial_y\\partial_xL^{{l'-2,m'}}\\left (\\vec{x} \\right )+f^{{l',m'}}\\frac{i}{4}c^{{l'-1,m'-1}}\\partial_y\\partial_xL^{{l',m'}}\\left (\\vec{x} \\right )+c^{{l'-2,m'-2}}\\frac{1}{4}c^{{l'-1,m'-1}}\\partial_y\\partial_yL^{{l'-2,m'-2}}\\left (\\vec{x} \\right )-d^{{l',m'-2}}\\frac{1}{4}c^{{l'-1,m'-1}}\\partial_y\\partial_yL^{{l',m'-2}}\\left (\\vec{x} \\right )+e^{{l'-2,m'}}\\frac{1}{4}c^{{l'-1,m'-1}}\\partial_y\\partial_yL^{{l'-2,m'}}\\left (\\vec{x} \\right )-f^{{l',m'}}\\frac{1}{4}c^{{l'-1,m'-1}}\\partial_y\\partial_yL^{{l',m'}}\\left (\\vec{x} \\right )-a^{{l'-2,m'-1}}\\frac{i}{2}c^{{l'-1,m'-1}}\\partial_y\\partial_zL^{{l'-2,m'-1}}\\left (\\vec{x} \\right )-b^{{l',m'-1}}\\frac{i}{2}c^{{l'-1,m'-1}}\\partial_y\\partial_zL^{{l',m'-1}}\\left (\\vec{x} \\right )-\\frac{i}{4}d^{{l'+1,m'-1}}c^{{l',m'-2}}\\partial_y\\partial_xL^{{l',m'-2}}\\left (\\vec{x} \\right )+\\frac{i}{4}d^{{l'+1,m'-1}}d^{{l'+2,m'-2}}\\partial_y\\partial_xL^{{l'+2,m'-2}}\\left (\\vec{x} \\right )+\\frac{i}{4}d^{{l'+1,m'-1}}e^{{l',m'}}\\partial_y\\partial_xL^{{l',m'}}\\left (\\vec{x} \\right )-\\frac{i}{4}d^{{l'+1,m'-1}}f^{{l'+2,m'}}\\partial_y\\partial_xL^{{l'+2,m'}}\\left (\\vec{x} \\right )-\\frac{1}{4}d^{{l'+1,m'-1}}c^{{l',m'-2}}\\partial_y\\partial_yL^{{l',m'-2}}\\left (\\vec{x} \\right )+\\frac{1}{4}d^{{l'+1,m'-1}}d^{{l'+2,m'-2}}\\partial_y\\partial_yL^{{l'+2,m'-2}}\\left (\\vec{x} \\right )-\\frac{1}{4}d^{{l'+1,m'-1}}e^{{l',m'}}\\partial_y\\partial_yL^{{l',m'}}\\left (\\vec{x} \\right )+\\frac{1}{4}d^{{l'+1,m'-1}}f^{{l'+2,m'}}\\partial_y\\partial_yL^{{l'+2,m'}}\\left (\\vec{x} \\right )+\\frac{i}{2}d^{{l'+1,m'-1}}a^{{l',m'-1}}\\partial_y\\partial_zL^{{l',m'-1}}\\left (\\vec{x} \\right )+\\frac{i}{2}d^{{l'+1,m'-1}}b^{{l'+2,m'-1}}\\partial_y\\partial_zL^{{l'+2,m'-1}}\\left (\\vec{x} \\right )+c^{{l'-2,m'}}\\frac{i}{4}e^{{l'-1,m'+1}}\\partial_y\\partial_xL^{{l'-2,m'}}\\left (\\vec{x} \\right )-d^{{l',m'}}\\frac{i}{4}e^{{l'-1,m'+1}}\\partial_y\\partial_xL^{{l',m'}}\\left (\\vec{x} \\right )-e^{{l'-2,m'+2}}\\frac{i}{4}e^{{l'-1,m'+1}}\\partial_y\\partial_xL^{{l'-2,m'+2}}\\left (\\vec{x} \\right )+f^{{l',m'+2}}\\frac{i}{4}e^{{l'-1,m'+1}}\\partial_y\\partial_xL^{{l',m'+2}}\\left (\\vec{x} \\right )+c^{{l'-2,m'}}\\frac{1}{4}e^{{l'-1,m'+1}}\\partial_y\\partial_yL^{{l'-2,m'}}\\left (\\vec{x} \\right )-d^{{l',m'}}\\frac{1}{4}e^{{l'-1,m'+1}}\\partial_y\\partial_yL^{{l',m'}}\\left (\\vec{x} \\right )+e^{{l'-2,m'+2}}\\frac{1}{4}e^{{l'-1,m'+1}}\\partial_y\\partial_yL^{{l'-2,m'+2}}\\left (\\vec{x} \\right )-f^{{l',m'+2}}\\frac{1}{4}e^{{l'-1,m'+1}}\\partial_y\\partial_yL^{{l',m'+2}}\\left (\\vec{x} \\right )-a^{{l'-2,m'+1}}\\frac{i}{2}e^{{l'-1,m'+1}}\\partial_y\\partial_zL^{{l'-2,m'+1}}\\left (\\vec{x} \\right )-b^{{l',m'+1}}\\frac{i}{2}e^{{l'-1,m'+1}}\\partial_y\\partial_zL^{{l',m'+1}}\\left (\\vec{x} \\right )-\\frac{i}{4}f^{{l'+1,m'+1}}c^{{l',m'}}\\partial_y\\partial_xL^{{l',m'}}\\left (\\vec{x} \\right )+\\frac{i}{4}f^{{l'+1,m'+1}}d^{{l'+2,m'}}\\partial_y\\partial_xL^{{l'+2,m'}}\\left (\\vec{x} \\right )+\\frac{i}{4}f^{{l'+1,m'+1}}e^{{l',m'+2}}\\partial_y\\partial_xL^{{l',m'+2}}\\left (\\vec{x} \\right )-\\frac{i}{4}f^{{l'+1,m'+1}}f^{{l'+2,m'+2}}\\partial_y\\partial_xL^{{l'+2,m'+2}}\\left (\\vec{x} \\right )-\\frac{1}{4}f^{{l'+1,m'+1}}c^{{l',m'}}\\partial_y\\partial_yL^{{l',m'}}\\left (\\vec{x} \\right )+\\frac{1}{4}f^{{l'+1,m'+1}}d^{{l'+2,m'}}\\partial_y\\partial_yL^{{l'+2,m'}}\\left (\\vec{x} \\right )-\\frac{1}{4}f^{{l'+1,m'+1}}e^{{l',m'+2}}\\partial_y\\partial_yL^{{l',m'+2}}\\left (\\vec{x} \\right )+\\frac{1}{4}f^{{l'+1,m'+1}}f^{{l'+2,m'+2}}\\partial_y\\partial_yL^{{l'+2,m'+2}}\\left (\\vec{x} \\right )+\\frac{i}{2}f^{{l'+1,m'+1}}a^{{l',m'+1}}\\partial_y\\partial_zL^{{l',m'+1}}\\left (\\vec{x} \\right )+\\frac{i}{2}f^{{l'+1,m'+1}}b^{{l'+2,m'+1}}\\partial_y\\partial_zL^{{l'+2,m'+1}}\\left (\\vec{x} \\right )+\\frac{1}{2}a^{{l'-1,m'}}c^{{l'-2,m'-1}}\\partial_z\\partial_xL^{{l'-2,m'-1}}\\left (\\vec{x} \\right )-\\frac{1}{2}a^{{l'-1,m'}}d^{{l',m'-1}}\\partial_z\\partial_xL^{{l',m'-1}}\\left (\\vec{x} \\right )-\\frac{1}{2}a^{{l'-1,m'}}e^{{l'-2,m'+1}}\\partial_z\\partial_xL^{{l'-2,m'+1}}\\left (\\vec{x} \\right )+\\frac{1}{2}a^{{l'-1,m'}}f^{{l',m'+1}}\\partial_z\\partial_xL^{{l',m'+1}}\\left (\\vec{x} \\right )-\\frac{i}{2}a^{{l'-1,m'}}c^{{l'-2,m'-1}}\\partial_z\\partial_yL^{{l'-2,m'-1}}\\left (\\vec{x} \\right )+\\frac{i}{2}a^{{l'-1,m'}}d^{{l',m'-1}}\\partial_z\\partial_yL^{{l',m'-1}}\\left (\\vec{x} \\right )-\\frac{i}{2}a^{{l'-1,m'}}e^{{l'-2,m'+1}}\\partial_z\\partial_yL^{{l'-2,m'+1}}\\left (\\vec{x} \\right )+\\frac{i}{2}a^{{l'-1,m'}}f^{{l',m'+1}}\\partial_z\\partial_yL^{{l',m'+1}}\\left (\\vec{x} \\right )-a^{{l'-1,m'}}a^{{l'-2,m'}}\\partial_z\\partial_zL^{{l'-2,m'}}\\left (\\vec{x} \\right )-a^{{l'-1,m'}}b^{{l',m'}}\\partial_z\\partial_zL^{{l',m'}}\\left (\\vec{x} \\right )+\\frac{1}{2}b^{{l'+1,m'}}c^{{l',m'-1}}\\partial_z\\partial_xL^{{l',m'-1}}\\left (\\vec{x} \\right )-\\frac{1}{2}b^{{l'+1,m'}}d^{{l'+2,m'-1}}\\partial_z\\partial_xL^{{l'+2,m'-1}}\\left (\\vec{x} \\right )-\\frac{1}{2}b^{{l'+1,m'}}e^{{l',m'+1}}\\partial_z\\partial_xL^{{l',m'+1}}\\left (\\vec{x} \\right )+\\frac{1}{2}b^{{l'+1,m'}}f^{{l'+2,m'+1}}\\partial_z\\partial_xL^{{l'+2,m'+1}}\\left (\\vec{x} \\right )-\\frac{i}{2}b^{{l'+1,m'}}c^{{l',m'-1}}\\partial_z\\partial_yL^{{l',m'-1}}\\left (\\vec{x} \\right )+\\frac{i}{2}b^{{l'+1,m'}}d^{{l'+2,m'-1}}\\partial_z\\partial_yL^{{l'+2,m'-1}}\\left (\\vec{x} \\right )-\\frac{i}{2}b^{{l'+1,m'}}e^{{l',m'+1}}\\partial_z\\partial_yL^{{l',m'+1}}\\left (\\vec{x} \\right )+\\frac{i}{2}b^{{l'+1,m'}}f^{{l'+2,m'+1}}\\partial_z\\partial_yL^{{l'+2,m'+1}}\\left (\\vec{x} \\right )-b^{{l'+1,m'}}a^{{l',m'}}\\partial_z\\partial_zL^{{l',m'}}\\left (\\vec{x} \\right )-b^{{l'+1,m'}}b^{{l'+2,m'}}\\partial_z\\partial_zL^{{l'+2,m'}}\\left (\\vec{x} \\right )\n",
    "$$"
   ]
  },
  {
   "cell_type": "markdown",
   "metadata": {},
   "source": [
    "------------------------------------\n",
    "\n",
    "\n",
    "$$\n",
    "\\frac{1}{2}c^{{l'-1,m'-1}}b^{{l',m'-1}}\\partial_x\\partial_zL^{{l',m'-1}}\\left (\\vec{x} \\right )\n",
    "$$\n"
   ]
  },
  {
   "cell_type": "markdown",
   "metadata": {},
   "source": [
    "$$\n",
    "\\frac{1}{2}c^{{l'-1,m'-1}}b^{{l',m'-1}}\\partial_x\\partial_zL^{{l',m'-1}}\\left (\\vec{x} \\right )\n",
    "$$"
   ]
  },
  {
   "cell_type": "code",
   "execution_count": null,
   "metadata": {
    "collapsed": true
   },
   "outputs": [],
   "source": []
  }
 ],
 "metadata": {
  "kernelspec": {
   "display_name": "Python 3",
   "language": "python",
   "name": "python3"
  },
  "language_info": {
   "codemirror_mode": {
    "name": "ipython",
    "version": 3
   },
   "file_extension": ".py",
   "mimetype": "text/x-python",
   "name": "python",
   "nbconvert_exporter": "python",
   "pygments_lexer": "ipython3",
   "version": "3.6.0"
  }
 },
 "nbformat": 4,
 "nbformat_minor": 2
}
