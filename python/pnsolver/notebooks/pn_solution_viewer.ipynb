{
 "cells": [
  {
   "cell_type": "code",
   "execution_count": 1,
   "metadata": {
    "collapsed": false
   },
   "outputs": [],
   "source": [
    "import os,sys,inspect\n",
    "\n",
    "import pnsolver\n",
    "\n",
    "currentdir = os.path.dirname(os.path.abspath(inspect.getfile(inspect.currentframe())))\n",
    "parentdir = os.path.dirname(currentdir)\n",
    "sys.path.insert(0,parentdir) \n",
    "\n",
    "import util\n",
    "import stencil\n",
    "import numpy as np\n",
    "import matplotlib.pyplot as plt\n",
    "from matplotlib.colors import LogNorm\n",
    "from mpl_toolkits.axes_grid1 import make_axes_locatable\n",
    "\n",
    "import ipywidgets as widgets\n",
    "from ipywidgets.widgets.interaction import interact\n",
    "\n",
    "import scipy.io\n",
    "\n",
    " # Use interactive matplotlib backend, which runs in the browser\n",
    "%matplotlib notebook"
   ]
  },
  {
   "cell_type": "code",
   "execution_count": null,
   "metadata": {
    "collapsed": false
   },
   "outputs": [],
   "source": [
    "def load_pn_solution(filename, silent = False):\n",
    "    data = util.load_pn_system(filename, silent=silent)\n",
    "    staggered = False\n",
    "    pni = stencil.PNInfo2D( data[\"order\"], staggered )\n",
    "    if data[\"resolution\"].shape[0] == 2:\n",
    "        data[\"resolution\"] = np.array([data[\"resolution\"][0], data[\"resolution\"][1], 1])\n",
    "    domain = pnsolver.Domain( np.array([7.0, 7.0, 1.0]), data[\"resolution\"], np.array([0.0, 0.0, 0.0]) )\n",
    "    data[\"domain\"] = domain\n",
    "    data[\"pni\"] = pni\n",
    "    \n",
    "    if \"x\" in data:\n",
    "        x_complex = pni.to_complex(data[\"x\"])\n",
    "    else:\n",
    "        data[\"x\"] = np.zeros(data[\"b\"].shape)\n",
    "        x_complex = np.zeros(data[\"b\"].shape, dtype=complex)\n",
    "\n",
    "    # contruct radiance field from coefficients\n",
    "    L = pnsolver.SHEXP( data[\"order\"] )\n",
    "    for index in range(data[\"numCoeffs\"]):\n",
    "        (l,m) = pni.lm_index(index)\n",
    "        sh_index = util.sh_index(l,m)\n",
    "        offset = pni.getOffset(index)*0.5\n",
    "\n",
    "\n",
    "        u0 = util.extract_coefficient_field( x_complex, data[\"resolution\"], data[\"numCoeffs\"], index )\n",
    "        L.setCoefficientField( l, m, pnsolver.VoxelGridField( u0, domain, offset ) )\n",
    "        #print(u0.dtype)\n",
    "    data[\"L\"] = L\n",
    "    return data\n",
    "\n",
    "def load_pn_solution3d(filename, silent = False):\n",
    "    data = util.load_pn_system(filename, silent=silent)\n",
    "    staggered = False\n",
    "    pni = stencil.PNInfo3D( data[\"order\"], staggered )\n",
    "    domain = pnsolver.Domain( np.array([7.0, 7.0, 7.0]), data[\"resolution\"], np.array([0.0, 0.0, 0.0]) )\n",
    "    data[\"domain\"] = domain\n",
    "    data[\"pni\"] = pni\n",
    "    \n",
    "    if \"x\" in data:\n",
    "        x_complex = pni.to_complex(data[\"x\"])\n",
    "    else:\n",
    "        data[\"x\"] = np.zeros(data[\"b\"].shape)\n",
    "        x_complex = np.zeros(data[\"b\"].shape, dtype=complex)\n",
    "\n",
    "    # contruct radiance field from coefficients\n",
    "    L = pnsolver.SHEXP( data[\"order\"] )\n",
    "    for index in range(data[\"numCoeffs\"]):\n",
    "        (l,m) = pni.lm_index(index)\n",
    "        sh_index = util.sh_index(l,m)\n",
    "        offset = pni.getOffset(index)*0.5\n",
    "\n",
    "\n",
    "        u0 = util.extract_coefficient_field( x_complex, data[\"resolution\"], data[\"numCoeffs\"], index )\n",
    "        L.setCoefficientField( l, m, pnsolver.VoxelGridField( u0, domain, offset ) )\n",
    "        #print(u0.dtype)\n",
    "    data[\"L\"] = L\n",
    "    return data\n",
    "\n",
    "def render(L, pWS):\n",
    "    plot_y = np.arange(0, 2, 0.01)\n",
    "    plot_x = 2 * np.pi * plot_y\n",
    "\n",
    "    for i in range(plot_x.shape[0]):\n",
    "        phi = plot_x[i]\n",
    "        omega = util.sphericalDirection(np.pi*0.5, phi)\n",
    "        # for some reason (I still have to investigate) the direction seems to be inverted\n",
    "        # for our solution\n",
    "        #omega = -omega\n",
    "        plot_y[i] = np.real(L.eval(pWS, np.array([omega[0], omega[1]])))\n",
    "    return (plot_x, plot_y)"
   ]
  },
  {
   "cell_type": "code",
   "execution_count": null,
   "metadata": {
    "collapsed": true
   },
   "outputs": [],
   "source": [
    "datasets = []\n",
    "\n",
    "datasets.append((\"from id\", \"---\"))\n",
    "#datasets.append((\"checkerboard fopn p1\", \"C:/projects/epfl/epfl17/python/pnsolver/results/studies/checkerboard_fopn_p1.mat\"))\n",
    "#datasets.append((\"checkerboard fopn p2\", \"C:/projects/epfl/epfl17/python/pnsolver/results/studies/checkerboard_fopn_p2.mat\"))\n",
    "#datasets.append((\"checkerboard fopn p3\", \"C:/projects/epfl/epfl17/python/pnsolver/results/studies/checkerboard_fopn_p3.mat\"))\n",
    "#datasets.append((\"checkerboard fopn p4\", \"C:/projects/epfl/epfl17/python/pnsolver/results/studies/checkerboard_fopn_p4.mat\"))\n",
    "#datasets.append((\"checkerboard fopn p5\", \"C:/projects/epfl/epfl17/python/pnsolver/results/studies/checkerboard_fopn_p5.mat\"))\n",
    "#datasets.append((\"checkerboard sopn p1\", \"C:/projects/epfl/epfl17/python/pnsolver/results/studies/checkerboard_sopn_p1.mat\"))\n",
    "#filename = \"C:/projects/epfl/epfl17/python/pnsolver/results/studies/vacuum_sopn_p1.mat\"\n",
    "#filename = \"C:/projects/epfl/epfl17/python/pnsolver/results/studies/checkerboard_sopn_p1_vacuum.mat\"\n",
    "#filename = \"C:/projects/epfl/epfl17/python/notebooks/sopn/solution_checkerboard_blur10.0_term1.mat\""
   ]
  },
  {
   "cell_type": "code",
   "execution_count": null,
   "metadata": {
    "collapsed": false
   },
   "outputs": [],
   "source": [
    "def make_plot():\n",
    "    global msg\n",
    "    figsize = plt.figaspect(1/2)\n",
    "    #fig, ax = plt.subplots(1, 2, figsize=figsize)\n",
    "    \n",
    "    fig = plt.figure(figsize=figsize);\n",
    "    ax = [None, None, None]\n",
    "    ax[0] = fig.add_subplot(121)\n",
    "    #ax[1] = fig.add_subplot(122)\n",
    "    ax[1] = fig.add_subplot(122, projection='polar')\n",
    "    #ax[2] = fig.add_subplot(133)\n",
    "\n",
    "    \n",
    "    # Plot 1 =============================================\n",
    "    # Draw an empty image\n",
    "    img_view = ax[0].imshow(np.zeros((1,1)), cmap='jet', origin='lower')\n",
    "    \n",
    "    # Add a nice color bar\n",
    "    from mpl_toolkits.axes_grid1 import make_axes_locatable\n",
    "    divider = make_axes_locatable(ax[0])\n",
    "    cax = divider.append_axes(\"right\", size=\"5%\", pad=0.05)\n",
    "    plt.colorbar(img_view, cax=cax)\n",
    "\n",
    "    # Plot 2 =============================================\n",
    "    # Add an empty plot of the SH coefficients ------\n",
    "    plot_view = ax[1].plot(np.zeros((1)))[0]\n",
    "    ax[1].set(adjustable=\"datalim\")\n",
    "    ax[1].set_rmax(1.0)\n",
    "    #plot_view = ax[1].imshow(np.zeros((1,1)), cmap='jet', origin='lower')\n",
    "    \n",
    "\n",
    "    result = { 'img_view' : img_view,\n",
    "               'img_ax' : ax[0],\n",
    "               'plot_view' : plot_view,\n",
    "               'plot_ax' : ax[1],\n",
    "               #'img_view2':img_view2,\n",
    "               #'img_ax2':ax[2],\n",
    "               'dataset_filename':None\n",
    "             }\n",
    "    \n",
    "    def on_click(event):\n",
    "        global msg\n",
    "        if event.inaxes is not ax[0] or 'on_click_handler' not in result:\n",
    "            return\n",
    "        result['on_click_handler'](np.array([event.ydata, event.xdata]))\n",
    "\n",
    "    fig.canvas.mpl_connect('button_press_event', on_click)\n",
    "    fig.tight_layout()\n",
    "\n",
    "    return result\n",
    "\n",
    "def plot_interact(plot):\n",
    "    def redraw(dataset_id, coeff_index, display_absolute_value):\n",
    "        img_view = plot['img_view']\n",
    "        plot_view = plot['plot_view']\n",
    "        plot_ax = plot['plot_ax']\n",
    "        \n",
    "        dataset_filename = \"C:/projects/epfl/epfl17/python/pnsolver/results/studies/checkerboard{}.mat\".format(dataset_id)\n",
    "        if dataset_filename != plot['dataset_filename']:\n",
    "            plot['dataset_filename'] = dataset_filename\n",
    "            plot[\"data\"] = load_pn_solution(dataset_filename)\n",
    "\n",
    "        data = plot[\"data\"]\n",
    "        domain = data[\"domain\"]\n",
    "        pni = data[\"pni\"]\n",
    "        L = data[\"L\"]\n",
    "                    \n",
    "        #filename = \"C:/projects/epfl/epfl17/python/pnsolver/results/studies/checkerboard_groundtruth.mat\"\n",
    "        #groundtruth_image = util.load_pn_system(filename)[\"x\"]\n",
    "        #groundtruth_image = np.clip(image, 1.0e-8, np.max(image))\n",
    "        #plot_view.set_norm(LogNorm(vmin=np.min(groundtruth_image), vmax=np.max(groundtruth_image)))\n",
    "        #plot_view.set_extent((domain.getBoundMin()[0], domain.getBoundMax()[0], domain.getBoundMin()[1], domain.getBoundMax()[1]))\n",
    "        #plot_view.set_data(groundtruth_image.T)\n",
    "\n",
    "            \n",
    "\n",
    "        \n",
    "        # update plot 1 =======================================\n",
    "        u = util.extract_coefficient_field( data[\"x\"], data[\"resolution\"], data[\"numCoeffs\"], coeff_index )\n",
    "        \n",
    "        if display_absolute_value == True:\n",
    "            u = np.abs( u)\n",
    "            vmax = np.max(u)\n",
    "        else:\n",
    "            u = np.clip( u, 1.0e-8, np.max(u) )\n",
    "            #vmax = np.max(u)\n",
    "            vmax = 1.3\n",
    "        #u = np.abs(u)\n",
    "        #print( \"min={} max={}\".format(np.min(u), np.max(u)) )\n",
    "        \n",
    "        # Update the plot\n",
    "        img_view.set_data(u)\n",
    "        #img_view.set_clim(vmin=0, vmax=np.percentile(data_slice, 99))\n",
    "        #img_view.set_clim(vmin=np.min(u), vmax=np.max(u))\n",
    "        img_view.set_norm(LogNorm(vmin=np.min(u), vmax=vmax))\n",
    "        img_view.set_extent((domain.getBoundMin()[0], domain.getBoundMax()[0], domain.getBoundMin()[1], domain.getBoundMax()[1]))\n",
    "        \n",
    "        # update plot 2 =======================================\n",
    "        def on_click_handler(pos):\n",
    "            pWS = np.array([pos[1], pos[0]])\n",
    "            (plot_x, plot_y) = render(L, pWS)\n",
    "            plot_y = plot_y/np.max(plot_y)\n",
    "            plot_view.set_data(plot_x, plot_y)\n",
    "        \n",
    "        plot['on_click_handler'] = on_click_handler\n",
    "\n",
    "    #slice_index_widget = widgets.IntSlider(\n",
    "    #    min=0,\n",
    "    #    max=127,\n",
    "    #    value=64,\n",
    "    #    description='Slice'\n",
    "    #)\n",
    "    \n",
    "    dataset_id_widget = widgets.Text(\n",
    "        value='_fopn_p1_sg',\n",
    "        placeholder='Type something',\n",
    "        description='String:',\n",
    "        disabled=False\n",
    "    )\n",
    "    \n",
    "    #rightside_index_widget = widgets.Dropdown(\n",
    "    #    options=[(\"L\", 0), (\"groundtruth\", 1)],\n",
    "    #    value=0,\n",
    "    #    description='right side'\n",
    "    #)\n",
    "   \n",
    "    coeff_index_widget = widgets.IntSlider(\n",
    "        min=0,\n",
    "        max=2,\n",
    "        value=0,\n",
    "        description='coefficient'\n",
    "    )\n",
    "    \n",
    "    display_absolute_value_widget = widgets.ToggleButton(\n",
    "    value=False,\n",
    "    description='absolute',\n",
    "    disabled=False,\n",
    "    button_style='', # 'success', 'info', 'warning', 'danger' or ''\n",
    "    tooltip='Description',\n",
    "    icon='check'\n",
    "    )\n",
    "    \n",
    "    \n",
    "    #interact(redraw, dataset_index=dataset_index_widget, slice_index=slice_index_widget, coeff_index=coeff_index_widget)\n",
    "    interact(redraw, dataset_id=dataset_id_widget, coeff_index=coeff_index_widget, display_absolute_value = display_absolute_value_widget)"
   ]
  },
  {
   "cell_type": "code",
   "execution_count": null,
   "metadata": {
    "collapsed": false,
    "scrolled": false
   },
   "outputs": [],
   "source": [
    "plot = make_plot()"
   ]
  },
  {
   "cell_type": "code",
   "execution_count": null,
   "metadata": {
    "collapsed": false
   },
   "outputs": [],
   "source": [
    "plot_interact(plot)"
   ]
  },
  {
   "cell_type": "code",
   "execution_count": null,
   "metadata": {
    "collapsed": false
   },
   "outputs": [],
   "source": [
    "filename = \"C:/projects/epfl/epfl17/python/pnsolver/results/studies/checkerboard_sopn_p1_sg.mat\"\n",
    "#filename = \"C:/projects/epfl/epfl17/python/pnsolver/results/studies/vacuum_sopn_p1.mat\"\n",
    "#filename = \"C:/projects/epfl/epfl17/python/pnsolver/results/studies/checkerboard_sopn_p1_vacuum.mat\"\n",
    "#filename = \"C:/projects/epfl/epfl17/python/notebooks/sopn/solution_checkerboard_blur10.0_term1.mat\""
   ]
  },
  {
   "cell_type": "code",
   "execution_count": null,
   "metadata": {
    "collapsed": false
   },
   "outputs": [],
   "source": [
    "data = load_pn_solution(filename)\n",
    "domain = data[\"domain\"]\n",
    "L = data[\"L\"]"
   ]
  },
  {
   "cell_type": "code",
   "execution_count": null,
   "metadata": {
    "collapsed": false
   },
   "outputs": [],
   "source": [
    "#rows = np.arange(0, 7.0, 0.1)\n",
    "\n",
    "#print(plot_x.shape)\n",
    "\n",
    "(plot_x,plot_y) = render(data[\"L\"], np.array([3.5, 3.5]))\n",
    "\n",
    "res_x = 70\n",
    "\n",
    "image = np.zeros((res_x, plot_x.shape[0]))\n",
    "\n",
    "for i in range(res_x):\n",
    "    pVS = np.array([i+0.5, 35])\n",
    "    #pWS = domain.voxelToWorld( pVS )\n",
    "    pWS = np.array([3.5, 1.5])\n",
    "    (plot_x,plot_y) = render(data[\"L\"], pWS)\n",
    "    image[i, :] = plot_y\n",
    "    \n",
    "image = np.clip(image, 1.0e-8, np.max(image))\n",
    "#image = np.abs(image)\n",
    "    \n",
    "fig = plt.figure(figsize=(8,8));\n",
    "ax = fig.add_subplot(111)\n",
    "img_view = ax.imshow(image, cmap='jet', norm=LogNorm(vmin=np.min(image), vmax=np.max(image)), origin='lower')\n",
    "plt.show()"
   ]
  },
  {
   "cell_type": "code",
   "execution_count": null,
   "metadata": {
    "collapsed": false
   },
   "outputs": [],
   "source": [
    "\n",
    "res_restricted = np.array([data[\"resolution\"][0]//2, data[\"resolution\"][1]//2, 1])\n",
    "print(res_restricted)"
   ]
  },
  {
   "cell_type": "code",
   "execution_count": null,
   "metadata": {
    "collapsed": false,
    "scrolled": false
   },
   "outputs": [],
   "source": [
    "filename = \"C:/projects/epfl/epfl17/python/pnsolver/results/studies/checkerboard_test.mat\"\n",
    "data = util.load_pn_system(filename)\n",
    "image = util.extract_coefficient_field( data[\"x\"], data[\"resolution\"], data[\"numCoeffs\"], 0 )\n",
    "#image = util.extract_coefficient_field( data[\"x\"], res_restricted, data[\"numCoeffs\"], 2 )\n",
    "\n",
    "print(\"image min={} max={}\".format(np.min(image), np.max(image)))\n",
    "'''\n",
    "image_diff = np.zeros((71, 71))\n",
    "\n",
    "for i in range(35):\n",
    "    for j in range(71):\n",
    "        image_diff[i, j] = np.abs(image[i, j, 0] - image[71 - i - 1, j, 0])\n",
    "        #if i ==21 and j == 38:\n",
    "        #    image_diff[i, j] = 1.0\n",
    "print(np.max(image_diff))\n",
    "'''\n",
    "image = np.clip(image, 1.0e-8, np.max(image))\n",
    "\n",
    "\n",
    "\n",
    "fig = plt.figure(figsize=(10,10));\n",
    "ax = fig.add_subplot(111)\n",
    "img_view = ax.imshow(image[:,:,0], cmap='jet', norm=LogNorm(vmin=np.min(image), vmax=np.max(image)), origin='lower')\n",
    "divider = make_axes_locatable(ax)\n",
    "cax = divider.append_axes(\"right\", size=\"5%\", pad=0.05)\n",
    "plt.colorbar(img_view, cax=cax)\n",
    "\n",
    "#ax = fig.add_subplot(122)\n",
    "#img_view = ax.imshow(image_diff, cmap='jet', vmin=np.min(image_diff), vmax=np.max(image_diff), origin='lower')\n",
    "#divider = make_axes_locatable(ax)\n",
    "#cax = divider.append_axes(\"right\", size=\"5%\", pad=0.05)\n",
    "#plt.colorbar(img_view, cax=cax)\n",
    "\n",
    "plt.show()"
   ]
  },
  {
   "cell_type": "code",
   "execution_count": null,
   "metadata": {
    "collapsed": true
   },
   "outputs": [],
   "source": [
    "convergence_cg = data[\"convergence\"].T\n",
    "convergence_time_cg = data[\"timestamps\"].T"
   ]
  },
  {
   "cell_type": "code",
   "execution_count": null,
   "metadata": {
    "collapsed": true
   },
   "outputs": [],
   "source": [
    "convergence_mg = data[\"convergence\"].T\n",
    "convergence_time_mg = data[\"timestamps\"].T"
   ]
  },
  {
   "cell_type": "code",
   "execution_count": null,
   "metadata": {
    "collapsed": true
   },
   "outputs": [],
   "source": [
    "convergence_gs = data[\"convergence\"].T\n",
    "convergence_time_gs = data[\"timestamps\"].T"
   ]
  },
  {
   "cell_type": "code",
   "execution_count": null,
   "metadata": {
    "collapsed": false
   },
   "outputs": [],
   "source": [
    "fig = plt.figure(figsize=(10,10));\n",
    "\n",
    "a = np.linspace(0.0, 1.0)\n",
    "#plt.semilogy( convergence_cg, label=\"CG\" )\n",
    "#plt.semilogy( convergence_time_cg, convergence_cg, label=\"CG\" )\n",
    "plt.loglog( convergence_time_cg, convergence_cg, label=\"CG\" )\n",
    "#plt.semilogy( convergence_mg, label=\"Multigrid\" )\n",
    "#plt.semilogy( convergence_time_mg, convergence_mg, label=\"Multigrid\" )\n",
    "plt.loglog( convergence_time_mg, convergence_mg, label=\"Multigrid\" )\n",
    "#plt.loglog( convergence_mg, label=\"Multigrid\" )\n",
    "#plt.semilogy( convergence_time_gs, convergence_gs, label=\"Multigrid2\" )\n",
    "#plt.plot( convergence_mg, label=\"Multigrid\" )\n",
    "plt.legend(loc='best')\n",
    "plt.show()"
   ]
  },
  {
   "cell_type": "code",
   "execution_count": null,
   "metadata": {
    "collapsed": false
   },
   "outputs": [],
   "source": [
    "fig = plt.figure(figsize=(10,10));\n",
    "\n",
    "a = np.linspace(0.0, 1.0)\n",
    "plt.semilogy( data[\"convergence\"].T, label=\"CG\" )\n",
    "plt.legend(loc='best')\n",
    "plt.show()"
   ]
  },
  {
   "cell_type": "code",
   "execution_count": null,
   "metadata": {
    "collapsed": false
   },
   "outputs": [],
   "source": [
    "image = util.extract_coefficient_field( data[\"x\"], data[\"resolution\"], data[\"numCoeffs\"], 0 )\n",
    "\n",
    "\n",
    "image_diff = np.zeros((71, 71))\n",
    "for i in range(35):\n",
    "    for j in range(71):\n",
    "        image_diff[i, j] = np.abs(image[i, j, 0] - image[71 - i - 1, j, 0])\n",
    "print(np.max(image_diff))\n",
    "\n",
    "#image = data[\"x\"]\n",
    "#image = np.clip(image, 1.0e-8, np.max(image))\n",
    "#print(data[\"x\"].dtype)\n",
    "#print(np.min(image))\n",
    "#print(np.max(image))\n",
    "\n",
    "\n",
    "fig = plt.figure(figsize=(8,8));\n",
    "ax = fig.add_subplot(111)\n",
    "#img_view = ax.imshow(image[:,:,0], cmap='jet', vmin=np.min(image), vmax=np.max(image), origin='lower')\n",
    "img_view = ax.imshow(image_diff, cmap='jet', vmin=np.min(image), vmax=np.max(image), origin='lower')\n",
    "#img_view = ax.imshow(image, cmap='jet', vmin=np.min(image), vmax=np.max(image), origin='lower')\n",
    "\n",
    "divider = make_axes_locatable(ax)\n",
    "cax = divider.append_axes(\"right\", size=\"5%\", pad=0.05)\n",
    "plt.colorbar(img_view, cax=cax)\n",
    "\n",
    "plt.show()"
   ]
  },
  {
   "cell_type": "markdown",
   "metadata": {
    "collapsed": false
   },
   "source": [
    "-------------------------------\n"
   ]
  },
  {
   "cell_type": "markdown",
   "metadata": {},
   "source": [
    "# 3D Solver"
   ]
  },
  {
   "cell_type": "code",
   "execution_count": null,
   "metadata": {
    "collapsed": false
   },
   "outputs": [],
   "source": [
    "filename = \"C:/projects/epfl/epfl17/python/pnsolver/results/studies/pointsource_test.mat\"\n",
    "data = util.load_pn_system(filename)\n",
    "image = extract_coefficient_field( data[\"x\"].T, data[\"resolution\"], data[\"numCoeffs\"], 0 )\n",
    "#image = data[\"x\"]\n",
    "#image = np.clip(image, 1.0e-8, np.max(image))\n",
    "#print(data[\"x\"].dtype)\n",
    "#print(np.min(image))\n",
    "#print(np.max(image))\n",
    "\n",
    "filename = \"C:/projects/epfl/epfl17/python/pnsolver/results/studies/pointsource_test.mat\"\n",
    "data = util.load_pn_system(filename)\n",
    "image_cda = extract_coefficient_field( data[\"x\"].T, data[\"resolution\"], data[\"numCoeffs\"], 0 )\n",
    "\n",
    "\n"
   ]
  },
  {
   "cell_type": "code",
   "execution_count": null,
   "metadata": {
    "collapsed": false,
    "scrolled": false
   },
   "outputs": [],
   "source": [
    "\n",
    "\n",
    "\n",
    "def grosjean(xi, albedo):\n",
    "    diffusion_exponent = np.sqrt(3.0*(1.0-albedo)/(2.0-albedo))\n",
    "    factor = sigma_t*sigma_t/(4.0*np.pi)\n",
    "    return factor*(np.exp(-xi)/(xi*xi) + 3.0*albedo/((2.0-albedo)*xi) * np.exp(-diffusion_exponent*xi))\n",
    "def cda(xi, albedo):\n",
    "    diffusion_exponent = np.sqrt(3.0*(1.0-albedo))\n",
    "    factor = sigma_t*sigma_t/(4.0*np.pi)\n",
    "    return factor * (3.0/xi) * np.exp(-diffusion_exponent*xi)\n",
    "    \n",
    "\n",
    "\n",
    "\n",
    "\n",
    "#x_list = np.array([domain.voxelToWorld( np.array([i, center_voxel[1], center_voxel[2]]) )[0] for i in range(res)])\n",
    "#x_list_highres = np.arange(0.0, size, 100)\n",
    "#pointsource_grosjean = np.array([grosjean(np.linalg.norm(x-pointsource_center)*sigma_t, albedo) for x in x_list])\n",
    "#pointsource_cda = np.array([cda(np.linalg.norm(x-pointsource_center)*sigma_t, albedo) for x in x_list])\n",
    "\n",
    "\n",
    "#fig = plt.figure(figsize=(8,8));\n",
    "#ax = fig.add_subplot(111)\n",
    "#plt.semilogy(x_list, image_cda[:,center_voxel[1],center_voxel[2]], label=\"CDA\")\n",
    "#plt.semilogy(x_list, image_p1[:,center_voxel[1],center_voxel[2]], label=\"P1\", marker=\".\", linestyle=\" \")\n",
    "#plt.semilogy(x_list, pointsource_grosjean, label=\"Grosjean\")\n",
    "#plt.semilogy(x_list, pointsource_cda, label=\"CDA\")\n",
    "#plt.legend()\n",
    "#plt.show()"
   ]
  },
  {
   "cell_type": "code",
   "execution_count": null,
   "metadata": {
    "collapsed": true
   },
   "outputs": [],
   "source": [
    "sigma_t = 8.0\n",
    "albedo = 0.9\n",
    "size = 7.0\n"
   ]
  },
  {
   "cell_type": "code",
   "execution_count": 2,
   "metadata": {
    "collapsed": false
   },
   "outputs": [
    {
     "name": "stdout",
     "output_type": "stream",
     "text": [
      "loading PN solution from C:/projects/epfl/epfl17/python/pnsolver/results/studies/pointsource_stencil_cda.mat\n",
      "\torder=1  numCoeffs=1  resolution=50 50\n",
      "loading PN solution from C:/projects/epfl/epfl17/python/pnsolver/results/studies/pointsource_stencil_fopn_p1_sg.mat\n",
      "\torder=1  numCoeffs=4  resolution=50 50\n",
      "loading PN solution from C:/projects/epfl/epfl17/python/pnsolver/results/studies/pointsource_stencil_fopn_p2_sg.mat\n",
      "\torder=2  numCoeffs=9  resolution=50 50\n",
      "loading PN solution from C:/projects/epfl/epfl17/python/pnsolver/results/studies/pointsource_stencil_fopn_p3_sg.mat\n",
      "\torder=3  numCoeffs=16  resolution=50 50\n",
      "loading PN solution from C:/projects/epfl/epfl17/python/pnsolver/results/studies/pointsource_stencil_fopn_p4_sg.mat\n",
      "\torder=4  numCoeffs=25  resolution=50 50\n",
      "loading PN solution from C:/projects/epfl/epfl17/python/pnsolver/results/studies/pointsource_stencil_fopn_p4_sg2.mat\n",
      "\torder=4  numCoeffs=25  resolution=64 64\n"
     ]
    }
   ],
   "source": [
    "\n",
    "filename = \"C:/projects/epfl/epfl17/python/pnsolver/results/studies/pointsource_stencil_cda.mat\"\n",
    "data = util.load_pn_system(filename)\n",
    "image_cda = util.extract_coefficient_field( data[\"x\"].T, data[\"resolution\"], data[\"numCoeffs\"], 0 )\n",
    "\n",
    "filename = \"C:/projects/epfl/epfl17/python/pnsolver/results/studies/pointsource_stencil_fopn_p1_sg.mat\"\n",
    "data = util.load_pn_system(filename)\n",
    "image_p1 = util.extract_coefficient_field( data[\"x\"].T, data[\"resolution\"], data[\"numCoeffs\"], 0 )\n",
    "\n",
    "filename = \"C:/projects/epfl/epfl17/python/pnsolver/results/studies/pointsource_stencil_fopn_p2_sg.mat\"\n",
    "data = util.load_pn_system(filename)\n",
    "image_p2 = util.extract_coefficient_field( data[\"x\"].T, data[\"resolution\"], data[\"numCoeffs\"], 0 )\n",
    "\n",
    "filename = \"C:/projects/epfl/epfl17/python/pnsolver/results/studies/pointsource_stencil_fopn_p3_sg.mat\"\n",
    "data = util.load_pn_system(filename)\n",
    "image_p3 = util.extract_coefficient_field( data[\"x\"].T, data[\"resolution\"], data[\"numCoeffs\"], 0 )\n",
    "\n",
    "filename = \"C:/projects/epfl/epfl17/python/pnsolver/results/studies/pointsource_stencil_fopn_p4_sg.mat\"\n",
    "data = util.load_pn_system(filename)\n",
    "image_p4 = util.extract_coefficient_field( data[\"x\"].T, data[\"resolution\"], data[\"numCoeffs\"], 0 )\n",
    "\n",
    "filename = \"C:/projects/epfl/epfl17/python/pnsolver/results/studies/pointsource_stencil_fopn_p4_sg2.mat\"\n",
    "data = util.load_pn_system(filename)\n",
    "image_p4_2 = util.extract_coefficient_field( data[\"x\"].T, data[\"resolution\"], data[\"numCoeffs\"], 0 )\n",
    "\n",
    "size = 7.0\n",
    "res = data[\"resolution\"][0]\n",
    "domain = pnsolver.Domain( np.array([size, size, size]), np.array([res, res, res]), np.array([0.0, 0.0, 0.0]))\n",
    "center_voxel = np.array([int(res/2), int(res/2), int(res/2)])\n",
    "pointsource_center = domain.voxelToWorld( np.array([center_voxel[0]+0.5, center_voxel[1]+0.5, center_voxel[2]+0.5]) )\n"
   ]
  },
  {
   "cell_type": "code",
   "execution_count": null,
   "metadata": {
    "collapsed": false,
    "scrolled": false
   },
   "outputs": [],
   "source": [
    "def phi_normalized(phi, sigma_t):\n",
    "    return 4.0*np.pi*phi/(sigma_t*sigma_t)\n",
    "\n",
    "\n",
    "def cda_org( r, sigma_t, albedo ):\n",
    "    sigma_a = (1.0-albedo)*sigma_t\n",
    "    sigma_tr = np.sqrt(3.0*sigma_a*sigma_t)\n",
    "    return 3.0*sigma_t*np.exp(-sigma_tr*r)/(4.0*np.pi*r)\n",
    "\n",
    "solution_cda = pnsolver.VoxelGridField( image_cda.astype(complex), domain, np.array([0.5, 0.5, 0.5]) )\n",
    "#solution_p1 = pnsolver.VoxelGridField( image_p1.astype(complex), domain, np.array([0.5, 0.5, 0.5]) )\n",
    "#solution_p2 = pnsolver.VoxelGridField( image_p2.astype(complex), domain, np.array([0.5, 0.5, 0.5]) )\n",
    "#solution_p3 = pnsolver.VoxelGridField( image_p3.astype(complex), domain, np.array([0.5, 0.5, 0.5]) )\n",
    "#solution_p4 = pnsolver.VoxelGridField( image_p4.astype(complex), domain, np.array([0.5, 0.5, 0.5]) )\n",
    "#solution_p4_2 = pnsolver.VoxelGridField( image_p4_2.astype(complex), domain, np.array([0.5, 0.5, 0.5]) )\n",
    "\n",
    "#x_list = np.array([domain.voxelToWorld( np.array([i, center_voxel[1], center_voxel[2]]) )[0] for i in range(res)])\n",
    "r_list = np.linspace(1.0e-2, 3.0, 100)\n",
    "#fluece_cda = [ cda_org(r, sigma_t, albedo) for r in r_test ]\n",
    "#fluece_cda_numerical = [ np.real(solution_cda(pointsource_center+np.array([r, 0.0, 0.0]))) for r in r_list ]\n",
    "#fluece_p1_numerical = [ np.real(solution_p1(pointsource_center+np.array([r, 0.0, 0.0]))) for r in r_list ]\n",
    "#fluece_p2_numerical = [ np.real(solution_p2(pointsource_center+np.array([r, 0.0, 0.0]))) for r in r_list ]\n",
    "#fluece_p3_numerical = [ np.real(solution_p3(pointsource_center+np.array([r, 0.0, 0.0]))) for r in r_list ]\n",
    "#fluece_p4_numerical = [ np.real(solution_p4(pointsource_center+np.array([r, 0.0, 0.0]))) for r in r_list ]\n",
    "#fluece_p4_2_numerical = [ np.real(solution_p4_2(pointsource_center+np.array([r, 0.0, 0.0]))) for r in r_list ]\n",
    "\n",
    "fig = plt.figure(figsize=(8,8));\n",
    "ax = fig.add_subplot(111)\n",
    "plt.loglog(r_list, fluece_cda, label=\"CDA\")\n",
    "#plt.loglog(r_list, fluece_cda_numerical, label=\"CDA numerical\", marker=\".\", linestyle=\" \" )\n",
    "#plt.loglog(r_list, fluece_p1_numerical, label=\"P1\", marker=\" \", linestyle=\"-\" )\n",
    "#plt.loglog(r_list, fluece_p2_numerical, label=\"P2\", marker=\" \", linestyle=\"-\" )\n",
    "#plt.loglog(r_list, fluece_p3_numerical, label=\"P3\", marker=\" \", linestyle=\"-\" )\n",
    "#plt.loglog(r_list, fluece_p4_numerical, label=\"P4\", marker=\" \", linestyle=\"-\" )\n",
    "#plt.loglog(r_list, fluece_p4_2_numerical, label=\"P4_2\", marker=\" \", linestyle=\"-\" )\n",
    "plt.legend()\n",
    "plt.show()\n",
    "\n",
    "\n"
   ]
  },
  {
   "cell_type": "code",
   "execution_count": null,
   "metadata": {
    "collapsed": false
   },
   "outputs": [],
   "source": [
    "\n",
    "print(r_test)"
   ]
  },
  {
   "cell_type": "code",
   "execution_count": null,
   "metadata": {
    "collapsed": false
   },
   "outputs": [],
   "source": [
    "fig = plt.figure(figsize=(8,8));\n",
    "ax = fig.add_subplot(111)\n",
    "img_view = ax.imshow(image[:,:,10].T, cmap='jet', norm=LogNorm(vmin=np.min(image), vmax=np.max(image)), origin='lower')\n",
    "#img_view = ax.imshow(image, cmap='jet', vmin=np.min(image), vmax=np.max(image), origin='lower')\n",
    "\n",
    "divider = make_axes_locatable(ax)\n",
    "cax = divider.append_axes(\"right\", size=\"5%\", pad=0.05)\n",
    "plt.colorbar(img_view, cax=cax)\n",
    "\n",
    "plt.show()"
   ]
  },
  {
   "cell_type": "code",
   "execution_count": null,
   "metadata": {
    "collapsed": true
   },
   "outputs": [],
   "source": [
    "image = image_p1"
   ]
  },
  {
   "cell_type": "code",
   "execution_count": null,
   "metadata": {
    "collapsed": true
   },
   "outputs": [],
   "source": [
    "def make_plot():\n",
    "    global msg\n",
    "    figsize = plt.figaspect(1/2)\n",
    "    #fig, ax = plt.subplots(1, 2, figsize=figsize)\n",
    "    \n",
    "    fig = plt.figure(figsize=figsize);\n",
    "    ax = [None, None, None]\n",
    "    ax[0] = fig.add_subplot(121)\n",
    "    #ax[1] = fig.add_subplot(122)\n",
    "    ax[1] = fig.add_subplot(122, projection='polar')\n",
    "    #ax[2] = fig.add_subplot(133)\n",
    "\n",
    "    \n",
    "    # Plot 1 =============================================\n",
    "    # Draw an empty image\n",
    "    img_view = ax[0].imshow(np.zeros((1,1)), cmap='jet', origin='lower')\n",
    "    \n",
    "    # Add a nice color bar\n",
    "    from mpl_toolkits.axes_grid1 import make_axes_locatable\n",
    "    divider = make_axes_locatable(ax[0])\n",
    "    cax = divider.append_axes(\"right\", size=\"5%\", pad=0.05)\n",
    "    plt.colorbar(img_view, cax=cax)\n",
    "\n",
    "    # Plot 2 =============================================\n",
    "    # Add an empty plot of the SH coefficients ------\n",
    "    plot_view = ax[1].plot(np.zeros((1)))[0]\n",
    "    ax[1].set(adjustable=\"datalim\")\n",
    "    ax[1].set_rmax(1.0)\n",
    "    #plot_view = ax[1].imshow(np.zeros((1,1)), cmap='jet', origin='lower')\n",
    "    \n",
    "\n",
    "    result = { 'img_view' : img_view,\n",
    "               'img_ax' : ax[0],\n",
    "               'plot_view' : plot_view,\n",
    "               'plot_ax' : ax[1],\n",
    "               #'img_view2':img_view2,\n",
    "               #'img_ax2':ax[2],\n",
    "               'dataset_filename':None\n",
    "             }\n",
    "    \n",
    "    def on_click(event):\n",
    "        global msg\n",
    "        if event.inaxes is not ax[0] or 'on_click_handler' not in result:\n",
    "            return\n",
    "        result['on_click_handler'](np.array([event.ydata, event.xdata]))\n",
    "\n",
    "    fig.canvas.mpl_connect('button_press_event', on_click)\n",
    "    fig.tight_layout()\n",
    "\n",
    "    return result\n",
    "\n",
    "def plot_interact(plot):\n",
    "    def redraw(dataset_id, coeff_index, z_slice, display_absolute_value):\n",
    "        img_view = plot['img_view']\n",
    "        plot_view = plot['plot_view']\n",
    "        plot_ax = plot['plot_ax']\n",
    "        \n",
    "        #dataset_filename = \"C:/projects/epfl/epfl17/python/pnsolver/results/studies/checkerboard{}.mat\".format(dataset_id)\n",
    "        #if dataset_filename != plot['dataset_filename']:\n",
    "        #    plot['dataset_filename'] = dataset_filename\n",
    "        #    plot[\"data\"] = load_pn_solution(dataset_filename)\n",
    "        #plot[\"data\"] = data\n",
    "        #data = plot[\"data\"]\n",
    "        #domain = data[\"domain\"]\n",
    "        #pni = data[\"pni\"]\n",
    "        #L = data[\"L\"]\n",
    "                    \n",
    "        #filename = \"C:/projects/epfl/epfl17/python/pnsolver/results/studies/checkerboard_groundtruth.mat\"\n",
    "        #groundtruth_image = util.load_pn_system(filename)[\"x\"]\n",
    "        #groundtruth_image = np.clip(image, 1.0e-8, np.max(image))\n",
    "        #plot_view.set_norm(LogNorm(vmin=np.min(groundtruth_image), vmax=np.max(groundtruth_image)))\n",
    "        #plot_view.set_extent((domain.getBoundMin()[0], domain.getBoundMax()[0], domain.getBoundMin()[1], domain.getBoundMax()[1]))\n",
    "        #plot_view.set_data(groundtruth_image.T)\n",
    "\n",
    "            \n",
    "\n",
    "        \n",
    "        # update plot 1 =======================================\n",
    "        #u = util.extract_coefficient_field( data[\"x\"], data[\"resolution\"], data[\"numCoeffs\"], coeff_index )\n",
    "        res_z = 35\n",
    "        u = image[:,:,int(z_slice*res_z)]\n",
    "        \n",
    "        if display_absolute_value == True:\n",
    "            u = np.abs( u)\n",
    "            vmax = np.max(u)\n",
    "        else:\n",
    "            u = np.clip( u, 1.0e-8, np.max(u) )\n",
    "            vmax = np.max(u)\n",
    "            #vmax = 1.3\n",
    "        #u = np.abs(u)\n",
    "        #print( \"min={} max={}\".format(np.min(u), np.max(u)) )\n",
    "        \n",
    "        # Update the plot\n",
    "        img_view.set_data(u)\n",
    "        #img_view.set_clim(vmin=0, vmax=np.percentile(data_slice, 99))\n",
    "        #img_view.set_clim(vmin=np.min(u), vmax=np.max(u))\n",
    "        img_view.set_norm(LogNorm(vmin=np.min(u), vmax=vmax))\n",
    "        #img_view.set_extent((domain.getBoundMin()[0], domain.getBoundMax()[0], domain.getBoundMin()[1], domain.getBoundMax()[1]))\n",
    "        \n",
    "        # update plot 2 =======================================\n",
    "        def on_click_handler(pos):\n",
    "            pWS = np.array([pos[1], pos[0]])\n",
    "            (plot_x, plot_y) = render(L, pWS)\n",
    "            #plot_y = plot_y/np.max(plot_y)\n",
    "            #plot_view.set_data(plot_x, plot_y)\n",
    "        \n",
    "        plot['on_click_handler'] = on_click_handler\n",
    "\n",
    "    #slice_index_widget = widgets.IntSlider(\n",
    "    #    min=0,\n",
    "    #    max=127,\n",
    "    #    value=64,\n",
    "    #    description='Slice'\n",
    "    #)\n",
    "    \n",
    "    dataset_id_widget = widgets.Text(\n",
    "        value='_fopn_p1_sg',\n",
    "        placeholder='Type something',\n",
    "        description='String:',\n",
    "        disabled=False\n",
    "    )\n",
    "    \n",
    "    #rightside_index_widget = widgets.Dropdown(\n",
    "    #    options=[(\"L\", 0), (\"groundtruth\", 1)],\n",
    "    #    value=0,\n",
    "    #    description='right side'\n",
    "    #)\n",
    "   \n",
    "    coeff_index_widget = widgets.IntSlider(\n",
    "        min=0,\n",
    "        max=2,\n",
    "        value=0,\n",
    "        description='coefficient'\n",
    "    )\n",
    "\n",
    "    z_slice_widget = widgets.FloatSlider(\n",
    "        min=0.0,\n",
    "        max=1.0,\n",
    "        value=0,\n",
    "        description='z-slice'\n",
    "    )\n",
    "\n",
    "    display_absolute_value_widget = widgets.ToggleButton(\n",
    "    value=False,\n",
    "    description='absolute',\n",
    "    disabled=False,\n",
    "    button_style='', # 'success', 'info', 'warning', 'danger' or ''\n",
    "    tooltip='Description',\n",
    "    icon='check'\n",
    "    )\n",
    "    \n",
    "    \n",
    "    #interact(redraw, dataset_index=dataset_index_widget, slice_index=slice_index_widget, coeff_index=coeff_index_widget)\n",
    "    interact(redraw, dataset_id=dataset_id_widget, coeff_index=coeff_index_widget, z_slice=z_slice_widget, display_absolute_value = display_absolute_value_widget)"
   ]
  },
  {
   "cell_type": "code",
   "execution_count": null,
   "metadata": {
    "collapsed": false
   },
   "outputs": [],
   "source": [
    "plot = make_plot()"
   ]
  },
  {
   "cell_type": "code",
   "execution_count": null,
   "metadata": {
    "collapsed": false
   },
   "outputs": [],
   "source": [
    "plot_interact(plot)"
   ]
  },
  {
   "cell_type": "code",
   "execution_count": null,
   "metadata": {
    "collapsed": false
   },
   "outputs": [],
   "source": [
    "print(data)"
   ]
  },
  {
   "cell_type": "markdown",
   "metadata": {},
   "source": [
    "--------------------"
   ]
  },
  {
   "cell_type": "code",
   "execution_count": null,
   "metadata": {
    "collapsed": false,
    "scrolled": false
   },
   "outputs": [],
   "source": [
    "path = \"C:/projects/epfl/epfl17/python/pnsolver/results/studies\"\n",
    "filename = path+\"/checkerboard_problem.mat\"\n",
    "data = scipy.io.loadmat(filename)\n",
    "sigma_t = data[\"sigma_t\"]\n",
    "q = data[\"q\"]\n",
    "sigma_a = data[\"sigma_a\"]\n",
    "sigma_s = data[\"sigma_s\"]\n",
    "sigma_t_diff = data[\"sigma_t_diff\"]\n",
    "q_diff = data[\"q_diff\"]\n",
    "sigma_a_diff = data[\"sigma_a_diff\"]\n",
    "sigma_s_diff = data[\"sigma_s_diff\"]\n",
    "image = sigma_s_diff\n",
    "#image = q_diff\n",
    "print(np.max(image))\n",
    "fig = plt.figure(figsize=(8,8));\n",
    "ax = fig.add_subplot(111)\n",
    "img_view = ax.imshow(image[:,:], cmap='jet', vmin=np.min(image), vmax=np.max(image), origin='lower')\n",
    "\n",
    "divider = make_axes_locatable(ax)\n",
    "cax = divider.append_axes(\"right\", size=\"5%\", pad=0.05)\n",
    "plt.colorbar(img_view, cax=cax)\n",
    "\n",
    "plt.show()"
   ]
  },
  {
   "cell_type": "code",
   "execution_count": null,
   "metadata": {
    "collapsed": true
   },
   "outputs": [],
   "source": []
  }
 ],
 "metadata": {
  "kernelspec": {
   "display_name": "Python 3",
   "language": "python",
   "name": "python3"
  },
  "language_info": {
   "codemirror_mode": {
    "name": "ipython",
    "version": 3
   },
   "file_extension": ".py",
   "mimetype": "text/x-python",
   "name": "python",
   "nbconvert_exporter": "python",
   "pygments_lexer": "ipython3",
   "version": "3.6.0"
  },
  "widgets": {
   "state": {
    "76869d2d830f4663a247b351a74336ba": {
     "views": [
      {
       "cell_index": 28
      }
     ]
    }
   },
   "version": "1.2.0"
  }
 },
 "nbformat": 4,
 "nbformat_minor": 2
}
