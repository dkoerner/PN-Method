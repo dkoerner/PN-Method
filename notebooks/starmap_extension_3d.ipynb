{
 "cells": [
  {
   "cell_type": "markdown",
   "metadata": {},
   "source": [
    "<h1><center>Starmap 3D</center></h1>\n",
    "\n",
    "This notebook discusses the results from extending the starmap solver to 3D. Changing the code from 2d to 3d required the following steps:\n",
    "\n",
    "1. Do not drop the coefficients for which $l+m$ are odd from the solution vector and from the matrices $M_x$, $M_y$ and $S$. These matrices now will also model the dependencies on x- and y-derivatives of these new coefficients.\n",
    "2. Introduce the complex-valued matrix $M_z$ (and its real variable pendant $SM_zS^{-1}$) by considering the $\\partial_z$ term in the derivation of the SH moment equations. This new matrix defines the dependencies of moment coefficients on z-derivatives from other coefficients.\n",
    "3. Introduce new staggered grid locations\n",
    "4. The zero moments for $\\sigma_a$ and $\\sigma_s$ now need to be computed for the new grid locations as well.\n",
    "5. During time stepping, we now need to compute the z-derivatives of all solution grids (which live at different staggered grid locations) and also the x- and y- derivatives of the grids at the newly introduced staggered grid location.\n",
    "6. We need to substract $M_z\\partial_z\\vec{u}_k$ when computing $\\vec{u}_{k+1}$.\n",
    "\n",
    "Instead of four, the 3d version has eight staggered grids (the triplets are the grid coordinates):\n",
    "\n",
    "<center><img src=\"starmap_extensions_3d/staggered_grids_3d.jpg\" width=\"400\" style=\"display:inline;margin:1px\"></center>\n",
    "\n",
    "## Lattice simulation\n",
    "\n",
    "We built a 3d-version of the lattice test, which was provided by the original starmap code. In particular our absorption coefficient field looks like this:\n",
    "<center><img src=\"starmap_extensions_3d/lattice_sigma_a.jpg\" width=\"400\" style=\"display:inline;margin:1px\"></center>\n",
    "\n",
    "The scattering coefficient field is $\\sigma_s=1.0$ within the whole domain, except where $\\sigma_a>0$. There $\\sigma_s = 0$. Similar to the 2d case, the center block emits light isotropically. The resolution of the discretization was $100\\times100\\times100$. \n",
    "\n",
    "The simulation was run for 500 timesteps, with the same time increment as was used in the 2d version ($\\Delta t = 0.016$). A single timestep took about 3s. The code performs rather poorly and has not been optimized in any way yet.\n",
    "\n",
    "Here we see a 2d-slice through the domain, visualizing the first coefficient of the solution vector at timestep 500 (fluence):\n",
    "<center><img src=\"starmap_extensions_3d/lattice.500.jpg\" width=\"400\" style=\"display:inline;margin:1px\"></center>\n",
    "\n",
    "\n",
    "Here we render the isosurface of the fluence field and compare it with the results shown in the video from Benjamin Seibold's talk on StarMAP:\n",
    "\n",
    "<center><img src=\"starmap_extensions_3d/lattice_iso.500.jpg\" width=\"400\" style=\"display:inline;margin:1px\"><img src=\"starmap_extensions_3d/lattice_iso_starmap.jpg\" width=\"400\" style=\"display:inline;margin:1px\"></center>\n",
    "\n",
    "Since our simulation setup is probably not identical to theirs and also our visualization is different, differences in shape are to be expected.\n"
   ]
  },
  {
   "cell_type": "code",
   "execution_count": null,
   "metadata": {
    "collapsed": true
   },
   "outputs": [],
   "source": []
  }
 ],
 "metadata": {
  "kernelspec": {
   "display_name": "Python 3",
   "language": "python",
   "name": "python3"
  },
  "language_info": {
   "codemirror_mode": {
    "name": "ipython",
    "version": 3
   },
   "file_extension": ".py",
   "mimetype": "text/x-python",
   "name": "python",
   "nbconvert_exporter": "python",
   "pygments_lexer": "ipython3",
   "version": "3.6.0"
  }
 },
 "nbformat": 4,
 "nbformat_minor": 1
}
