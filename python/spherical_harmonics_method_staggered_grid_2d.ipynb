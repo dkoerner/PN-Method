{
 "cells": [
  {
   "cell_type": "markdown",
   "metadata": {},
   "source": [
    "Starting from the general spherical harmonics moment equations, we will discretize the equations onto staggered grids."
   ]
  },
  {
   "cell_type": "code",
   "execution_count": 12,
   "metadata": {
    "collapsed": true
   },
   "outputs": [],
   "source": [
    "%matplotlib inline\n",
    "%config InlineBackend.figure_format='retina'\n",
    "import numpy as np\n",
    "import matplotlib.pyplot as plt\n",
    "import scipy.io\n",
    "import os\n",
    "#from util import *"
   ]
  },
  {
   "cell_type": "code",
   "execution_count": 37,
   "metadata": {
    "collapsed": true
   },
   "outputs": [],
   "source": [
    "def a_lm( l, m ):\n",
    "    return np.sqrt((l-m+1)*(l+m+1)/((2*l+3)*(2*l+1)))\n",
    "def b_lm( l, m ):\n",
    "    return np.sqrt((l-m)*(l+m)/((2*l+1)*(2*l-1)))\n",
    "def c_lm( l, m ):\n",
    "    return np.sqrt((l+m+1)*(l+m+2)/((2*l+3)*(2*l+1)))\n",
    "def d_lm( l, m ):\n",
    "    return np.sqrt((l-m)*(l-m-1)/((2*l+1)*(2*l-1)))\n",
    "def e_lm( l, m ):\n",
    "    return np.sqrt((l-m+1)*(l-m+2)/((2*l+3)*(2*l+1)))\n",
    "def f_lm( l, m ):\n",
    "    return np.sqrt((l+m)*(l+m-1)/((2*l+1)*(2*l-1)))\n",
    "\n",
    "# computes the real part coefficients for a row in the S matrix\n",
    "def R_lm( l, m, lm_to_index ):\n",
    "    numCoeffs = len(index_to_lm)\n",
    "    if m == 0:\n",
    "        #return L_lm[lm_to_index[(l,m)]]\n",
    "        coeffs = np.zeros(numCoeffs, dtype=complex)\n",
    "        coeffs[lm_to_index[(l,m)]] = 1.0\n",
    "        return coeffs\n",
    "    a = np.power(-1.0, m)/np.sqrt(2)\n",
    "    b = np.power(-1.0, 2.0*m)/np.sqrt(2)\n",
    "    #result = a*L_lm[lm_to_index[(l,m)]] + b*L_lm[lm_to_index[(l,-m)]]\n",
    "    #print(\"{} test\".format(result))\n",
    "    coeffs = np.zeros(numCoeffs, dtype=complex)\n",
    "    coeffs[lm_to_index[(l,m)]] = a\n",
    "    if (l,-m) in lm_to_index:\n",
    "        coeffs[lm_to_index[(l,-m)]] = b\n",
    "    return coeffs\n",
    "\n",
    "    \n",
    "# computes the imaginary part coefficients for a row in the S matrix\n",
    "def I_lm( l, m, lm_to_index ):\n",
    "    numCoeffs = len(index_to_lm)\n",
    "    a = np.power(-1.0, m)/np.sqrt(2)*1j\n",
    "    b = -np.power(-1.0, 2*m)/np.sqrt(2)*1j\n",
    "    #result = a*L_lm[lm_to_index[(l,m)]] + b*L_lm[lm_to_index[(l,-m)]]\n",
    "    coeffs = np.zeros(numCoeffs, dtype=complex)\n",
    "    coeffs[lm_to_index[(l,m)]] = a\n",
    "    if (l,-m) in lm_to_index:\n",
    "        coeffs[lm_to_index[(l,-m)]] = b\n",
    "    return coeffs"
   ]
  },
  {
   "cell_type": "markdown",
   "metadata": {},
   "source": [
    "We start by building the solution vector. We are solving the general 3d moment equations, but for a problem where the solution is independent of $z$. This causes all moments for which $(l+m)$ is odd to vanish.\n",
    "\n"
   ]
  },
  {
   "cell_type": "code",
   "execution_count": 86,
   "metadata": {
    "collapsed": false
   },
   "outputs": [
    {
     "name": "stdout",
     "output_type": "stream",
     "text": [
      "numCoeffs=10\n",
      "[[ 0.          0.57735027  0.          0.          0.          0.          0.\n",
      "   0.          0.          0.        ]\n",
      " [ 0.57735027  0.          0.          0.4472136   0.         -0.25819889\n",
      "   0.          0.          0.          0.        ]\n",
      " [ 0.          0.          0.          0.          0.4472136   0.          0.\n",
      "   0.          0.          0.        ]\n",
      " [ 0.          0.4472136   0.          0.          0.          0.\n",
      "   0.46291005  0.         -0.11952286  0.        ]\n",
      " [ 0.          0.          0.4472136   0.          0.          0.          0.\n",
      "   0.46291005  0.         -0.11952286]\n",
      " [ 0.         -0.25819889  0.          0.          0.          0.          0.\n",
      "   0.          0.41403934  0.        ]\n",
      " [ 0.          0.          0.          0.46291005  0.          0.          0.\n",
      "   0.          0.          0.        ]\n",
      " [ 0.          0.          0.          0.          0.46291005  0.          0.\n",
      "   0.          0.          0.        ]\n",
      " [ 0.          0.          0.         -0.11952286  0.          0.41403934\n",
      "   0.          0.          0.          0.        ]\n",
      " [ 0.          0.          0.          0.         -0.11952286  0.          0.\n",
      "   0.          0.          0.        ]]\n"
     ]
    }
   ],
   "source": [
    "N = 3 # truncation order\n",
    "\n",
    "\n",
    "\n",
    "# this array holds the l,m indices associated with each equation\n",
    "# NB: we dont use l(l+1)+m because in 2d the sequence changes (this is because we skipp odd (l+m) entries)\n",
    "index_to_lm = []\n",
    "lm_to_index = {} # this dict will map l,m indices to the equation index\n",
    "for l in range(0, N+1):\n",
    "    for m in range(-l, l+1):\n",
    "        # in 2d, we only need to solve for moments where l+m is even\n",
    "        if (l+m) % 2 == 0:\n",
    "            index_to_lm.append( (l, m) )\n",
    "            lm_to_index[(l,m)] = len(index_to_lm)-1\n",
    "            \n",
    "            \n",
    "#print(index_to_lm)\n",
    "#print(lm_to_index)\n",
    "numCoeffs = len(index_to_lm)\n",
    "print(\"numCoeffs={}\".format(numCoeffs))\n",
    "\n",
    "# now given the indices, we can assemble the Mx, My, C and S matrices\n",
    "Mx_complex = np.zeros((numCoeffs, numCoeffs),dtype=complex)\n",
    "My_complex = np.zeros((numCoeffs, numCoeffs),dtype=complex)\n",
    "C = np.zeros((numCoeffs, numCoeffs))\n",
    "S = np.zeros((numCoeffs, numCoeffs),dtype=complex)\n",
    "\n",
    "\n",
    "\n",
    "count = 0\n",
    "# iterate all moment equations\n",
    "#for (l,m) in lm_to_index:\n",
    "for i in range(len(index_to_lm)):\n",
    "    l = index_to_lm[i][0]\n",
    "    m = index_to_lm[i][1]\n",
    "    #print(\"i={} l={} m={}\".format(i, l, m))\n",
    "    #continue;\n",
    "    #i = lm_to_index[(l,m)]\n",
    "    #print(\"l={} m={}\".format(l, m))    \n",
    "    # build Mx and My matrix ---\n",
    "    if (l-1,m-1) in lm_to_index:\n",
    "        #pass\n",
    "        Mx_complex[i, lm_to_index[(l-1,m-1)]] = -0.5*c_lm(l-1, m-1)\n",
    "        #My_complex[i, lm_to_index[(l-1,m-1)]] = 0.5*1j*c_lm(l-1, m-1)\n",
    "    if (l+1,m-1) in lm_to_index:\n",
    "        #pass\n",
    "        Mx_complex[i, lm_to_index[(l+1,m-1)]] = 0.5*d_lm(l+1, m-1)   \n",
    "        #My_complex[i, lm_to_index[(l+1,m-1)]] = -0.5*1j*d_lm(l+1, m-1)   \n",
    "    if (l-1,m+1) in lm_to_index:\n",
    "        #pass\n",
    "        Mx_complex[i, lm_to_index[(l-1,m+1)]] = 0.5*e_lm(l-1, m+1)\n",
    "        #My_complex[i, lm_to_index[(l-1,m+1)]] = 0.5*1j*e_lm(l-1, m+1)\n",
    "    if (l+1,m+1) in lm_to_index:\n",
    "        #pass\n",
    "        Mx_complex[i, lm_to_index[(l+1,m+1)]] = -0.5*f_lm(l+1, m+1)\n",
    "        #My_complex[i, lm_to_index[(l+1,m+1)]] = -0.5*1j*f_lm(l+1, m+1)\n",
    "\n",
    "\n",
    "for l in range(0, N+1):\n",
    "    for m in range(l+1, -1, -1):\n",
    "        if (l+m) % 2 != 0:\n",
    "            continue\n",
    "        # build S matrix, which converts solution from complex to real values ---\n",
    "        # real part\n",
    "        S[count] = R_lm(l, m, lm_to_index)\n",
    "        count+=1\n",
    "\n",
    "        if m > 0:\n",
    "            # imaginary part\n",
    "            S[count] = I_lm(l, m, lm_to_index)\n",
    "            count+=1\n",
    "    \n",
    "    \n",
    "S_inv = np.linalg.inv(S)\n",
    "print( np.real(S.dot(Mx_complex.dot(S_inv))) )\n",
    "\n",
    "\n",
    "\n"
   ]
  },
  {
   "cell_type": "code",
   "execution_count": null,
   "metadata": {
    "collapsed": true
   },
   "outputs": [],
   "source": []
  }
 ],
 "metadata": {
  "anaconda-cloud": {},
  "kernelspec": {
   "display_name": "Python [conda root]",
   "language": "python",
   "name": "conda-root-py"
  },
  "language_info": {
   "codemirror_mode": {
    "name": "ipython",
    "version": 3
   },
   "file_extension": ".py",
   "mimetype": "text/x-python",
   "name": "python",
   "nbconvert_exporter": "python",
   "pygments_lexer": "ipython3",
   "version": "3.5.2"
  }
 },
 "nbformat": 4,
 "nbformat_minor": 1
}
