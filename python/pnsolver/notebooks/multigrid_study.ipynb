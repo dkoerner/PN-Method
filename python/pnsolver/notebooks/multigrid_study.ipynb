{
 "cells": [
  {
   "cell_type": "code",
   "execution_count": 1,
   "metadata": {
    "collapsed": true
   },
   "outputs": [],
   "source": [
    "import os,sys,inspect\n",
    "\n",
    "import pnsolver\n",
    "\n",
    "currentdir = os.path.dirname(os.path.abspath(inspect.getfile(inspect.currentframe())))\n",
    "parentdir = os.path.dirname(currentdir)\n",
    "sys.path.insert(0,parentdir) \n",
    "\n",
    "import util\n",
    "import stencil\n",
    "import numpy as np\n",
    "import matplotlib.pyplot as plt\n",
    "from matplotlib.colors import LogNorm\n",
    "from mpl_toolkits.axes_grid1 import make_axes_locatable\n",
    "\n",
    "import ipywidgets as widgets\n",
    "from ipywidgets.widgets.interaction import interact\n",
    "\n",
    "import scipy.io\n"
   ]
  },
  {
   "cell_type": "markdown",
   "metadata": {},
   "source": [
    "## Multigrid: Standard Poisson Problem vs. PN-Problem"
   ]
  },
  {
   "cell_type": "code",
   "execution_count": 6,
   "metadata": {
    "collapsed": false
   },
   "outputs": [
    {
     "ename": "KeyError",
     "evalue": "'convergence_mg'",
     "output_type": "error",
     "traceback": [
      "\u001b[0;31m---------------------------------------------------------------------------\u001b[0m",
      "\u001b[0;31mKeyError\u001b[0m                                  Traceback (most recent call last)",
      "\u001b[0;32m<ipython-input-6-d9cfbb7abb3a>\u001b[0m in \u001b[0;36m<module>\u001b[0;34m()\u001b[0m\n\u001b[1;32m     29\u001b[0m \u001b[0mplt\u001b[0m\u001b[1;33m.\u001b[0m\u001b[0mtitle\u001b[0m\u001b[1;33m(\u001b[0m\u001b[1;34m\"Standard Poisson Problem\"\u001b[0m\u001b[1;33m)\u001b[0m\u001b[1;33m\u001b[0m\u001b[0m\n\u001b[1;32m     30\u001b[0m \u001b[0mfilename\u001b[0m \u001b[1;33m=\u001b[0m \u001b[1;34m\"c:/projects/epfl/temp/multigrid/multigrid-master/poisson_test.mat\"\u001b[0m\u001b[1;33m\u001b[0m\u001b[0m\n\u001b[0;32m---> 31\u001b[0;31m \u001b[0mplot_timings\u001b[0m\u001b[1;33m(\u001b[0m\u001b[0mfilename\u001b[0m\u001b[1;33m)\u001b[0m\u001b[1;33m\u001b[0m\u001b[0m\n\u001b[0m\u001b[1;32m     32\u001b[0m \u001b[0mplt\u001b[0m\u001b[1;33m.\u001b[0m\u001b[0mlegend\u001b[0m\u001b[1;33m(\u001b[0m\u001b[0mloc\u001b[0m\u001b[1;33m=\u001b[0m\u001b[1;34m'best'\u001b[0m\u001b[1;33m)\u001b[0m\u001b[1;33m\u001b[0m\u001b[0m\n\u001b[1;32m     33\u001b[0m \u001b[0mplt\u001b[0m\u001b[1;33m.\u001b[0m\u001b[0mxlabel\u001b[0m\u001b[1;33m(\u001b[0m\u001b[1;34m'time in s'\u001b[0m\u001b[1;33m)\u001b[0m\u001b[1;33m\u001b[0m\u001b[0m\n",
      "\u001b[0;32m<ipython-input-6-d9cfbb7abb3a>\u001b[0m in \u001b[0;36mplot_timings\u001b[0;34m(filename)\u001b[0m\n\u001b[1;32m      1\u001b[0m \u001b[1;32mdef\u001b[0m \u001b[0mplot_timings\u001b[0m\u001b[1;33m(\u001b[0m \u001b[0mfilename\u001b[0m \u001b[1;33m)\u001b[0m\u001b[1;33m:\u001b[0m\u001b[1;33m\u001b[0m\u001b[0m\n\u001b[1;32m      2\u001b[0m     \u001b[0mdata\u001b[0m \u001b[1;33m=\u001b[0m \u001b[0mscipy\u001b[0m\u001b[1;33m.\u001b[0m\u001b[0mio\u001b[0m\u001b[1;33m.\u001b[0m\u001b[0mloadmat\u001b[0m\u001b[1;33m(\u001b[0m\u001b[0mfilename\u001b[0m\u001b[1;33m)\u001b[0m\u001b[1;33m\u001b[0m\u001b[0m\n\u001b[0;32m----> 3\u001b[0;31m     \u001b[0mconvergence_mg\u001b[0m \u001b[1;33m=\u001b[0m \u001b[0mdata\u001b[0m\u001b[1;33m[\u001b[0m\u001b[1;34m\"convergence_mg\"\u001b[0m\u001b[1;33m]\u001b[0m\u001b[1;33m[\u001b[0m\u001b[1;36m0\u001b[0m\u001b[1;33m]\u001b[0m\u001b[1;33m\u001b[0m\u001b[0m\n\u001b[0m\u001b[1;32m      4\u001b[0m     \u001b[0mconvergence_time_mg\u001b[0m \u001b[1;33m=\u001b[0m \u001b[0mdata\u001b[0m\u001b[1;33m[\u001b[0m\u001b[1;34m\"timestamps_mg\"\u001b[0m\u001b[1;33m]\u001b[0m\u001b[1;33m[\u001b[0m\u001b[1;36m0\u001b[0m\u001b[1;33m]\u001b[0m\u001b[1;33m\u001b[0m\u001b[0m\n\u001b[1;32m      5\u001b[0m     \u001b[0mconvergence_gs\u001b[0m \u001b[1;33m=\u001b[0m \u001b[0mdata\u001b[0m\u001b[1;33m[\u001b[0m\u001b[1;34m\"convergence_gs\"\u001b[0m\u001b[1;33m]\u001b[0m\u001b[1;33m[\u001b[0m\u001b[1;36m0\u001b[0m\u001b[1;33m]\u001b[0m\u001b[1;33m\u001b[0m\u001b[0m\n",
      "\u001b[0;31mKeyError\u001b[0m: 'convergence_mg'"
     ]
    }
   ],
   "source": [
    "def plot_timings( filename ):\n",
    "    data = scipy.io.loadmat(filename)\n",
    "    convergence_mg = data[\"convergence_mg\"][0]\n",
    "    convergence_time_mg = data[\"timestamps_mg\"][0]\n",
    "    convergence_gs = data[\"convergence_gs\"][0]\n",
    "    convergence_time_gs = data[\"timestamps_gs\"][0]\n",
    "    convergence_cg = data[\"convergence_cg\"][0]\n",
    "    convergence_time_cg = data[\"timestamps_cg\"][0]\n",
    "    plt.semilogy( convergence_time_mg, convergence_mg, label=\"Multigrid\" )\n",
    "    plt.semilogy( convergence_time_gs, convergence_gs, label=\"Gauss-Seidel\" )\n",
    "    plt.semilogy( convergence_time_cg, convergence_cg, label=\"Conjugate-Gradient\" )\n",
    "def plot_timings2( filename ):\n",
    "    data = scipy.io.loadmat(filename)\n",
    "    convergence_mg = data[\"convergence_mg\"][0]\n",
    "    convergence_time_mg = data[\"timestamps_mg\"][0]\n",
    "    #convergence_mg2 = data[\"convergence_mg2\"][0]\n",
    "    #convergence_time_mg2 = data[\"timestamps_mg2\"][0]\n",
    "    convergence_gs = data[\"convergence_gs\"][0]\n",
    "    convergence_time_gs = data[\"timestamps_gs\"][0]\n",
    "    convergence_cg = data[\"convergence_cg\"][0]\n",
    "    convergence_time_cg = data[\"timestamps_cg\"][0]\n",
    "    plt.semilogy( convergence_time_mg, convergence_mg, label=\"Multigrid\" )\n",
    "    #plt.semilogy( convergence_time_mg2, convergence_mg2, label=\"Multigrid2\" )\n",
    "    plt.semilogy( convergence_time_gs, convergence_gs, label=\"Gauss-Seidel\" )\n",
    "    plt.semilogy( convergence_time_cg, convergence_cg, label=\"Conjugate-Gradient\" )\n",
    "    \n",
    "fig = plt.figure(figsize=(15,7));\n",
    "ax = fig.add_subplot(121)\n",
    "plt.title(\"Standard Poisson Problem\")\n",
    "filename = \"c:/projects/epfl/temp/multigrid/multigrid-master/poisson_test.mat\"\n",
    "plot_timings(filename)\n",
    "plt.legend(loc='best')\n",
    "plt.xlabel('time in s')\n",
    "plt.ylabel('RMSE')\n",
    "\n",
    "ax = fig.add_subplot(122)\n",
    "plt.title(\"PN-Problem (checkerboard)\")\n",
    "filename = \"c:/projects/epfl/temp/multigrid/multigrid-master/checkerboard_test.mat\"\n",
    "plot_timings2(filename)\n",
    "plt.legend(loc='best')\n",
    "plt.xlabel('time in s')\n",
    "plt.ylabel('RMSE')\n",
    "\n",
    "plt.show()"
   ]
  },
  {
   "cell_type": "markdown",
   "metadata": {
    "collapsed": true
   },
   "source": [
    "Both problems use the same solver code. The only thing which is changed per probem, are the matrices A and the restriction- and interpolation-matrices on each level.\n",
    "\n",
    "The timings are different, because the standard problem is solved on a much larger grid, which also explains why Gauss-Seidel is just a straigh line there. However, even for much lower resolution, the multigrid solve will always be faster for the standard problem.\n",
    "\n",
    "The correctness of the Multigrid solver is validated by showing, that its results matches the result from the Conjugate-gradient solver:"
   ]
  },
  {
   "cell_type": "code",
   "execution_count": null,
   "metadata": {
    "collapsed": false,
    "scrolled": false
   },
   "outputs": [],
   "source": [
    "filename = \"c:/projects/epfl/temp/multigrid/multigrid-master/checkerboard_test.mat\"\n",
    "data = scipy.io.loadmat(filename)\n",
    "image_mg = util.extract_coefficient_field( data[\"x_mg\"], data[\"resolution\"][0], data[\"numCoeffs\"][0][0], 0 )\n",
    "image_mg = np.clip(image_mg, 1.0e-8, np.max(image_mg))\n",
    "image_cg = util.extract_coefficient_field( data[\"x_cg\"], data[\"resolution\"][0], data[\"numCoeffs\"][0][0], 0 )\n",
    "image_cg = np.clip(image_cg, 1.0e-8, np.max(image_cg))\n",
    "\n",
    "fig = plt.figure(figsize=(15,15));\n",
    "ax = fig.add_subplot(121)\n",
    "plt.title(\"Multigrid result\")\n",
    "img_view = ax.imshow(image_mg[:,:,0], cmap='jet', norm=LogNorm(vmin=np.min(image), vmax=np.max(image)), origin='lower')\n",
    "divider = make_axes_locatable(ax)\n",
    "cax = divider.append_axes(\"right\", size=\"5%\", pad=0.05)\n",
    "plt.colorbar(img_view, cax=cax)\n",
    "\n",
    "ax = fig.add_subplot(122)\n",
    "plt.title(\"Conjugate-Gradient result\")\n",
    "img_view = ax.imshow(image_cg[:,:,0], cmap='jet', norm=LogNorm(vmin=np.min(image), vmax=np.max(image)), origin='lower')\n",
    "divider = make_axes_locatable(ax)\n",
    "cax = divider.append_axes(\"right\", size=\"5%\", pad=0.05)\n",
    "plt.colorbar(img_view, cax=cax)\n",
    "\n",
    "plt.show()"
   ]
  },
  {
   "cell_type": "markdown",
   "metadata": {},
   "source": [
    "To make sure, that up- and downsampling works properly, we show the effect of applying up and downsampling matrices to the solution:"
   ]
  },
  {
   "cell_type": "code",
   "execution_count": null,
   "metadata": {
    "collapsed": false
   },
   "outputs": [],
   "source": [
    "filename = \"c:/projects/epfl/temp/multigrid/multigrid-master/checkerboard_test.mat\"\n",
    "numCoeff = data[\"numCoeffs\"][0][0]\n",
    "for coeff in range(numCoeff):\n",
    "    data = scipy.io.loadmat(filename)\n",
    "    image_mg = util.extract_coefficient_field( data[\"debug_x\"], data[\"resolution\"][0], numCoeffs, coeff )\n",
    "    image_mg = np.clip(image_mg, 1.0e-8, np.max(image_mg))\n",
    "    image_cg = util.extract_coefficient_field( data[\"debug_x_upsampled_downsampled\"], data[\"resolution\"][0], numCoeffs, coeff )\n",
    "    image_cg = np.clip(image_cg, 1.0e-8, np.max(image_cg))\n",
    "\n",
    "    fig = plt.figure(figsize=(15,15));\n",
    "    ax = fig.add_subplot(121)\n",
    "    plt.title(\"Original solution\")\n",
    "    img_view = ax.imshow(image_mg[:,:,0], cmap='jet', norm=LogNorm(vmin=np.min(image), vmax=np.max(image)), origin='lower')\n",
    "    divider = make_axes_locatable(ax)\n",
    "    cax = divider.append_axes(\"right\", size=\"5%\", pad=0.05)\n",
    "    plt.colorbar(img_view, cax=cax)\n",
    "\n",
    "    ax = fig.add_subplot(122)\n",
    "    plt.title(\"Original solution after downsampling, followed by upsampling\")\n",
    "    img_view = ax.imshow(image_cg[:,:,0], cmap='jet', norm=LogNorm(vmin=np.min(image), vmax=np.max(image)), origin='lower')\n",
    "    divider = make_axes_locatable(ax)\n",
    "    cax = divider.append_axes(\"right\", size=\"5%\", pad=0.05)\n",
    "    plt.colorbar(img_view, cax=cax)\n",
    "\n",
    "    plt.show()"
   ]
  },
  {
   "cell_type": "markdown",
   "metadata": {},
   "source": [
    "-----------------------------\n",
    "\n",
    "### Homogeneous solution\n",
    "\n",
    "Does strong heterogenity cause poor multigrid performance? No.\n"
   ]
  },
  {
   "cell_type": "code",
   "execution_count": null,
   "metadata": {
    "collapsed": false
   },
   "outputs": [],
   "source": [
    "filename = \"c:/projects/epfl/temp/multigrid/multigrid-master/homogeneous_test.mat\"\n",
    "data = scipy.io.loadmat(filename)\n",
    "coeff = 0\n",
    "numCoeffs = data[\"numCoeffs\"][0][0]\n",
    "\n",
    "image = util.extract_coefficient_field( data[\"x\"], data[\"resolution\"][0], numCoeffs, coeff )\n",
    "image = np.clip(image, 1.0e-8, np.max(image))\n",
    "\n",
    "\n",
    "fig = plt.figure(figsize=(8,8));\n",
    "ax = fig.add_subplot(111)\n",
    "#plt.title(\"Solution of LSPN0, which just has a single cofficient\")\n",
    "img_view = ax.imshow(image[:,:,0], cmap='jet', norm=LogNorm(vmin=np.min(image), vmax=np.max(image)), origin='lower')\n",
    "divider = make_axes_locatable(ax)\n",
    "cax = divider.append_axes(\"right\", size=\"5%\", pad=0.05)\n",
    "plt.colorbar(img_view, cax=cax)\n",
    "\n",
    "plt.show()\n",
    "\n",
    "fig = plt.figure(figsize=(8,8));\n",
    "ax = fig.add_subplot(111)\n",
    "plt.title(\"PN-Problem\")\n",
    "plot_timings2(filename)\n",
    "plt.legend(loc='best')\n",
    "plt.xlabel('time in s')\n",
    "plt.ylabel('RMSE')\n",
    "plt.show()\n"
   ]
  },
  {
   "cell_type": "markdown",
   "metadata": {},
   "source": [
    "------------------------------------\n",
    "\n",
    "### More iterations in lower resolution grids.\n",
    "\n",
    "With the next test we increase the number of smoothing steps with each level. The finest level will do one smoothing step and level $n$ will do $2^n$ smoothing steps per multigrid iteration."
   ]
  },
  {
   "cell_type": "code",
   "execution_count": null,
   "metadata": {
    "collapsed": true
   },
   "outputs": [],
   "source": [
    "def plot_timings3( filename, special = \"Multigrid2\" ):\n",
    "    data = scipy.io.loadmat(filename)\n",
    "    if \"convergence_mg\" in data:\n",
    "        convergence_mg = data[\"convergence_mg\"][0]\n",
    "        convergence_time_mg = data[\"timestamps_mg\"][0]\n",
    "        plt.semilogy( convergence_time_mg, convergence_mg, label=\"Multigrid\" )\n",
    "    if \"convergence_mg2\" in data:\n",
    "        convergence_mg2 = data[\"convergence_mg2\"][0]\n",
    "        convergence_time_mg2 = data[\"timestamps_mg2\"][0]\n",
    "        plt.semilogy( convergence_time_mg2, convergence_mg2, label=special )\n",
    "    if \"convergence_gs\" in data:\n",
    "        convergence_gs = data[\"convergence_gs\"][0]\n",
    "        convergence_time_gs = data[\"timestamps_gs\"][0]\n",
    "        plt.semilogy( convergence_time_gs, convergence_gs, label=\"Gauss-Seidel\" )\n",
    "    if \"convergence_cg\" in data:\n",
    "        convergence_cg = data[\"convergence_cg\"][0]\n",
    "        convergence_time_cg = data[\"timestamps_cg\"][0]\n",
    "        plt.semilogy( convergence_time_cg, convergence_cg, label=\"Conjugate-Gradient\" )\n",
    "def plot_iterations( filename, special = \"Multigrid2\" ):\n",
    "    data = scipy.io.loadmat(filename)\n",
    "    if \"convergence_mg\" in data:\n",
    "        convergence_mg = data[\"convergence_mg\"][0]\n",
    "        plt.semilogy( convergence_mg, label=\"Multigrid\" )\n",
    "    if \"convergence_mg2\" in data:\n",
    "        convergence_mg2 = data[\"convergence_mg2\"][0]\n",
    "        plt.semilogy( convergence_mg2, label=special )\n",
    "    if \"convergence_gs\" in data:\n",
    "        convergence_gs = data[\"convergence_gs\"][0]\n",
    "        plt.semilogy( convergence_gs, label=\"Gauss-Seidel\" )\n",
    "    if \"convergence_cg\" in data:\n",
    "        convergence_cg = data[\"convergence_cg\"][0]\n",
    "        plt.semilogy( convergence_cg, label=\"Conjugate-Gradient\" )"
   ]
  },
  {
   "cell_type": "code",
   "execution_count": null,
   "metadata": {
    "collapsed": false
   },
   "outputs": [],
   "source": [
    "filename = \"c:/projects/epfl/temp/multigrid/multigrid-master/checkerboard_test.mat\"\n",
    "data = scipy.io.loadmat(filename)\n",
    "coeff = 0\n",
    "numCoeffs = data[\"numCoeffs\"][0][0]\n",
    "\n",
    "image = util.extract_coefficient_field( data[\"x\"], data[\"resolution\"][0], numCoeffs, coeff )\n",
    "image = np.clip(image, 1.0e-8, np.max(image))\n",
    "\n",
    "\n",
    "fig = plt.figure(figsize=(8,8));\n",
    "ax = fig.add_subplot(111)\n",
    "#plt.title(\"Solution of LSPN0, which just has a single cofficient\")\n",
    "img_view = ax.imshow(image[:,:,0], cmap='jet', norm=LogNorm(vmin=np.min(image), vmax=np.max(image)), origin='lower')\n",
    "divider = make_axes_locatable(ax)\n",
    "cax = divider.append_axes(\"right\", size=\"5%\", pad=0.05)\n",
    "plt.colorbar(img_view, cax=cax)\n",
    "\n",
    "plt.show()\n",
    "\n",
    "fig = plt.figure(figsize=(8,8));\n",
    "ax = fig.add_subplot(111)\n",
    "plt.title(\"PN-Problem\")\n",
    "plot_timings3(filename)\n",
    "plt.legend(loc='best')\n",
    "plt.xlim(0, .4)\n",
    "plt.xlabel('time in s')\n",
    "plt.ylabel('RMSE')\n",
    "plt.show()\n"
   ]
  },
  {
   "cell_type": "markdown",
   "metadata": {},
   "source": [
    "------------------------------------\n",
    "\n",
    "### Test\n",
    "\n",
    "For the following test, we solve the coarse problem (level 1) up to final precision BEFORE starting the clock and use the result as intial guess of the CG solve for the finer level (using upsampling). It is remarkable, that the speedup is so little. Using the upsampled result from a coarse solve as initial guess does not improve performance of the CG solve significantly."
   ]
  },
  {
   "cell_type": "code",
   "execution_count": null,
   "metadata": {
    "collapsed": false
   },
   "outputs": [],
   "source": [
    "fig = plt.figure(figsize=(8,8));\n",
    "ax = fig.add_subplot(111)\n",
    "plt.title(\"PN-Problem\")\n",
    "plot_timings3(filename, \"CG with upsampled initial guess from coarse solve\")\n",
    "plt.legend(loc='best')\n",
    "plt.xlim(0, 1.1)\n",
    "plt.xlabel('time in s')\n",
    "plt.ylabel('RMSE')\n",
    "plt.show()"
   ]
  },
  {
   "cell_type": "markdown",
   "metadata": {},
   "source": [
    "----------------------------\n",
    "\n",
    "### Block Gauss-Seidel"
   ]
  },
  {
   "cell_type": "code",
   "execution_count": null,
   "metadata": {
    "collapsed": false
   },
   "outputs": [],
   "source": [
    "filename = \"c:/projects/epfl/temp/multigrid/multigrid-master/checkerboard_test.mat\"\n",
    "data = scipy.io.loadmat(filename)\n",
    "coeff = 0\n",
    "numCoeffs = data[\"numCoeffs\"][0][0]\n",
    "\n",
    "image = util.extract_coefficient_field( data[\"x\"], data[\"resolution\"][0], numCoeffs, coeff )\n",
    "image = np.clip(image, 1.0e-8, np.max(image))\n",
    "\n",
    "\n",
    "fig = plt.figure(figsize=(8,8));\n",
    "ax = fig.add_subplot(111)\n",
    "#plt.title(\"Solution of LSPN0, which just has a single cofficient\")\n",
    "img_view = ax.imshow(image[:,:,0], cmap='jet', norm=LogNorm(vmin=np.min(image), vmax=np.max(image)), origin='lower')\n",
    "divider = make_axes_locatable(ax)\n",
    "cax = divider.append_axes(\"right\", size=\"5%\", pad=0.05)\n",
    "plt.colorbar(img_view, cax=cax)\n",
    "\n",
    "plt.show()\n",
    "\n",
    "fig = plt.figure(figsize=(8,8));\n",
    "ax = fig.add_subplot(111)\n",
    "plt.title(\"Equal time\")\n",
    "plot_timings3(filename, \"Multigrid with blockgs\")\n",
    "plt.legend(loc='best')\n",
    "#plt.xlim(0, 1.1)\n",
    "plt.xlim(0, 0.5)\n",
    "plt.xlabel('time in s')\n",
    "plt.ylabel('RMSE')\n",
    "plt.show()\n",
    "\n",
    "fig = plt.figure(figsize=(8,8));\n",
    "ax = fig.add_subplot(111)\n",
    "plt.title(\"Equal iteration count\")\n",
    "plot_iterations(filename, \"Multigrid with blockgs\")\n",
    "plt.legend(loc='best')\n",
    "#plt.xlim(0, 1.1)\n",
    "#plt.xlim(0, 0.5)\n",
    "plt.xlabel('time in s')\n",
    "plt.ylabel('RMSE')\n",
    "\n",
    "\n",
    "\n",
    "plt.show()"
   ]
  },
  {
   "cell_type": "markdown",
   "metadata": {
    "collapsed": true
   },
   "source": [
    "----------------------------\n",
    "\n",
    "### Classical Diffusion\n",
    "\n",
    "Another interesting experiment is to run our multigrid solver on the classical diffusion problem. Here we only have a single coefficient and therefore no coupling between multiple coefficients. Further, a multigrid solver was applied successfully in [Stam95]."
   ]
  },
  {
   "cell_type": "code",
   "execution_count": null,
   "metadata": {
    "collapsed": false
   },
   "outputs": [],
   "source": [
    "def plot_timings( filename ):\n",
    "    data = scipy.io.loadmat(filename)\n",
    "    convergence_mg = data[\"convergence_mg\"][0]\n",
    "    convergence_time_mg = data[\"timestamps_mg\"][0]\n",
    "    #convergence_gs = data[\"convergence_gs\"][0]\n",
    "    #convergence_time_gs = data[\"timestamps_gs\"][0]\n",
    "    #convergence_cg = data[\"convergence_cg\"][0]\n",
    "    #convergence_time_cg = data[\"timestamps_cg\"][0]\n",
    "    plt.semilogy( convergence_time_mg, convergence_mg, label=\"Multigrid\" )\n",
    "    #plt.semilogy( convergence_time_gs, convergence_gs, label=\"Gauss-Seidel\" )\n",
    "    #plt.semilogy( convergence_time_cg, convergence_cg, label=\"Conjugate-Gradient\" )\n",
    "def plot_timings2( filename ):\n",
    "    data = scipy.io.loadmat(filename)\n",
    "    convergence_mg = data[\"convergence_mg\"][0]\n",
    "    convergence_time_mg = data[\"timestamps_mg\"][0]\n",
    "    #convergence_mg2 = data[\"convergence_mg2\"][0]\n",
    "    #convergence_time_mg2 = data[\"timestamps_mg2\"][0]\n",
    "    convergence_gs = data[\"convergence_gs\"][0]\n",
    "    convergence_time_gs = data[\"timestamps_gs\"][0]\n",
    "    convergence_cg = data[\"convergence_cg\"][0]\n",
    "    convergence_time_cg = data[\"timestamps_cg\"][0]\n",
    "    plt.semilogy( convergence_time_mg, convergence_mg, label=\"Multigrid\" )\n",
    "    #plt.semilogy( convergence_time_mg2, convergence_mg2, label=\"Multigrid2\" )\n",
    "    plt.semilogy( convergence_time_gs, convergence_gs, label=\"Gauss-Seidel\" )\n",
    "    plt.semilogy( convergence_time_cg, convergence_cg, label=\"Conjugate-Gradient\" )\n",
    "    \n",
    "fig = plt.figure(figsize=(15,7));\n",
    "ax = fig.add_subplot(111)\n",
    "plt.title(\"Standard Poisson Problem\")\n",
    "filename = \"c:/projects/epfl/temp/multigrid/multigrid-master/poisson_test2.mat\"\n",
    "plot_timings(filename)\n",
    "plt.legend(loc='best')\n",
    "plt.xlabel('time in s')\n",
    "plt.ylabel('RMSE')\n",
    "\n",
    "#ax = fig.add_subplot(122)\n",
    "#plt.title(\"PN-Problem (checkerboard)\")\n",
    "#filename = \"c:/projects/epfl/temp/multigrid/multigrid-master/checkerboard_test.mat\"\n",
    "#plot_timings2(filename)\n",
    "#plt.legend(loc='best')\n",
    "#plt.xlabel('time in s')\n",
    "#plt.ylabel('RMSE')\n",
    "\n",
    "plt.show()"
   ]
  },
  {
   "cell_type": "code",
   "execution_count": null,
   "metadata": {
    "collapsed": false
   },
   "outputs": [],
   "source": [
    "\n",
    "\n",
    "fig = plt.figure(figsize=(15,7));\n",
    "ax = fig.add_subplot(111)\n",
    "plt.title(\"CDA - pointsource problem\")\n",
    "\n",
    "filename = \"C:/projects/epfl/epfl17/python/pnsolver/results/pointsource/pointsource_cda3.pns.mg.mat\"\n",
    "data = scipy.io.loadmat(filename)\n",
    "convergence = data[\"convergence\"][0]\n",
    "time = data[\"timestamps\"][0]\n",
    "plt.semilogy( time, convergence, label=\"Multigrid\" )\n",
    "\n",
    "filename = \"C:/projects/epfl/epfl17/python/pnsolver/results/pointsource/pointsource_cda3.pns.ls_cg.mat\"\n",
    "data = scipy.io.loadmat(filename)\n",
    "convergence = data[\"convergence\"][0]\n",
    "time = data[\"timestamps\"][0]\n",
    "plt.semilogy( time, convergence, label=\"LS CG\" )\n",
    "\n",
    "\n",
    "plt.legend(loc='best')\n",
    "plt.xlabel('time in s')\n",
    "plt.ylabel('RMSE')\n",
    "\n",
    "#ax = fig.add_subplot(122)\n",
    "#plt.title(\"PN-Problem (checkerboard)\")\n",
    "#filename = \"c:/projects/epfl/temp/multigrid/multigrid-master/checkerboard_test.mat\"\n",
    "#plot_timings2(filename)\n",
    "#plt.legend(loc='best')\n",
    "#plt.xlabel('time in s')\n",
    "#plt.ylabel('RMSE')\n",
    "\n",
    "plt.show()\n"
   ]
  },
  {
   "cell_type": "code",
   "execution_count": 2,
   "metadata": {
    "collapsed": false
   },
   "outputs": [],
   "source": [
    "pns = pnsolver.load_solution(\"C:/projects/epfl/epfl17/python/pnsolver/results/checkerboard2d/checkerboard2d_p1.pns\")"
   ]
  },
  {
   "cell_type": "code",
   "execution_count": 65,
   "metadata": {
    "collapsed": false
   },
   "outputs": [
    {
     "data": {
      "image/png": "[encoded data removed]",
      "text/plain": [
       "<matplotlib.figure.Figure at 0x165331fc438>"
      ]
     },
     "metadata": {},
     "output_type": "display_data"
    }
   ],
   "source": [
    "fig = plt.figure(figsize=(15,15));\n",
    "ax = fig.add_subplot(111)\n",
    "\n",
    "plt.title(\"nebulae dataset convergence for different minimum $\\sigma_t$ thresholds\")\n",
    "\n",
    "#filename = \"C:/projects/epfl/epfl17/python/pnsolver/results/checkerboard2d/checkerboard2d_p1.pns.ls_cg.mat\"\n",
    "#data = scipy.io.loadmat(filename)\n",
    "#convergence = data[\"convergence\"][0]\n",
    "#time = data[\"timestamps\"][0]\n",
    "#plt.semilogy( time, convergence, label=\"Multigrid\" )\n",
    "\n",
    "#filename = \"C:/projects/epfl/epfl17/python/pnsolver/results/pointsource/pointsource_p1.pns.ls_cg.mat\"\n",
    "#data = scipy.io.loadmat(filename)\n",
    "#convergence = data[\"convergence\"][0]\n",
    "#time = data[\"timestamps\"][0]\n",
    "#plt.semilogy( time, convergence, label=\"pointsource Conjugate-Gradient on normal form\" )\n",
    "\n",
    "#filename = \"C:/projects/epfl/epfl17/python/pnsolver/results/checkerboard/checkerboard_p1.pns.ls_cg.mat\"\n",
    "#data = scipy.io.loadmat(filename)\n",
    "#convergence = data[\"convergence\"][0]\n",
    "#time = data[\"timestamps\"][0]\n",
    "#plt.semilogy( time, convergence, label=\"checkerboard Conjugate-Gradient on normal form\" )\n",
    "\n",
    "\n",
    "#filename = \"C:/projects/epfl/epfl17/python/pnsolver/results/nebulae/nebulae_p1_2.pns.ls_cg.mat\"\n",
    "#data = scipy.io.loadmat(filename)\n",
    "#convergence = data[\"convergence\"][0]\n",
    "#time = data[\"timestamps\"][0]\n",
    "#plt.semilogy( time, convergence, label=\"$\\sigma_t$ min = 8.0\", color=(0.8, 0.8, 0.8) )\n",
    "\n",
    "#filename = \"C:/projects/epfl/epfl17/python/pnsolver/results/nebulae/nebulae_p1_3.pns.ls_cg.mat\"\n",
    "#data = scipy.io.loadmat(filename)\n",
    "#convergence = data[\"convergence\"][0]\n",
    "#time = data[\"timestamps\"][0]\n",
    "#plt.semilogy( time, convergence, label=\"$\\sigma_t$ min = 6.0\", color=(0.7, 0.7, 0.7) )\n",
    "\n",
    "filename = \"C:/projects/epfl/epfl17/python/pnsolver/results/nebulae/nebulae_p1_4.pns.ls_cg.mat\"\n",
    "data = scipy.io.loadmat(filename)\n",
    "convergence = data[\"convergence\"][0]\n",
    "time = data[\"timestamps\"][0]\n",
    "plt.semilogy( time, convergence, label=\"$\\sigma_t$ min = 4.0\", color=(0.5, 0.5, 0.5) )\n",
    "\n",
    "filename = \"C:/projects/epfl/epfl17/python/pnsolver/results/nebulae/nebulae_p1_5.pns.ls_cg.mat\"\n",
    "data = scipy.io.loadmat(filename)\n",
    "convergence = data[\"convergence\"][0]\n",
    "time = data[\"timestamps\"][0]\n",
    "plt.semilogy( time, convergence, label=\"$\\sigma_t$ min = 2.0\", color=(0.3, 0.3, 0.3) )\n",
    "\n",
    "filename = \"C:/projects/epfl/epfl17/python/pnsolver/results/nebulae/nebulae_p1_6.pns.ls_cg.mat\"\n",
    "data = scipy.io.loadmat(filename)\n",
    "convergence = data[\"convergence\"][0]\n",
    "time = data[\"timestamps\"][0]\n",
    "plt.semilogy( time, convergence, label=\"$\\sigma_t$ min = 1.0\", color=(0.1, 0.1, 0.1) )\n",
    "\n",
    "filename = \"C:/projects/epfl/epfl17/python/pnsolver/results/nebulae/nebulae_p1.pns.ls_cg.mat\"\n",
    "data = scipy.io.loadmat(filename)\n",
    "convergence = data[\"convergence\"][0]\n",
    "time = data[\"timestamps\"][0]\n",
    "plt.semilogy( time, convergence, label=\"$\\sigma_t$ min = 0.0\", color=(0.0, 0.0, 0.0) )\n",
    "\n",
    "#filename = \"C:/projects/epfl/epfl17/python/pnsolver/results/pointsource/pointsource_cda3.pns.ls_cg.mat\"\n",
    "#data = scipy.io.loadmat(filename)\n",
    "#convergence = data[\"convergence\"][0]\n",
    "#time = data[\"timestamps\"][0]\n",
    "#plt.semilogy( time, convergence, label=\"LS CG\" )\n",
    "\n",
    "\n",
    "#plt.legend(loc='best')\n",
    "#plt.xlabel('time in s')\n",
    "#plt.ylabel('RMSE')\n",
    "\n",
    "#ax = fig.add_subplot(122)\n",
    "#plt.title(\"PN-Problem (checkerboard)\")\n",
    "#filename = \"c:/projects/epfl/temp/multigrid/multigrid-master/checkerboard_test.mat\"\n",
    "#plot_timings2(filename)\n",
    "plt.legend(loc='best')\n",
    "#plt.xlabel('time in s')\n",
    "#plt.ylabel('RMSE')\n",
    "\n",
    "ax.annotate('$\\sigma_t$ min = 0.0', xy=(35, 1.5), xytext=(35, 1.5) )\n",
    "ax.annotate('$\\sigma_t$ min = 1.0', xy=(35, 10.0e-5), xytext=(35, 10.0e-5) )\n",
    "ax.annotate('$\\sigma_t$ min = 2.0', xy=(27, 10.0e-7), xytext=(27, 10.0e-7) )\n",
    "ax.annotate('$\\sigma_t$ min = 4.0', xy=(19, 10.0e-8), xytext=(19, 10.0e-8) )\n",
    "\n",
    "plt.show()"
   ]
  },
  {
   "cell_type": "code",
   "execution_count": null,
   "metadata": {
    "collapsed": true
   },
   "outputs": [],
   "source": []
  }
 ],
 "metadata": {
  "kernelspec": {
   "display_name": "Python 3",
   "language": "python",
   "name": "python3"
  },
  "language_info": {
   "codemirror_mode": {
    "name": "ipython",
    "version": 3
   },
   "file_extension": ".py",
   "mimetype": "text/x-python",
   "name": "python",
   "nbconvert_exporter": "python",
   "pygments_lexer": "ipython3",
   "version": "3.6.0"
  }
 },
 "nbformat": 4,
 "nbformat_minor": 2
}
