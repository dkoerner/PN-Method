{
 "cells": [
  {
   "cell_type": "markdown",
   "metadata": {},
   "source": [
    "The first order transport form is expressed in operator notation:\n",
    "\n",
    "$$\n",
    "TL + CL = SL + Q\n",
    "$$\n",
    "\n",
    "where $T$ is the transport or streaming operator which contains the directional derivative, $C$ is the collision or removal operator ($\\sigma_t(\\vec{x})$), $S$ is the scattering operator and $Q$ represents sources and emission:\n",
    "\n",
    "$$\n",
    "\\begin{align}\n",
    "T &= \\omega\\cdot\\nabla \\bullet \\\\\n",
    "C &= \\sigma_t \\bullet \\\\\n",
    "S &= \\sigma_s\\int_{\\Omega'} f_p\\left( \\omega'\\rightarrow\\omega \\right) \\bullet \\mathbf{d}\\omega'\n",
    "\\end{align}\n",
    "$$\n",
    "\n",
    "The TE can be rearranged, such that the operators are collapsed into one:\n",
    "\n",
    "$$\n",
    "(T + C - S)L = Q\n",
    "$$\n",
    "\n",
    "In order to get a second-order form, one can multiply this equation by the adjoint of $T+C-S$ (which we denote $(T+C-S)^\\star$). This gives the least-squares or normal form of the transport equation:\n",
    "\n",
    "$$\n",
    "(T + C - S)^\\star(T + C - S)L = (T + C - S)^\\star Q\n",
    "$$\n",
    "\n",
    "with\n",
    "\n",
    "$$\n",
    "\\begin{align}\n",
    "T^\\star &= -\\omega\\cdot\\nabla \\bullet \\\\\n",
    "C^\\star &= \\sigma_t \\bullet \\\\\n",
    "S^\\star &= \\frac{1}{4\\pi}\\sigma_s \\bullet\n",
    "\\end{align}\n",
    "$$\n",
    "\n",
    "under the assumption of isotropic scattering.\n",
    "\n",
    "The structure is similar to the normal form $A^T A x = A^T b$ which is the reason for the name of this form."
   ]
  },
  {
   "cell_type": "markdown",
   "metadata": {},
   "source": [
    "## TODO: derive adjoint operators properly"
   ]
  },
  {
   "cell_type": "markdown",
   "metadata": {},
   "source": [
    "Expanding the operator terms gives:\n",
    "\n",
    "$$\n",
    "\\begin{align}\n",
    "\\left(T^\\star T\\right) L +\n",
    "\\left(C^\\star T\\right) L +\n",
    "\\left(S^\\star T\\right) L +\n",
    "\\left(T^\\star C\\right) L +\n",
    "\\left(C^\\star C\\right) L +\n",
    "\\left(S^\\star C\\right) L -\n",
    "\\left(T^\\star S\\right) L -\n",
    "\\left(C^\\star S\\right) L -\n",
    "\\left(S^\\star S\\right) L &= T^\\star Q + C^\\star Q + S^\\star Q\n",
    "\\end{align}\n",
    "$$\n",
    "\n",
    "We now expand each term individually:\n",
    "$$\n",
    "\\begin{align}\n",
    "\\left(T^\\star T\\right) L &= -\\omega\\cdot\\nabla\\left(\\omega\\cdot\\nabla L\\right)\\\\\n",
    "\\left(C^\\star T\\right) L &= \\sigma_t\\left(\\omega\\cdot\\nabla L\\right)\\\\\n",
    "\\left(S^\\star T\\right) L &= \\frac{1}{4\\pi}\\sigma_s \\left(\\omega\\cdot\\nabla L\\right)\\\\\n",
    "\\left(T^\\star C\\right) L &= -\\omega\\cdot\\nabla\\left( \\sigma_t L \\right)\\\\\n",
    "\\left(C^\\star C\\right) L &= \\sigma_t^2 L\\\\\n",
    "\\left(S^\\star C\\right) L &= \\frac{1}{4\\pi}\\sigma_s\\sigma_t \\\\\n",
    "\\left(T^\\star S\\right) L &= -\\omega\\cdot\\nabla\\left(\\sigma_s\\int_{\\Omega'} f_p\\left( \\omega'\\rightarrow\\omega \\right) L \\mathbf{d}\\omega'\\right)\\\\\n",
    "\\left(C^\\star S\\right) L &= \\sigma_t \\sigma_s\\int_{\\Omega'} f_p\\left( \\omega'\\rightarrow\\omega \\right) L \\mathbf{d}\\omega'\\\\\n",
    "\\left(S^\\star S\\right) L &= \\frac{1}{16\\pi}\\sigma_s^2\\\\\n",
    "T^\\star Q &= -\\omega\\cdot\\nabla Q\\\\\n",
    "C^\\star Q &= \\sigma_t Q\\\\\n",
    "S^\\star Q &= \\frac{1}{4\\pi}\\sigma_s Q\n",
    "\\end{align}\n",
    "$$\n",
    "\n"
   ]
  },
  {
   "cell_type": "code",
   "execution_count": null,
   "metadata": {
    "collapsed": true
   },
   "outputs": [],
   "source": []
  }
 ],
 "metadata": {
  "kernelspec": {
   "display_name": "Python 3",
   "language": "python",
   "name": "python3"
  },
  "language_info": {
   "codemirror_mode": {
    "name": "ipython",
    "version": 3
   },
   "file_extension": ".py",
   "mimetype": "text/x-python",
   "name": "python",
   "nbconvert_exporter": "python",
   "pygments_lexer": "ipython3",
   "version": "3.6.0"
  }
 },
 "nbformat": 4,
 "nbformat_minor": 2
}
